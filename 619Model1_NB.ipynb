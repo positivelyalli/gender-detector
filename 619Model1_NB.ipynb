{
  "nbformat": 4,
  "nbformat_minor": 0,
  "metadata": {
    "colab": {
      "name": "619Model1_NB.ipynb",
      "provenance": [],
      "collapsed_sections": []
    },
    "kernelspec": {
      "display_name": "Python 3",
      "language": "python",
      "name": "python3"
    },
    "language_info": {
      "codemirror_mode": {
        "name": "ipython",
        "version": 3
      },
      "file_extension": ".py",
      "mimetype": "text/x-python",
      "name": "python",
      "nbconvert_exporter": "python",
      "pygments_lexer": "ipython3",
      "version": "3.7.4"
    }
  },
  "cells": [
    {
      "cell_type": "code",
      "metadata": {
        "colab_type": "code",
        "id": "4YMnAdlb5N7X",
        "colab": {}
      },
      "source": [
        "#Importing dependencies\n",
        "import pandas as pd\n",
        "import numpy as np\n",
        "import matplotlib.pyplot as plt\n",
        "from wordcloud import WordCloud, STOPWORDS\n",
        "import seaborn as sns"
      ],
      "execution_count": null,
      "outputs": []
    },
    {
      "cell_type": "code",
      "metadata": {
        "colab_type": "code",
        "id": "XgxY3ynU-4b7",
        "colab": {}
      },
      "source": [
        "#Loading data into dataframes\n",
        "character_df = pd.read_csv(\"fixed_characters.csv\") #Do we need encoding =\"latin-1\"?\n",
        "lines_df = pd.read_csv(\"fixed_lines.csv\", encoding =\"latin-1\") \n"
      ],
      "execution_count": null,
      "outputs": []
    },
    {
      "cell_type": "code",
      "metadata": {
        "colab_type": "code",
        "id": "VeGStNXVAxE5",
        "colab": {
          "base_uri": "https://localhost:8080/",
          "height": 419
        },
        "outputId": "db9ced85-169f-4444-9d22-960e3acf5a8d"
      },
      "source": [
        "lines_df"
      ],
      "execution_count": null,
      "outputs": [
        {
          "output_type": "execute_result",
          "data": {
            "text/html": [
              "<div>\n",
              "<style scoped>\n",
              "    .dataframe tbody tr th:only-of-type {\n",
              "        vertical-align: middle;\n",
              "    }\n",
              "\n",
              "    .dataframe tbody tr th {\n",
              "        vertical-align: top;\n",
              "    }\n",
              "\n",
              "    .dataframe thead th {\n",
              "        text-align: right;\n",
              "    }\n",
              "</style>\n",
              "<table border=\"1\" class=\"dataframe\">\n",
              "  <thead>\n",
              "    <tr style=\"text-align: right;\">\n",
              "      <th></th>\n",
              "      <th>Unnamed: 0</th>\n",
              "      <th>lineId</th>\n",
              "      <th>chId</th>\n",
              "      <th>mId</th>\n",
              "      <th>chName</th>\n",
              "      <th>dialogue</th>\n",
              "    </tr>\n",
              "  </thead>\n",
              "  <tbody>\n",
              "    <tr>\n",
              "      <th>0</th>\n",
              "      <td>0</td>\n",
              "      <td>L1045</td>\n",
              "      <td>u0</td>\n",
              "      <td>m0</td>\n",
              "      <td>BIANCA</td>\n",
              "      <td>They do not</td>\n",
              "    </tr>\n",
              "    <tr>\n",
              "      <th>1</th>\n",
              "      <td>1</td>\n",
              "      <td>L1044</td>\n",
              "      <td>u2</td>\n",
              "      <td>m0</td>\n",
              "      <td>CAMERON</td>\n",
              "      <td>They do to</td>\n",
              "    </tr>\n",
              "    <tr>\n",
              "      <th>2</th>\n",
              "      <td>2</td>\n",
              "      <td>L985</td>\n",
              "      <td>u0</td>\n",
              "      <td>m0</td>\n",
              "      <td>BIANCA</td>\n",
              "      <td>I hope so</td>\n",
              "    </tr>\n",
              "    <tr>\n",
              "      <th>3</th>\n",
              "      <td>3</td>\n",
              "      <td>L984</td>\n",
              "      <td>u2</td>\n",
              "      <td>m0</td>\n",
              "      <td>CAMERON</td>\n",
              "      <td>She okay</td>\n",
              "    </tr>\n",
              "    <tr>\n",
              "      <th>4</th>\n",
              "      <td>4</td>\n",
              "      <td>L925</td>\n",
              "      <td>u0</td>\n",
              "      <td>m0</td>\n",
              "      <td>BIANCA</td>\n",
              "      <td>Let's go</td>\n",
              "    </tr>\n",
              "    <tr>\n",
              "      <th>...</th>\n",
              "      <td>...</td>\n",
              "      <td>...</td>\n",
              "      <td>...</td>\n",
              "      <td>...</td>\n",
              "      <td>...</td>\n",
              "      <td>...</td>\n",
              "    </tr>\n",
              "    <tr>\n",
              "      <th>292938</th>\n",
              "      <td>293197</td>\n",
              "      <td>L666371</td>\n",
              "      <td>u9030</td>\n",
              "      <td>m616</td>\n",
              "      <td>DURNFORD</td>\n",
              "      <td>Lord Chelmsford seems to want me to stay back ...</td>\n",
              "    </tr>\n",
              "    <tr>\n",
              "      <th>292939</th>\n",
              "      <td>293198</td>\n",
              "      <td>L666370</td>\n",
              "      <td>u9034</td>\n",
              "      <td>m616</td>\n",
              "      <td>VEREKER</td>\n",
              "      <td>I'm to take the Sikali with the main column to...</td>\n",
              "    </tr>\n",
              "    <tr>\n",
              "      <th>292940</th>\n",
              "      <td>293199</td>\n",
              "      <td>L666369</td>\n",
              "      <td>u9030</td>\n",
              "      <td>m616</td>\n",
              "      <td>DURNFORD</td>\n",
              "      <td>Your orders Mr Vereker</td>\n",
              "    </tr>\n",
              "    <tr>\n",
              "      <th>292941</th>\n",
              "      <td>293200</td>\n",
              "      <td>L666257</td>\n",
              "      <td>u9030</td>\n",
              "      <td>m616</td>\n",
              "      <td>DURNFORD</td>\n",
              "      <td>Good ones yes Mr Vereker Gentlemen who can rid...</td>\n",
              "    </tr>\n",
              "    <tr>\n",
              "      <th>292942</th>\n",
              "      <td>293201</td>\n",
              "      <td>L666256</td>\n",
              "      <td>u9034</td>\n",
              "      <td>m616</td>\n",
              "      <td>VEREKER</td>\n",
              "      <td>Colonel Durnford William Vereker I hear you 'v...</td>\n",
              "    </tr>\n",
              "  </tbody>\n",
              "</table>\n",
              "<p>292943 rows × 6 columns</p>\n",
              "</div>"
            ],
            "text/plain": [
              "        Unnamed: 0  ...                                           dialogue\n",
              "0                0  ...                                        They do not\n",
              "1                1  ...                                         They do to\n",
              "2                2  ...                                          I hope so\n",
              "3                3  ...                                           She okay\n",
              "4                4  ...                                           Let's go\n",
              "...            ...  ...                                                ...\n",
              "292938      293197  ...  Lord Chelmsford seems to want me to stay back ...\n",
              "292939      293198  ...  I'm to take the Sikali with the main column to...\n",
              "292940      293199  ...                             Your orders Mr Vereker\n",
              "292941      293200  ...  Good ones yes Mr Vereker Gentlemen who can rid...\n",
              "292942      293201  ...  Colonel Durnford William Vereker I hear you 'v...\n",
              "\n",
              "[292943 rows x 6 columns]"
            ]
          },
          "metadata": {
            "tags": []
          },
          "execution_count": 53
        }
      ]
    },
    {
      "cell_type": "code",
      "metadata": {
        "id": "RcwjzrpHF_L-",
        "colab_type": "code",
        "colab": {
          "base_uri": "https://localhost:8080/",
          "height": 204
        },
        "outputId": "751a6536-5a41-49fd-fd43-5346d7d40f43"
      },
      "source": [
        "character_df.head()"
      ],
      "execution_count": null,
      "outputs": [
        {
          "output_type": "execute_result",
          "data": {
            "text/html": [
              "<div>\n",
              "<style scoped>\n",
              "    .dataframe tbody tr th:only-of-type {\n",
              "        vertical-align: middle;\n",
              "    }\n",
              "\n",
              "    .dataframe tbody tr th {\n",
              "        vertical-align: top;\n",
              "    }\n",
              "\n",
              "    .dataframe thead th {\n",
              "        text-align: right;\n",
              "    }\n",
              "</style>\n",
              "<table border=\"1\" class=\"dataframe\">\n",
              "  <thead>\n",
              "    <tr style=\"text-align: right;\">\n",
              "      <th></th>\n",
              "      <th>id</th>\n",
              "      <th>name</th>\n",
              "      <th>movie_id</th>\n",
              "      <th>title</th>\n",
              "      <th>gender</th>\n",
              "      <th>credit_position</th>\n",
              "    </tr>\n",
              "  </thead>\n",
              "  <tbody>\n",
              "    <tr>\n",
              "      <th>0</th>\n",
              "      <td>u0</td>\n",
              "      <td>BIANCA</td>\n",
              "      <td>m0</td>\n",
              "      <td>10 things i hate about you</td>\n",
              "      <td>f</td>\n",
              "      <td>4</td>\n",
              "    </tr>\n",
              "    <tr>\n",
              "      <th>1</th>\n",
              "      <td>u1</td>\n",
              "      <td>BRUCE</td>\n",
              "      <td>m0</td>\n",
              "      <td>10 things i hate about you</td>\n",
              "      <td>M</td>\n",
              "      <td>?</td>\n",
              "    </tr>\n",
              "    <tr>\n",
              "      <th>2</th>\n",
              "      <td>u2</td>\n",
              "      <td>CAMERON</td>\n",
              "      <td>m0</td>\n",
              "      <td>10 things i hate about you</td>\n",
              "      <td>m</td>\n",
              "      <td>3</td>\n",
              "    </tr>\n",
              "    <tr>\n",
              "      <th>3</th>\n",
              "      <td>u3</td>\n",
              "      <td>CHASTITY</td>\n",
              "      <td>m0</td>\n",
              "      <td>10 things i hate about you</td>\n",
              "      <td>F</td>\n",
              "      <td>?</td>\n",
              "    </tr>\n",
              "    <tr>\n",
              "      <th>4</th>\n",
              "      <td>u4</td>\n",
              "      <td>JOEY</td>\n",
              "      <td>m0</td>\n",
              "      <td>10 things i hate about you</td>\n",
              "      <td>m</td>\n",
              "      <td>6</td>\n",
              "    </tr>\n",
              "  </tbody>\n",
              "</table>\n",
              "</div>"
            ],
            "text/plain": [
              "   id      name movie_id                       title gender credit_position\n",
              "0  u0    BIANCA       m0  10 things i hate about you      f               4\n",
              "1  u1     BRUCE       m0  10 things i hate about you      M               ?\n",
              "2  u2   CAMERON       m0  10 things i hate about you      m               3\n",
              "3  u3  CHASTITY       m0  10 things i hate about you      F               ?\n",
              "4  u4      JOEY       m0  10 things i hate about you      m               6"
            ]
          },
          "metadata": {
            "tags": []
          },
          "execution_count": 196
        }
      ]
    },
    {
      "cell_type": "code",
      "metadata": {
        "id": "l7bU-zly56Gi",
        "colab_type": "code",
        "colab": {
          "base_uri": "https://localhost:8080/",
          "height": 419
        },
        "outputId": "ab0be5ae-6ada-4275-d616-eee9d1181fb5"
      },
      "source": [
        "character_df.name = character_df.name.str.lower()\n",
        "character_df"
      ],
      "execution_count": null,
      "outputs": [
        {
          "output_type": "execute_result",
          "data": {
            "text/html": [
              "<div>\n",
              "<style scoped>\n",
              "    .dataframe tbody tr th:only-of-type {\n",
              "        vertical-align: middle;\n",
              "    }\n",
              "\n",
              "    .dataframe tbody tr th {\n",
              "        vertical-align: top;\n",
              "    }\n",
              "\n",
              "    .dataframe thead th {\n",
              "        text-align: right;\n",
              "    }\n",
              "</style>\n",
              "<table border=\"1\" class=\"dataframe\">\n",
              "  <thead>\n",
              "    <tr style=\"text-align: right;\">\n",
              "      <th></th>\n",
              "      <th>id</th>\n",
              "      <th>name</th>\n",
              "      <th>movie_id</th>\n",
              "      <th>title</th>\n",
              "      <th>gender</th>\n",
              "      <th>credit_position</th>\n",
              "    </tr>\n",
              "  </thead>\n",
              "  <tbody>\n",
              "    <tr>\n",
              "      <th>0</th>\n",
              "      <td>u0</td>\n",
              "      <td>bianca</td>\n",
              "      <td>m0</td>\n",
              "      <td>10 things i hate about you</td>\n",
              "      <td>f</td>\n",
              "      <td>4</td>\n",
              "    </tr>\n",
              "    <tr>\n",
              "      <th>1</th>\n",
              "      <td>u1</td>\n",
              "      <td>bruce</td>\n",
              "      <td>m0</td>\n",
              "      <td>10 things i hate about you</td>\n",
              "      <td>M</td>\n",
              "      <td>?</td>\n",
              "    </tr>\n",
              "    <tr>\n",
              "      <th>2</th>\n",
              "      <td>u2</td>\n",
              "      <td>cameron</td>\n",
              "      <td>m0</td>\n",
              "      <td>10 things i hate about you</td>\n",
              "      <td>m</td>\n",
              "      <td>3</td>\n",
              "    </tr>\n",
              "    <tr>\n",
              "      <th>3</th>\n",
              "      <td>u3</td>\n",
              "      <td>chastity</td>\n",
              "      <td>m0</td>\n",
              "      <td>10 things i hate about you</td>\n",
              "      <td>F</td>\n",
              "      <td>?</td>\n",
              "    </tr>\n",
              "    <tr>\n",
              "      <th>4</th>\n",
              "      <td>u4</td>\n",
              "      <td>joey</td>\n",
              "      <td>m0</td>\n",
              "      <td>10 things i hate about you</td>\n",
              "      <td>m</td>\n",
              "      <td>6</td>\n",
              "    </tr>\n",
              "    <tr>\n",
              "      <th>...</th>\n",
              "      <td>...</td>\n",
              "      <td>...</td>\n",
              "      <td>...</td>\n",
              "      <td>...</td>\n",
              "      <td>...</td>\n",
              "      <td>...</td>\n",
              "    </tr>\n",
              "    <tr>\n",
              "      <th>9029</th>\n",
              "      <td>u9030</td>\n",
              "      <td>durnford</td>\n",
              "      <td>m616</td>\n",
              "      <td>zulu dawn</td>\n",
              "      <td>?</td>\n",
              "      <td>?</td>\n",
              "    </tr>\n",
              "    <tr>\n",
              "      <th>9030</th>\n",
              "      <td>u9031</td>\n",
              "      <td>melvill</td>\n",
              "      <td>m616</td>\n",
              "      <td>zulu dawn</td>\n",
              "      <td>?</td>\n",
              "      <td>?</td>\n",
              "    </tr>\n",
              "    <tr>\n",
              "      <th>9031</th>\n",
              "      <td>u9032</td>\n",
              "      <td>norris-newman</td>\n",
              "      <td>m616</td>\n",
              "      <td>zulu dawn</td>\n",
              "      <td>M</td>\n",
              "      <td>?</td>\n",
              "    </tr>\n",
              "    <tr>\n",
              "      <th>9032</th>\n",
              "      <td>u9033</td>\n",
              "      <td>stuart smith</td>\n",
              "      <td>m616</td>\n",
              "      <td>zulu dawn</td>\n",
              "      <td>?</td>\n",
              "      <td>?</td>\n",
              "    </tr>\n",
              "    <tr>\n",
              "      <th>9033</th>\n",
              "      <td>u9034</td>\n",
              "      <td>vereker</td>\n",
              "      <td>m616</td>\n",
              "      <td>zulu dawn</td>\n",
              "      <td>?</td>\n",
              "      <td>?</td>\n",
              "    </tr>\n",
              "  </tbody>\n",
              "</table>\n",
              "<p>9034 rows × 6 columns</p>\n",
              "</div>"
            ],
            "text/plain": [
              "         id           name  ... gender credit_position\n",
              "0        u0         bianca  ...      f               4\n",
              "1        u1          bruce  ...      M               ?\n",
              "2        u2        cameron  ...      m               3\n",
              "3        u3       chastity  ...      F               ?\n",
              "4        u4           joey  ...      m               6\n",
              "...     ...            ...  ...    ...             ...\n",
              "9029  u9030       durnford  ...      ?               ?\n",
              "9030  u9031        melvill  ...      ?               ?\n",
              "9031  u9032  norris-newman  ...      M               ?\n",
              "9032  u9033   stuart smith  ...      ?               ?\n",
              "9033  u9034        vereker  ...      ?               ?\n",
              "\n",
              "[9034 rows x 6 columns]"
            ]
          },
          "metadata": {
            "tags": []
          },
          "execution_count": 197
        }
      ]
    },
    {
      "cell_type": "code",
      "metadata": {
        "id": "yo26fnU3y2OS",
        "colab_type": "code",
        "colab": {}
      },
      "source": [
        "def reset_tabs(row):\n",
        "  character_id = row['id']\n",
        "  name = row['name']\n",
        "  movie_id = row['movie_id']\n",
        "  title = row['title']\n",
        "  gender = row['gender']\n",
        "  credit_position = row['credit_position']\n",
        "  if '\\t' in character_id:\n",
        "    lst = character_id.split('\\t')\n",
        "    character_id = lst[0]\n",
        "    name = lst[1]\n",
        "    movie_id = lst[2]\n",
        "    title = lst[3]\n",
        "    gender = lst[4]\n",
        "    credit_position = lst[5]\n",
        "    print(character_id)\n",
        "  series = pd.Series([character_id, name, movie_id, title, gender, credit_position])\n",
        "  return series"
      ],
      "execution_count": null,
      "outputs": []
    },
    {
      "cell_type": "code",
      "metadata": {
        "id": "zQHd3dKY2qfe",
        "colab_type": "code",
        "colab": {
          "base_uri": "https://localhost:8080/",
          "height": 306
        },
        "outputId": "76e05c22-220d-497d-b8e6-889e4a893c21"
      },
      "source": [
        "character_df = character_df.apply(reset_tabs, axis=1)"
      ],
      "execution_count": null,
      "outputs": [
        {
          "output_type": "stream",
          "text": [
            "u1602\n",
            "u1866\n",
            "u4660\n",
            "u4664\n",
            "u5011\n",
            "u6736\n",
            "u6737\n",
            "u6738\n",
            "u6739\n",
            "u6740\n",
            "u6741\n",
            "u6742\n",
            "u6743\n",
            "u7230\n",
            "u7845\n",
            "u7914\n",
            "u7917\n"
          ],
          "name": "stdout"
        }
      ]
    },
    {
      "cell_type": "code",
      "metadata": {
        "id": "4eMZJ2_o1q7E",
        "colab_type": "code",
        "colab": {
          "base_uri": "https://localhost:8080/",
          "height": 419
        },
        "outputId": "e814991b-c232-4913-ba30-a9d307ae3a58"
      },
      "source": [
        "character_df\n",
        "character_df[character_df[1].isnull()]\n",
        "character_df.dropna()"
      ],
      "execution_count": null,
      "outputs": [
        {
          "output_type": "execute_result",
          "data": {
            "text/html": [
              "<div>\n",
              "<style scoped>\n",
              "    .dataframe tbody tr th:only-of-type {\n",
              "        vertical-align: middle;\n",
              "    }\n",
              "\n",
              "    .dataframe tbody tr th {\n",
              "        vertical-align: top;\n",
              "    }\n",
              "\n",
              "    .dataframe thead th {\n",
              "        text-align: right;\n",
              "    }\n",
              "</style>\n",
              "<table border=\"1\" class=\"dataframe\">\n",
              "  <thead>\n",
              "    <tr style=\"text-align: right;\">\n",
              "      <th></th>\n",
              "      <th>0</th>\n",
              "      <th>1</th>\n",
              "      <th>2</th>\n",
              "      <th>3</th>\n",
              "      <th>4</th>\n",
              "      <th>5</th>\n",
              "    </tr>\n",
              "  </thead>\n",
              "  <tbody>\n",
              "    <tr>\n",
              "      <th>0</th>\n",
              "      <td>u0</td>\n",
              "      <td>bianca</td>\n",
              "      <td>m0</td>\n",
              "      <td>10 things i hate about you</td>\n",
              "      <td>f</td>\n",
              "      <td>4</td>\n",
              "    </tr>\n",
              "    <tr>\n",
              "      <th>1</th>\n",
              "      <td>u1</td>\n",
              "      <td>bruce</td>\n",
              "      <td>m0</td>\n",
              "      <td>10 things i hate about you</td>\n",
              "      <td>M</td>\n",
              "      <td>?</td>\n",
              "    </tr>\n",
              "    <tr>\n",
              "      <th>2</th>\n",
              "      <td>u2</td>\n",
              "      <td>cameron</td>\n",
              "      <td>m0</td>\n",
              "      <td>10 things i hate about you</td>\n",
              "      <td>m</td>\n",
              "      <td>3</td>\n",
              "    </tr>\n",
              "    <tr>\n",
              "      <th>3</th>\n",
              "      <td>u3</td>\n",
              "      <td>chastity</td>\n",
              "      <td>m0</td>\n",
              "      <td>10 things i hate about you</td>\n",
              "      <td>F</td>\n",
              "      <td>?</td>\n",
              "    </tr>\n",
              "    <tr>\n",
              "      <th>4</th>\n",
              "      <td>u4</td>\n",
              "      <td>joey</td>\n",
              "      <td>m0</td>\n",
              "      <td>10 things i hate about you</td>\n",
              "      <td>m</td>\n",
              "      <td>6</td>\n",
              "    </tr>\n",
              "    <tr>\n",
              "      <th>...</th>\n",
              "      <td>...</td>\n",
              "      <td>...</td>\n",
              "      <td>...</td>\n",
              "      <td>...</td>\n",
              "      <td>...</td>\n",
              "      <td>...</td>\n",
              "    </tr>\n",
              "    <tr>\n",
              "      <th>9029</th>\n",
              "      <td>u9030</td>\n",
              "      <td>durnford</td>\n",
              "      <td>m616</td>\n",
              "      <td>zulu dawn</td>\n",
              "      <td>?</td>\n",
              "      <td>?</td>\n",
              "    </tr>\n",
              "    <tr>\n",
              "      <th>9030</th>\n",
              "      <td>u9031</td>\n",
              "      <td>melvill</td>\n",
              "      <td>m616</td>\n",
              "      <td>zulu dawn</td>\n",
              "      <td>?</td>\n",
              "      <td>?</td>\n",
              "    </tr>\n",
              "    <tr>\n",
              "      <th>9031</th>\n",
              "      <td>u9032</td>\n",
              "      <td>norris-newman</td>\n",
              "      <td>m616</td>\n",
              "      <td>zulu dawn</td>\n",
              "      <td>M</td>\n",
              "      <td>?</td>\n",
              "    </tr>\n",
              "    <tr>\n",
              "      <th>9032</th>\n",
              "      <td>u9033</td>\n",
              "      <td>stuart smith</td>\n",
              "      <td>m616</td>\n",
              "      <td>zulu dawn</td>\n",
              "      <td>?</td>\n",
              "      <td>?</td>\n",
              "    </tr>\n",
              "    <tr>\n",
              "      <th>9033</th>\n",
              "      <td>u9034</td>\n",
              "      <td>vereker</td>\n",
              "      <td>m616</td>\n",
              "      <td>zulu dawn</td>\n",
              "      <td>?</td>\n",
              "      <td>?</td>\n",
              "    </tr>\n",
              "  </tbody>\n",
              "</table>\n",
              "<p>9032 rows × 6 columns</p>\n",
              "</div>"
            ],
            "text/plain": [
              "          0              1     2                           3  4  5\n",
              "0        u0         bianca    m0  10 things i hate about you  f  4\n",
              "1        u1          bruce    m0  10 things i hate about you  M  ?\n",
              "2        u2        cameron    m0  10 things i hate about you  m  3\n",
              "3        u3       chastity    m0  10 things i hate about you  F  ?\n",
              "4        u4           joey    m0  10 things i hate about you  m  6\n",
              "...     ...            ...   ...                         ... .. ..\n",
              "9029  u9030       durnford  m616                   zulu dawn  ?  ?\n",
              "9030  u9031        melvill  m616                   zulu dawn  ?  ?\n",
              "9031  u9032  norris-newman  m616                   zulu dawn  M  ?\n",
              "9032  u9033   stuart smith  m616                   zulu dawn  ?  ?\n",
              "9033  u9034        vereker  m616                   zulu dawn  ?  ?\n",
              "\n",
              "[9032 rows x 6 columns]"
            ]
          },
          "metadata": {
            "tags": []
          },
          "execution_count": 200
        }
      ]
    },
    {
      "cell_type": "code",
      "metadata": {
        "id": "D5Nna6oS3o29",
        "colab_type": "code",
        "colab": {
          "base_uri": "https://localhost:8080/",
          "height": 419
        },
        "outputId": "6c542729-209c-434e-94cb-456ab25e8703"
      },
      "source": [
        "character_df = character_df.rename(columns={\n",
        "    0: 'id',\n",
        "    1: 'name',\n",
        "    2: 'movie_id',\n",
        "    3: 'title',\n",
        "    4: 'gender',\n",
        "    5: 'credit_position'\n",
        "})\n",
        "\n",
        "character_df"
      ],
      "execution_count": null,
      "outputs": [
        {
          "output_type": "execute_result",
          "data": {
            "text/html": [
              "<div>\n",
              "<style scoped>\n",
              "    .dataframe tbody tr th:only-of-type {\n",
              "        vertical-align: middle;\n",
              "    }\n",
              "\n",
              "    .dataframe tbody tr th {\n",
              "        vertical-align: top;\n",
              "    }\n",
              "\n",
              "    .dataframe thead th {\n",
              "        text-align: right;\n",
              "    }\n",
              "</style>\n",
              "<table border=\"1\" class=\"dataframe\">\n",
              "  <thead>\n",
              "    <tr style=\"text-align: right;\">\n",
              "      <th></th>\n",
              "      <th>id</th>\n",
              "      <th>name</th>\n",
              "      <th>movie_id</th>\n",
              "      <th>title</th>\n",
              "      <th>gender</th>\n",
              "      <th>credit_position</th>\n",
              "    </tr>\n",
              "  </thead>\n",
              "  <tbody>\n",
              "    <tr>\n",
              "      <th>0</th>\n",
              "      <td>u0</td>\n",
              "      <td>bianca</td>\n",
              "      <td>m0</td>\n",
              "      <td>10 things i hate about you</td>\n",
              "      <td>f</td>\n",
              "      <td>4</td>\n",
              "    </tr>\n",
              "    <tr>\n",
              "      <th>1</th>\n",
              "      <td>u1</td>\n",
              "      <td>bruce</td>\n",
              "      <td>m0</td>\n",
              "      <td>10 things i hate about you</td>\n",
              "      <td>M</td>\n",
              "      <td>?</td>\n",
              "    </tr>\n",
              "    <tr>\n",
              "      <th>2</th>\n",
              "      <td>u2</td>\n",
              "      <td>cameron</td>\n",
              "      <td>m0</td>\n",
              "      <td>10 things i hate about you</td>\n",
              "      <td>m</td>\n",
              "      <td>3</td>\n",
              "    </tr>\n",
              "    <tr>\n",
              "      <th>3</th>\n",
              "      <td>u3</td>\n",
              "      <td>chastity</td>\n",
              "      <td>m0</td>\n",
              "      <td>10 things i hate about you</td>\n",
              "      <td>F</td>\n",
              "      <td>?</td>\n",
              "    </tr>\n",
              "    <tr>\n",
              "      <th>4</th>\n",
              "      <td>u4</td>\n",
              "      <td>joey</td>\n",
              "      <td>m0</td>\n",
              "      <td>10 things i hate about you</td>\n",
              "      <td>m</td>\n",
              "      <td>6</td>\n",
              "    </tr>\n",
              "    <tr>\n",
              "      <th>...</th>\n",
              "      <td>...</td>\n",
              "      <td>...</td>\n",
              "      <td>...</td>\n",
              "      <td>...</td>\n",
              "      <td>...</td>\n",
              "      <td>...</td>\n",
              "    </tr>\n",
              "    <tr>\n",
              "      <th>9029</th>\n",
              "      <td>u9030</td>\n",
              "      <td>durnford</td>\n",
              "      <td>m616</td>\n",
              "      <td>zulu dawn</td>\n",
              "      <td>?</td>\n",
              "      <td>?</td>\n",
              "    </tr>\n",
              "    <tr>\n",
              "      <th>9030</th>\n",
              "      <td>u9031</td>\n",
              "      <td>melvill</td>\n",
              "      <td>m616</td>\n",
              "      <td>zulu dawn</td>\n",
              "      <td>?</td>\n",
              "      <td>?</td>\n",
              "    </tr>\n",
              "    <tr>\n",
              "      <th>9031</th>\n",
              "      <td>u9032</td>\n",
              "      <td>norris-newman</td>\n",
              "      <td>m616</td>\n",
              "      <td>zulu dawn</td>\n",
              "      <td>M</td>\n",
              "      <td>?</td>\n",
              "    </tr>\n",
              "    <tr>\n",
              "      <th>9032</th>\n",
              "      <td>u9033</td>\n",
              "      <td>stuart smith</td>\n",
              "      <td>m616</td>\n",
              "      <td>zulu dawn</td>\n",
              "      <td>?</td>\n",
              "      <td>?</td>\n",
              "    </tr>\n",
              "    <tr>\n",
              "      <th>9033</th>\n",
              "      <td>u9034</td>\n",
              "      <td>vereker</td>\n",
              "      <td>m616</td>\n",
              "      <td>zulu dawn</td>\n",
              "      <td>?</td>\n",
              "      <td>?</td>\n",
              "    </tr>\n",
              "  </tbody>\n",
              "</table>\n",
              "<p>9034 rows × 6 columns</p>\n",
              "</div>"
            ],
            "text/plain": [
              "         id           name  ... gender credit_position\n",
              "0        u0         bianca  ...      f               4\n",
              "1        u1          bruce  ...      M               ?\n",
              "2        u2        cameron  ...      m               3\n",
              "3        u3       chastity  ...      F               ?\n",
              "4        u4           joey  ...      m               6\n",
              "...     ...            ...  ...    ...             ...\n",
              "9029  u9030       durnford  ...      ?               ?\n",
              "9030  u9031        melvill  ...      ?               ?\n",
              "9031  u9032  norris-newman  ...      M               ?\n",
              "9032  u9033   stuart smith  ...      ?               ?\n",
              "9033  u9034        vereker  ...      ?               ?\n",
              "\n",
              "[9034 rows x 6 columns]"
            ]
          },
          "metadata": {
            "tags": []
          },
          "execution_count": 201
        }
      ]
    },
    {
      "cell_type": "code",
      "metadata": {
        "id": "epk4SbZGF_MA",
        "colab_type": "code",
        "colab": {
          "base_uri": "https://localhost:8080/",
          "height": 119
        },
        "outputId": "cc580db5-ed17-476d-d4c6-4235bf8da858"
      },
      "source": [
        "character_df['gender'].value_counts()"
      ],
      "execution_count": null,
      "outputs": [
        {
          "output_type": "execute_result",
          "data": {
            "text/plain": [
              "M    2456\n",
              "?    2418\n",
              "m    1899\n",
              "F    1340\n",
              "f     921\n",
              "Name: gender, dtype: int64"
            ]
          },
          "metadata": {
            "tags": []
          },
          "execution_count": 202
        }
      ]
    },
    {
      "cell_type": "code",
      "metadata": {
        "id": "W6tOW94CF_MC",
        "colab_type": "code",
        "colab": {
          "base_uri": "https://localhost:8080/",
          "height": 136
        },
        "outputId": "cf2050cd-cfc0-4eaa-f83f-4fdbfd14fc8c"
      },
      "source": [
        "character_df.dtypes"
      ],
      "execution_count": null,
      "outputs": [
        {
          "output_type": "execute_result",
          "data": {
            "text/plain": [
              "id                 object\n",
              "name               object\n",
              "movie_id           object\n",
              "title              object\n",
              "gender             object\n",
              "credit_position    object\n",
              "dtype: object"
            ]
          },
          "metadata": {
            "tags": []
          },
          "execution_count": 203
        }
      ]
    },
    {
      "cell_type": "code",
      "metadata": {
        "id": "VUhw5wOpF_ME",
        "colab_type": "code",
        "colab": {}
      },
      "source": [
        "character_df['gender'][character_df.gender == '?'] = \"N\""
      ],
      "execution_count": null,
      "outputs": []
    },
    {
      "cell_type": "code",
      "metadata": {
        "id": "ppedFyTeHUqC",
        "colab_type": "code",
        "colab": {
          "base_uri": "https://localhost:8080/",
          "height": 119
        },
        "outputId": "2e760cf8-afae-4f78-a3a5-c65df911bb00"
      },
      "source": [
        "character_df['gender'].value_counts()"
      ],
      "execution_count": null,
      "outputs": [
        {
          "output_type": "execute_result",
          "data": {
            "text/plain": [
              "M    2456\n",
              "N    2418\n",
              "m    1899\n",
              "F    1340\n",
              "f     921\n",
              "Name: gender, dtype: int64"
            ]
          },
          "metadata": {
            "tags": []
          },
          "execution_count": 205
        }
      ]
    },
    {
      "cell_type": "code",
      "metadata": {
        "id": "gsL5l7xRF_MH",
        "colab_type": "code",
        "colab": {}
      },
      "source": [
        "character_df['gender'] = character_df['gender'].str.upper()"
      ],
      "execution_count": null,
      "outputs": []
    },
    {
      "cell_type": "code",
      "metadata": {
        "id": "v_5OybNoHWyD",
        "colab_type": "code",
        "colab": {
          "base_uri": "https://localhost:8080/",
          "height": 419
        },
        "outputId": "94a88e75-aefc-454f-a788-f29de486330f"
      },
      "source": [
        "character_df = character_df.rename(columns={\n",
        "   'id': 'chid',\n",
        "})\n",
        "character_df"
      ],
      "execution_count": null,
      "outputs": [
        {
          "output_type": "execute_result",
          "data": {
            "text/html": [
              "<div>\n",
              "<style scoped>\n",
              "    .dataframe tbody tr th:only-of-type {\n",
              "        vertical-align: middle;\n",
              "    }\n",
              "\n",
              "    .dataframe tbody tr th {\n",
              "        vertical-align: top;\n",
              "    }\n",
              "\n",
              "    .dataframe thead th {\n",
              "        text-align: right;\n",
              "    }\n",
              "</style>\n",
              "<table border=\"1\" class=\"dataframe\">\n",
              "  <thead>\n",
              "    <tr style=\"text-align: right;\">\n",
              "      <th></th>\n",
              "      <th>chid</th>\n",
              "      <th>name</th>\n",
              "      <th>movie_id</th>\n",
              "      <th>title</th>\n",
              "      <th>gender</th>\n",
              "      <th>credit_position</th>\n",
              "    </tr>\n",
              "  </thead>\n",
              "  <tbody>\n",
              "    <tr>\n",
              "      <th>0</th>\n",
              "      <td>u0</td>\n",
              "      <td>bianca</td>\n",
              "      <td>m0</td>\n",
              "      <td>10 things i hate about you</td>\n",
              "      <td>F</td>\n",
              "      <td>4</td>\n",
              "    </tr>\n",
              "    <tr>\n",
              "      <th>1</th>\n",
              "      <td>u1</td>\n",
              "      <td>bruce</td>\n",
              "      <td>m0</td>\n",
              "      <td>10 things i hate about you</td>\n",
              "      <td>M</td>\n",
              "      <td>?</td>\n",
              "    </tr>\n",
              "    <tr>\n",
              "      <th>2</th>\n",
              "      <td>u2</td>\n",
              "      <td>cameron</td>\n",
              "      <td>m0</td>\n",
              "      <td>10 things i hate about you</td>\n",
              "      <td>M</td>\n",
              "      <td>3</td>\n",
              "    </tr>\n",
              "    <tr>\n",
              "      <th>3</th>\n",
              "      <td>u3</td>\n",
              "      <td>chastity</td>\n",
              "      <td>m0</td>\n",
              "      <td>10 things i hate about you</td>\n",
              "      <td>F</td>\n",
              "      <td>?</td>\n",
              "    </tr>\n",
              "    <tr>\n",
              "      <th>4</th>\n",
              "      <td>u4</td>\n",
              "      <td>joey</td>\n",
              "      <td>m0</td>\n",
              "      <td>10 things i hate about you</td>\n",
              "      <td>M</td>\n",
              "      <td>6</td>\n",
              "    </tr>\n",
              "    <tr>\n",
              "      <th>...</th>\n",
              "      <td>...</td>\n",
              "      <td>...</td>\n",
              "      <td>...</td>\n",
              "      <td>...</td>\n",
              "      <td>...</td>\n",
              "      <td>...</td>\n",
              "    </tr>\n",
              "    <tr>\n",
              "      <th>9029</th>\n",
              "      <td>u9030</td>\n",
              "      <td>durnford</td>\n",
              "      <td>m616</td>\n",
              "      <td>zulu dawn</td>\n",
              "      <td>N</td>\n",
              "      <td>?</td>\n",
              "    </tr>\n",
              "    <tr>\n",
              "      <th>9030</th>\n",
              "      <td>u9031</td>\n",
              "      <td>melvill</td>\n",
              "      <td>m616</td>\n",
              "      <td>zulu dawn</td>\n",
              "      <td>N</td>\n",
              "      <td>?</td>\n",
              "    </tr>\n",
              "    <tr>\n",
              "      <th>9031</th>\n",
              "      <td>u9032</td>\n",
              "      <td>norris-newman</td>\n",
              "      <td>m616</td>\n",
              "      <td>zulu dawn</td>\n",
              "      <td>M</td>\n",
              "      <td>?</td>\n",
              "    </tr>\n",
              "    <tr>\n",
              "      <th>9032</th>\n",
              "      <td>u9033</td>\n",
              "      <td>stuart smith</td>\n",
              "      <td>m616</td>\n",
              "      <td>zulu dawn</td>\n",
              "      <td>N</td>\n",
              "      <td>?</td>\n",
              "    </tr>\n",
              "    <tr>\n",
              "      <th>9033</th>\n",
              "      <td>u9034</td>\n",
              "      <td>vereker</td>\n",
              "      <td>m616</td>\n",
              "      <td>zulu dawn</td>\n",
              "      <td>N</td>\n",
              "      <td>?</td>\n",
              "    </tr>\n",
              "  </tbody>\n",
              "</table>\n",
              "<p>9034 rows × 6 columns</p>\n",
              "</div>"
            ],
            "text/plain": [
              "       chid           name  ... gender credit_position\n",
              "0        u0         bianca  ...      F               4\n",
              "1        u1          bruce  ...      M               ?\n",
              "2        u2        cameron  ...      M               3\n",
              "3        u3       chastity  ...      F               ?\n",
              "4        u4           joey  ...      M               6\n",
              "...     ...            ...  ...    ...             ...\n",
              "9029  u9030       durnford  ...      N               ?\n",
              "9030  u9031        melvill  ...      N               ?\n",
              "9031  u9032  norris-newman  ...      M               ?\n",
              "9032  u9033   stuart smith  ...      N               ?\n",
              "9033  u9034        vereker  ...      N               ?\n",
              "\n",
              "[9034 rows x 6 columns]"
            ]
          },
          "metadata": {
            "tags": []
          },
          "execution_count": 207
        }
      ]
    },
    {
      "cell_type": "code",
      "metadata": {
        "id": "yW8dudT7HiYI",
        "colab_type": "code",
        "colab": {
          "base_uri": "https://localhost:8080/",
          "height": 85
        },
        "outputId": "b27c41b7-c1c3-4b02-e187-3a8681aa4dd5"
      },
      "source": [
        "gender_count = character_df['gender'].value_counts()\n",
        "gender_count"
      ],
      "execution_count": null,
      "outputs": [
        {
          "output_type": "execute_result",
          "data": {
            "text/plain": [
              "M    4355\n",
              "N    2418\n",
              "F    2261\n",
              "Name: gender, dtype: int64"
            ]
          },
          "metadata": {
            "tags": []
          },
          "execution_count": 208
        }
      ]
    },
    {
      "cell_type": "code",
      "metadata": {
        "id": "pVw3IU8rIo8N",
        "colab_type": "code",
        "colab": {
          "base_uri": "https://localhost:8080/",
          "height": 419
        },
        "outputId": "50b4d5af-4654-4c25-db5a-4be3ab880227"
      },
      "source": [
        "#Cleaning all of the hyphens out of the dialogue\n",
        "newlines_df = lines_df\n",
        "newlines_df['dialogue'] = newlines_df['dialogue'].replace('-', ' ', regex=True).astype(str)\n",
        "newlines_df"
      ],
      "execution_count": null,
      "outputs": [
        {
          "output_type": "execute_result",
          "data": {
            "text/html": [
              "<div>\n",
              "<style scoped>\n",
              "    .dataframe tbody tr th:only-of-type {\n",
              "        vertical-align: middle;\n",
              "    }\n",
              "\n",
              "    .dataframe tbody tr th {\n",
              "        vertical-align: top;\n",
              "    }\n",
              "\n",
              "    .dataframe thead th {\n",
              "        text-align: right;\n",
              "    }\n",
              "</style>\n",
              "<table border=\"1\" class=\"dataframe\">\n",
              "  <thead>\n",
              "    <tr style=\"text-align: right;\">\n",
              "      <th></th>\n",
              "      <th>Unnamed: 0</th>\n",
              "      <th>lineId</th>\n",
              "      <th>chId</th>\n",
              "      <th>mId</th>\n",
              "      <th>chName</th>\n",
              "      <th>dialogue</th>\n",
              "    </tr>\n",
              "  </thead>\n",
              "  <tbody>\n",
              "    <tr>\n",
              "      <th>0</th>\n",
              "      <td>0</td>\n",
              "      <td>L1045</td>\n",
              "      <td>u0</td>\n",
              "      <td>m0</td>\n",
              "      <td>BIANCA</td>\n",
              "      <td>They do not</td>\n",
              "    </tr>\n",
              "    <tr>\n",
              "      <th>1</th>\n",
              "      <td>1</td>\n",
              "      <td>L1044</td>\n",
              "      <td>u2</td>\n",
              "      <td>m0</td>\n",
              "      <td>CAMERON</td>\n",
              "      <td>They do to</td>\n",
              "    </tr>\n",
              "    <tr>\n",
              "      <th>2</th>\n",
              "      <td>2</td>\n",
              "      <td>L985</td>\n",
              "      <td>u0</td>\n",
              "      <td>m0</td>\n",
              "      <td>BIANCA</td>\n",
              "      <td>I hope so</td>\n",
              "    </tr>\n",
              "    <tr>\n",
              "      <th>3</th>\n",
              "      <td>3</td>\n",
              "      <td>L984</td>\n",
              "      <td>u2</td>\n",
              "      <td>m0</td>\n",
              "      <td>CAMERON</td>\n",
              "      <td>She okay</td>\n",
              "    </tr>\n",
              "    <tr>\n",
              "      <th>4</th>\n",
              "      <td>4</td>\n",
              "      <td>L925</td>\n",
              "      <td>u0</td>\n",
              "      <td>m0</td>\n",
              "      <td>BIANCA</td>\n",
              "      <td>Let's go</td>\n",
              "    </tr>\n",
              "    <tr>\n",
              "      <th>...</th>\n",
              "      <td>...</td>\n",
              "      <td>...</td>\n",
              "      <td>...</td>\n",
              "      <td>...</td>\n",
              "      <td>...</td>\n",
              "      <td>...</td>\n",
              "    </tr>\n",
              "    <tr>\n",
              "      <th>292938</th>\n",
              "      <td>293197</td>\n",
              "      <td>L666371</td>\n",
              "      <td>u9030</td>\n",
              "      <td>m616</td>\n",
              "      <td>DURNFORD</td>\n",
              "      <td>Lord Chelmsford seems to want me to stay back ...</td>\n",
              "    </tr>\n",
              "    <tr>\n",
              "      <th>292939</th>\n",
              "      <td>293198</td>\n",
              "      <td>L666370</td>\n",
              "      <td>u9034</td>\n",
              "      <td>m616</td>\n",
              "      <td>VEREKER</td>\n",
              "      <td>I'm to take the Sikali with the main column to...</td>\n",
              "    </tr>\n",
              "    <tr>\n",
              "      <th>292940</th>\n",
              "      <td>293199</td>\n",
              "      <td>L666369</td>\n",
              "      <td>u9030</td>\n",
              "      <td>m616</td>\n",
              "      <td>DURNFORD</td>\n",
              "      <td>Your orders Mr Vereker</td>\n",
              "    </tr>\n",
              "    <tr>\n",
              "      <th>292941</th>\n",
              "      <td>293200</td>\n",
              "      <td>L666257</td>\n",
              "      <td>u9030</td>\n",
              "      <td>m616</td>\n",
              "      <td>DURNFORD</td>\n",
              "      <td>Good ones yes Mr Vereker Gentlemen who can rid...</td>\n",
              "    </tr>\n",
              "    <tr>\n",
              "      <th>292942</th>\n",
              "      <td>293201</td>\n",
              "      <td>L666256</td>\n",
              "      <td>u9034</td>\n",
              "      <td>m616</td>\n",
              "      <td>VEREKER</td>\n",
              "      <td>Colonel Durnford William Vereker I hear you 'v...</td>\n",
              "    </tr>\n",
              "  </tbody>\n",
              "</table>\n",
              "<p>292943 rows × 6 columns</p>\n",
              "</div>"
            ],
            "text/plain": [
              "        Unnamed: 0  ...                                           dialogue\n",
              "0                0  ...                                        They do not\n",
              "1                1  ...                                         They do to\n",
              "2                2  ...                                          I hope so\n",
              "3                3  ...                                           She okay\n",
              "4                4  ...                                           Let's go\n",
              "...            ...  ...                                                ...\n",
              "292938      293197  ...  Lord Chelmsford seems to want me to stay back ...\n",
              "292939      293198  ...  I'm to take the Sikali with the main column to...\n",
              "292940      293199  ...                             Your orders Mr Vereker\n",
              "292941      293200  ...  Good ones yes Mr Vereker Gentlemen who can rid...\n",
              "292942      293201  ...  Colonel Durnford William Vereker I hear you 'v...\n",
              "\n",
              "[292943 rows x 6 columns]"
            ]
          },
          "metadata": {
            "tags": []
          },
          "execution_count": 209
        }
      ]
    },
    {
      "cell_type": "code",
      "metadata": {
        "id": "1byUjrIJM6zq",
        "colab_type": "code",
        "colab": {
          "base_uri": "https://localhost:8080/",
          "height": 419
        },
        "outputId": "63aa196d-951a-43dd-8c82-cc626486dd6f"
      },
      "source": [
        "#Cleaning all of the double hyphens out of the dialogue\n",
        "newlines_df['dialogue'] = newlines_df['dialogue'].replace('--', ' ', regex=True).astype(str)\n",
        "newlines_df"
      ],
      "execution_count": null,
      "outputs": [
        {
          "output_type": "execute_result",
          "data": {
            "text/html": [
              "<div>\n",
              "<style scoped>\n",
              "    .dataframe tbody tr th:only-of-type {\n",
              "        vertical-align: middle;\n",
              "    }\n",
              "\n",
              "    .dataframe tbody tr th {\n",
              "        vertical-align: top;\n",
              "    }\n",
              "\n",
              "    .dataframe thead th {\n",
              "        text-align: right;\n",
              "    }\n",
              "</style>\n",
              "<table border=\"1\" class=\"dataframe\">\n",
              "  <thead>\n",
              "    <tr style=\"text-align: right;\">\n",
              "      <th></th>\n",
              "      <th>Unnamed: 0</th>\n",
              "      <th>lineId</th>\n",
              "      <th>chId</th>\n",
              "      <th>mId</th>\n",
              "      <th>chName</th>\n",
              "      <th>dialogue</th>\n",
              "    </tr>\n",
              "  </thead>\n",
              "  <tbody>\n",
              "    <tr>\n",
              "      <th>0</th>\n",
              "      <td>0</td>\n",
              "      <td>L1045</td>\n",
              "      <td>u0</td>\n",
              "      <td>m0</td>\n",
              "      <td>BIANCA</td>\n",
              "      <td>They do not</td>\n",
              "    </tr>\n",
              "    <tr>\n",
              "      <th>1</th>\n",
              "      <td>1</td>\n",
              "      <td>L1044</td>\n",
              "      <td>u2</td>\n",
              "      <td>m0</td>\n",
              "      <td>CAMERON</td>\n",
              "      <td>They do to</td>\n",
              "    </tr>\n",
              "    <tr>\n",
              "      <th>2</th>\n",
              "      <td>2</td>\n",
              "      <td>L985</td>\n",
              "      <td>u0</td>\n",
              "      <td>m0</td>\n",
              "      <td>BIANCA</td>\n",
              "      <td>I hope so</td>\n",
              "    </tr>\n",
              "    <tr>\n",
              "      <th>3</th>\n",
              "      <td>3</td>\n",
              "      <td>L984</td>\n",
              "      <td>u2</td>\n",
              "      <td>m0</td>\n",
              "      <td>CAMERON</td>\n",
              "      <td>She okay</td>\n",
              "    </tr>\n",
              "    <tr>\n",
              "      <th>4</th>\n",
              "      <td>4</td>\n",
              "      <td>L925</td>\n",
              "      <td>u0</td>\n",
              "      <td>m0</td>\n",
              "      <td>BIANCA</td>\n",
              "      <td>Let's go</td>\n",
              "    </tr>\n",
              "    <tr>\n",
              "      <th>...</th>\n",
              "      <td>...</td>\n",
              "      <td>...</td>\n",
              "      <td>...</td>\n",
              "      <td>...</td>\n",
              "      <td>...</td>\n",
              "      <td>...</td>\n",
              "    </tr>\n",
              "    <tr>\n",
              "      <th>292938</th>\n",
              "      <td>293197</td>\n",
              "      <td>L666371</td>\n",
              "      <td>u9030</td>\n",
              "      <td>m616</td>\n",
              "      <td>DURNFORD</td>\n",
              "      <td>Lord Chelmsford seems to want me to stay back ...</td>\n",
              "    </tr>\n",
              "    <tr>\n",
              "      <th>292939</th>\n",
              "      <td>293198</td>\n",
              "      <td>L666370</td>\n",
              "      <td>u9034</td>\n",
              "      <td>m616</td>\n",
              "      <td>VEREKER</td>\n",
              "      <td>I'm to take the Sikali with the main column to...</td>\n",
              "    </tr>\n",
              "    <tr>\n",
              "      <th>292940</th>\n",
              "      <td>293199</td>\n",
              "      <td>L666369</td>\n",
              "      <td>u9030</td>\n",
              "      <td>m616</td>\n",
              "      <td>DURNFORD</td>\n",
              "      <td>Your orders Mr Vereker</td>\n",
              "    </tr>\n",
              "    <tr>\n",
              "      <th>292941</th>\n",
              "      <td>293200</td>\n",
              "      <td>L666257</td>\n",
              "      <td>u9030</td>\n",
              "      <td>m616</td>\n",
              "      <td>DURNFORD</td>\n",
              "      <td>Good ones yes Mr Vereker Gentlemen who can rid...</td>\n",
              "    </tr>\n",
              "    <tr>\n",
              "      <th>292942</th>\n",
              "      <td>293201</td>\n",
              "      <td>L666256</td>\n",
              "      <td>u9034</td>\n",
              "      <td>m616</td>\n",
              "      <td>VEREKER</td>\n",
              "      <td>Colonel Durnford William Vereker I hear you 'v...</td>\n",
              "    </tr>\n",
              "  </tbody>\n",
              "</table>\n",
              "<p>292943 rows × 6 columns</p>\n",
              "</div>"
            ],
            "text/plain": [
              "        Unnamed: 0  ...                                           dialogue\n",
              "0                0  ...                                        They do not\n",
              "1                1  ...                                         They do to\n",
              "2                2  ...                                          I hope so\n",
              "3                3  ...                                           She okay\n",
              "4                4  ...                                           Let's go\n",
              "...            ...  ...                                                ...\n",
              "292938      293197  ...  Lord Chelmsford seems to want me to stay back ...\n",
              "292939      293198  ...  I'm to take the Sikali with the main column to...\n",
              "292940      293199  ...                             Your orders Mr Vereker\n",
              "292941      293200  ...  Good ones yes Mr Vereker Gentlemen who can rid...\n",
              "292942      293201  ...  Colonel Durnford William Vereker I hear you 'v...\n",
              "\n",
              "[292943 rows x 6 columns]"
            ]
          },
          "metadata": {
            "tags": []
          },
          "execution_count": 210
        }
      ]
    },
    {
      "cell_type": "code",
      "metadata": {
        "id": "C78I1Dm-MgHl",
        "colab_type": "code",
        "colab": {
          "base_uri": "https://localhost:8080/",
          "height": 221
        },
        "outputId": "94de02a9-055f-4f1b-fd64-40f2d7357c7f"
      },
      "source": [
        "# testing to see if they were replaced\n",
        "newlines_df['dialogue'].str.findall('--').value_counts"
      ],
      "execution_count": null,
      "outputs": [
        {
          "output_type": "execute_result",
          "data": {
            "text/plain": [
              "<bound method IndexOpsMixin.value_counts of 0         []\n",
              "1         []\n",
              "2         []\n",
              "3         []\n",
              "4         []\n",
              "          ..\n",
              "292938    []\n",
              "292939    []\n",
              "292940    []\n",
              "292941    []\n",
              "292942    []\n",
              "Name: dialogue, Length: 292943, dtype: object>"
            ]
          },
          "metadata": {
            "tags": []
          },
          "execution_count": 211
        }
      ]
    },
    {
      "cell_type": "code",
      "metadata": {
        "id": "PYCCc5RaOlHb",
        "colab_type": "code",
        "colab": {
          "base_uri": "https://localhost:8080/",
          "height": 419
        },
        "outputId": "e79f4fea-d84d-4bac-b1ad-46bc985fd547"
      },
      "source": [
        "newlines_df = newlines_df[['lineId', 'chId', 'mId', 'chName', 'dialogue']]\n",
        "newlines_df"
      ],
      "execution_count": null,
      "outputs": [
        {
          "output_type": "execute_result",
          "data": {
            "text/html": [
              "<div>\n",
              "<style scoped>\n",
              "    .dataframe tbody tr th:only-of-type {\n",
              "        vertical-align: middle;\n",
              "    }\n",
              "\n",
              "    .dataframe tbody tr th {\n",
              "        vertical-align: top;\n",
              "    }\n",
              "\n",
              "    .dataframe thead th {\n",
              "        text-align: right;\n",
              "    }\n",
              "</style>\n",
              "<table border=\"1\" class=\"dataframe\">\n",
              "  <thead>\n",
              "    <tr style=\"text-align: right;\">\n",
              "      <th></th>\n",
              "      <th>lineId</th>\n",
              "      <th>chId</th>\n",
              "      <th>mId</th>\n",
              "      <th>chName</th>\n",
              "      <th>dialogue</th>\n",
              "    </tr>\n",
              "  </thead>\n",
              "  <tbody>\n",
              "    <tr>\n",
              "      <th>0</th>\n",
              "      <td>L1045</td>\n",
              "      <td>u0</td>\n",
              "      <td>m0</td>\n",
              "      <td>BIANCA</td>\n",
              "      <td>They do not</td>\n",
              "    </tr>\n",
              "    <tr>\n",
              "      <th>1</th>\n",
              "      <td>L1044</td>\n",
              "      <td>u2</td>\n",
              "      <td>m0</td>\n",
              "      <td>CAMERON</td>\n",
              "      <td>They do to</td>\n",
              "    </tr>\n",
              "    <tr>\n",
              "      <th>2</th>\n",
              "      <td>L985</td>\n",
              "      <td>u0</td>\n",
              "      <td>m0</td>\n",
              "      <td>BIANCA</td>\n",
              "      <td>I hope so</td>\n",
              "    </tr>\n",
              "    <tr>\n",
              "      <th>3</th>\n",
              "      <td>L984</td>\n",
              "      <td>u2</td>\n",
              "      <td>m0</td>\n",
              "      <td>CAMERON</td>\n",
              "      <td>She okay</td>\n",
              "    </tr>\n",
              "    <tr>\n",
              "      <th>4</th>\n",
              "      <td>L925</td>\n",
              "      <td>u0</td>\n",
              "      <td>m0</td>\n",
              "      <td>BIANCA</td>\n",
              "      <td>Let's go</td>\n",
              "    </tr>\n",
              "    <tr>\n",
              "      <th>...</th>\n",
              "      <td>...</td>\n",
              "      <td>...</td>\n",
              "      <td>...</td>\n",
              "      <td>...</td>\n",
              "      <td>...</td>\n",
              "    </tr>\n",
              "    <tr>\n",
              "      <th>292938</th>\n",
              "      <td>L666371</td>\n",
              "      <td>u9030</td>\n",
              "      <td>m616</td>\n",
              "      <td>DURNFORD</td>\n",
              "      <td>Lord Chelmsford seems to want me to stay back ...</td>\n",
              "    </tr>\n",
              "    <tr>\n",
              "      <th>292939</th>\n",
              "      <td>L666370</td>\n",
              "      <td>u9034</td>\n",
              "      <td>m616</td>\n",
              "      <td>VEREKER</td>\n",
              "      <td>I'm to take the Sikali with the main column to...</td>\n",
              "    </tr>\n",
              "    <tr>\n",
              "      <th>292940</th>\n",
              "      <td>L666369</td>\n",
              "      <td>u9030</td>\n",
              "      <td>m616</td>\n",
              "      <td>DURNFORD</td>\n",
              "      <td>Your orders Mr Vereker</td>\n",
              "    </tr>\n",
              "    <tr>\n",
              "      <th>292941</th>\n",
              "      <td>L666257</td>\n",
              "      <td>u9030</td>\n",
              "      <td>m616</td>\n",
              "      <td>DURNFORD</td>\n",
              "      <td>Good ones yes Mr Vereker Gentlemen who can rid...</td>\n",
              "    </tr>\n",
              "    <tr>\n",
              "      <th>292942</th>\n",
              "      <td>L666256</td>\n",
              "      <td>u9034</td>\n",
              "      <td>m616</td>\n",
              "      <td>VEREKER</td>\n",
              "      <td>Colonel Durnford William Vereker I hear you 'v...</td>\n",
              "    </tr>\n",
              "  </tbody>\n",
              "</table>\n",
              "<p>292943 rows × 5 columns</p>\n",
              "</div>"
            ],
            "text/plain": [
              "         lineId  ...                                           dialogue\n",
              "0         L1045  ...                                        They do not\n",
              "1         L1044  ...                                         They do to\n",
              "2          L985  ...                                          I hope so\n",
              "3          L984  ...                                           She okay\n",
              "4          L925  ...                                           Let's go\n",
              "...         ...  ...                                                ...\n",
              "292938  L666371  ...  Lord Chelmsford seems to want me to stay back ...\n",
              "292939  L666370  ...  I'm to take the Sikali with the main column to...\n",
              "292940  L666369  ...                             Your orders Mr Vereker\n",
              "292941  L666257  ...  Good ones yes Mr Vereker Gentlemen who can rid...\n",
              "292942  L666256  ...  Colonel Durnford William Vereker I hear you 'v...\n",
              "\n",
              "[292943 rows x 5 columns]"
            ]
          },
          "metadata": {
            "tags": []
          },
          "execution_count": 212
        }
      ]
    },
    {
      "cell_type": "code",
      "metadata": {
        "id": "PYhDzj4eRfS_",
        "colab_type": "code",
        "colab": {
          "base_uri": "https://localhost:8080/",
          "height": 419
        },
        "outputId": "3a37837c-ca3e-49d9-f6df-85a85525d2ea"
      },
      "source": [
        "newlines_df = newlines_df.rename(columns={\n",
        "   'chId': 'chid',\n",
        "})\n",
        "newlines_df"
      ],
      "execution_count": null,
      "outputs": [
        {
          "output_type": "execute_result",
          "data": {
            "text/html": [
              "<div>\n",
              "<style scoped>\n",
              "    .dataframe tbody tr th:only-of-type {\n",
              "        vertical-align: middle;\n",
              "    }\n",
              "\n",
              "    .dataframe tbody tr th {\n",
              "        vertical-align: top;\n",
              "    }\n",
              "\n",
              "    .dataframe thead th {\n",
              "        text-align: right;\n",
              "    }\n",
              "</style>\n",
              "<table border=\"1\" class=\"dataframe\">\n",
              "  <thead>\n",
              "    <tr style=\"text-align: right;\">\n",
              "      <th></th>\n",
              "      <th>lineId</th>\n",
              "      <th>chid</th>\n",
              "      <th>mId</th>\n",
              "      <th>chName</th>\n",
              "      <th>dialogue</th>\n",
              "    </tr>\n",
              "  </thead>\n",
              "  <tbody>\n",
              "    <tr>\n",
              "      <th>0</th>\n",
              "      <td>L1045</td>\n",
              "      <td>u0</td>\n",
              "      <td>m0</td>\n",
              "      <td>BIANCA</td>\n",
              "      <td>They do not</td>\n",
              "    </tr>\n",
              "    <tr>\n",
              "      <th>1</th>\n",
              "      <td>L1044</td>\n",
              "      <td>u2</td>\n",
              "      <td>m0</td>\n",
              "      <td>CAMERON</td>\n",
              "      <td>They do to</td>\n",
              "    </tr>\n",
              "    <tr>\n",
              "      <th>2</th>\n",
              "      <td>L985</td>\n",
              "      <td>u0</td>\n",
              "      <td>m0</td>\n",
              "      <td>BIANCA</td>\n",
              "      <td>I hope so</td>\n",
              "    </tr>\n",
              "    <tr>\n",
              "      <th>3</th>\n",
              "      <td>L984</td>\n",
              "      <td>u2</td>\n",
              "      <td>m0</td>\n",
              "      <td>CAMERON</td>\n",
              "      <td>She okay</td>\n",
              "    </tr>\n",
              "    <tr>\n",
              "      <th>4</th>\n",
              "      <td>L925</td>\n",
              "      <td>u0</td>\n",
              "      <td>m0</td>\n",
              "      <td>BIANCA</td>\n",
              "      <td>Let's go</td>\n",
              "    </tr>\n",
              "    <tr>\n",
              "      <th>...</th>\n",
              "      <td>...</td>\n",
              "      <td>...</td>\n",
              "      <td>...</td>\n",
              "      <td>...</td>\n",
              "      <td>...</td>\n",
              "    </tr>\n",
              "    <tr>\n",
              "      <th>292938</th>\n",
              "      <td>L666371</td>\n",
              "      <td>u9030</td>\n",
              "      <td>m616</td>\n",
              "      <td>DURNFORD</td>\n",
              "      <td>Lord Chelmsford seems to want me to stay back ...</td>\n",
              "    </tr>\n",
              "    <tr>\n",
              "      <th>292939</th>\n",
              "      <td>L666370</td>\n",
              "      <td>u9034</td>\n",
              "      <td>m616</td>\n",
              "      <td>VEREKER</td>\n",
              "      <td>I'm to take the Sikali with the main column to...</td>\n",
              "    </tr>\n",
              "    <tr>\n",
              "      <th>292940</th>\n",
              "      <td>L666369</td>\n",
              "      <td>u9030</td>\n",
              "      <td>m616</td>\n",
              "      <td>DURNFORD</td>\n",
              "      <td>Your orders Mr Vereker</td>\n",
              "    </tr>\n",
              "    <tr>\n",
              "      <th>292941</th>\n",
              "      <td>L666257</td>\n",
              "      <td>u9030</td>\n",
              "      <td>m616</td>\n",
              "      <td>DURNFORD</td>\n",
              "      <td>Good ones yes Mr Vereker Gentlemen who can rid...</td>\n",
              "    </tr>\n",
              "    <tr>\n",
              "      <th>292942</th>\n",
              "      <td>L666256</td>\n",
              "      <td>u9034</td>\n",
              "      <td>m616</td>\n",
              "      <td>VEREKER</td>\n",
              "      <td>Colonel Durnford William Vereker I hear you 'v...</td>\n",
              "    </tr>\n",
              "  </tbody>\n",
              "</table>\n",
              "<p>292943 rows × 5 columns</p>\n",
              "</div>"
            ],
            "text/plain": [
              "         lineId  ...                                           dialogue\n",
              "0         L1045  ...                                        They do not\n",
              "1         L1044  ...                                         They do to\n",
              "2          L985  ...                                          I hope so\n",
              "3          L984  ...                                           She okay\n",
              "4          L925  ...                                           Let's go\n",
              "...         ...  ...                                                ...\n",
              "292938  L666371  ...  Lord Chelmsford seems to want me to stay back ...\n",
              "292939  L666370  ...  I'm to take the Sikali with the main column to...\n",
              "292940  L666369  ...                             Your orders Mr Vereker\n",
              "292941  L666257  ...  Good ones yes Mr Vereker Gentlemen who can rid...\n",
              "292942  L666256  ...  Colonel Durnford William Vereker I hear you 'v...\n",
              "\n",
              "[292943 rows x 5 columns]"
            ]
          },
          "metadata": {
            "tags": []
          },
          "execution_count": 213
        }
      ]
    },
    {
      "cell_type": "code",
      "metadata": {
        "id": "KbDQv872HkU6",
        "colab_type": "code",
        "colab": {
          "base_uri": "https://localhost:8080/",
          "height": 204
        },
        "outputId": "c8bab1c3-ea24-41bf-a062-312b39d81f4c"
      },
      "source": [
        "#Merge the datasets so that every line has a gender associated with it\n",
        "characterline_df = newlines_df.merge(character_df, on='chid', how='left')\n",
        "characterline_df.head()"
      ],
      "execution_count": null,
      "outputs": [
        {
          "output_type": "execute_result",
          "data": {
            "text/html": [
              "<div>\n",
              "<style scoped>\n",
              "    .dataframe tbody tr th:only-of-type {\n",
              "        vertical-align: middle;\n",
              "    }\n",
              "\n",
              "    .dataframe tbody tr th {\n",
              "        vertical-align: top;\n",
              "    }\n",
              "\n",
              "    .dataframe thead th {\n",
              "        text-align: right;\n",
              "    }\n",
              "</style>\n",
              "<table border=\"1\" class=\"dataframe\">\n",
              "  <thead>\n",
              "    <tr style=\"text-align: right;\">\n",
              "      <th></th>\n",
              "      <th>lineId</th>\n",
              "      <th>chid</th>\n",
              "      <th>mId</th>\n",
              "      <th>chName</th>\n",
              "      <th>dialogue</th>\n",
              "      <th>name</th>\n",
              "      <th>movie_id</th>\n",
              "      <th>title</th>\n",
              "      <th>gender</th>\n",
              "      <th>credit_position</th>\n",
              "    </tr>\n",
              "  </thead>\n",
              "  <tbody>\n",
              "    <tr>\n",
              "      <th>0</th>\n",
              "      <td>L1045</td>\n",
              "      <td>u0</td>\n",
              "      <td>m0</td>\n",
              "      <td>BIANCA</td>\n",
              "      <td>They do not</td>\n",
              "      <td>bianca</td>\n",
              "      <td>m0</td>\n",
              "      <td>10 things i hate about you</td>\n",
              "      <td>F</td>\n",
              "      <td>4</td>\n",
              "    </tr>\n",
              "    <tr>\n",
              "      <th>1</th>\n",
              "      <td>L1044</td>\n",
              "      <td>u2</td>\n",
              "      <td>m0</td>\n",
              "      <td>CAMERON</td>\n",
              "      <td>They do to</td>\n",
              "      <td>cameron</td>\n",
              "      <td>m0</td>\n",
              "      <td>10 things i hate about you</td>\n",
              "      <td>M</td>\n",
              "      <td>3</td>\n",
              "    </tr>\n",
              "    <tr>\n",
              "      <th>2</th>\n",
              "      <td>L985</td>\n",
              "      <td>u0</td>\n",
              "      <td>m0</td>\n",
              "      <td>BIANCA</td>\n",
              "      <td>I hope so</td>\n",
              "      <td>bianca</td>\n",
              "      <td>m0</td>\n",
              "      <td>10 things i hate about you</td>\n",
              "      <td>F</td>\n",
              "      <td>4</td>\n",
              "    </tr>\n",
              "    <tr>\n",
              "      <th>3</th>\n",
              "      <td>L984</td>\n",
              "      <td>u2</td>\n",
              "      <td>m0</td>\n",
              "      <td>CAMERON</td>\n",
              "      <td>She okay</td>\n",
              "      <td>cameron</td>\n",
              "      <td>m0</td>\n",
              "      <td>10 things i hate about you</td>\n",
              "      <td>M</td>\n",
              "      <td>3</td>\n",
              "    </tr>\n",
              "    <tr>\n",
              "      <th>4</th>\n",
              "      <td>L925</td>\n",
              "      <td>u0</td>\n",
              "      <td>m0</td>\n",
              "      <td>BIANCA</td>\n",
              "      <td>Let's go</td>\n",
              "      <td>bianca</td>\n",
              "      <td>m0</td>\n",
              "      <td>10 things i hate about you</td>\n",
              "      <td>F</td>\n",
              "      <td>4</td>\n",
              "    </tr>\n",
              "  </tbody>\n",
              "</table>\n",
              "</div>"
            ],
            "text/plain": [
              "  lineId chid mId  ...                       title gender credit_position\n",
              "0  L1045   u0  m0  ...  10 things i hate about you      F               4\n",
              "1  L1044   u2  m0  ...  10 things i hate about you      M               3\n",
              "2   L985   u0  m0  ...  10 things i hate about you      F               4\n",
              "3   L984   u2  m0  ...  10 things i hate about you      M               3\n",
              "4   L925   u0  m0  ...  10 things i hate about you      F               4\n",
              "\n",
              "[5 rows x 10 columns]"
            ]
          },
          "metadata": {
            "tags": []
          },
          "execution_count": 214
        }
      ]
    },
    {
      "cell_type": "code",
      "metadata": {
        "id": "aK6Jb-Rhf3A4",
        "colab_type": "code",
        "colab": {
          "base_uri": "https://localhost:8080/",
          "height": 541
        },
        "outputId": "08ff2f2e-bdd0-4c00-b650-cce9d15e7a1c"
      },
      "source": [
        "slim_df = characterline_df[['dialogue', 'gender']]\n",
        "slim_df['dialogue'] = slim_df['dialogue'].apply(lambda x: x.lower())\n",
        "slim_df"
      ],
      "execution_count": null,
      "outputs": [
        {
          "output_type": "stream",
          "text": [
            "/usr/local/lib/python3.6/dist-packages/ipykernel_launcher.py:2: SettingWithCopyWarning: \n",
            "A value is trying to be set on a copy of a slice from a DataFrame.\n",
            "Try using .loc[row_indexer,col_indexer] = value instead\n",
            "\n",
            "See the caveats in the documentation: https://pandas.pydata.org/pandas-docs/stable/user_guide/indexing.html#returning-a-view-versus-a-copy\n",
            "  \n"
          ],
          "name": "stderr"
        },
        {
          "output_type": "execute_result",
          "data": {
            "text/html": [
              "<div>\n",
              "<style scoped>\n",
              "    .dataframe tbody tr th:only-of-type {\n",
              "        vertical-align: middle;\n",
              "    }\n",
              "\n",
              "    .dataframe tbody tr th {\n",
              "        vertical-align: top;\n",
              "    }\n",
              "\n",
              "    .dataframe thead th {\n",
              "        text-align: right;\n",
              "    }\n",
              "</style>\n",
              "<table border=\"1\" class=\"dataframe\">\n",
              "  <thead>\n",
              "    <tr style=\"text-align: right;\">\n",
              "      <th></th>\n",
              "      <th>dialogue</th>\n",
              "      <th>gender</th>\n",
              "    </tr>\n",
              "  </thead>\n",
              "  <tbody>\n",
              "    <tr>\n",
              "      <th>0</th>\n",
              "      <td>they do not</td>\n",
              "      <td>F</td>\n",
              "    </tr>\n",
              "    <tr>\n",
              "      <th>1</th>\n",
              "      <td>they do to</td>\n",
              "      <td>M</td>\n",
              "    </tr>\n",
              "    <tr>\n",
              "      <th>2</th>\n",
              "      <td>i hope so</td>\n",
              "      <td>F</td>\n",
              "    </tr>\n",
              "    <tr>\n",
              "      <th>3</th>\n",
              "      <td>she okay</td>\n",
              "      <td>M</td>\n",
              "    </tr>\n",
              "    <tr>\n",
              "      <th>4</th>\n",
              "      <td>let's go</td>\n",
              "      <td>F</td>\n",
              "    </tr>\n",
              "    <tr>\n",
              "      <th>...</th>\n",
              "      <td>...</td>\n",
              "      <td>...</td>\n",
              "    </tr>\n",
              "    <tr>\n",
              "      <th>292938</th>\n",
              "      <td>lord chelmsford seems to want me to stay back ...</td>\n",
              "      <td>N</td>\n",
              "    </tr>\n",
              "    <tr>\n",
              "      <th>292939</th>\n",
              "      <td>i'm to take the sikali with the main column to...</td>\n",
              "      <td>N</td>\n",
              "    </tr>\n",
              "    <tr>\n",
              "      <th>292940</th>\n",
              "      <td>your orders mr vereker</td>\n",
              "      <td>N</td>\n",
              "    </tr>\n",
              "    <tr>\n",
              "      <th>292941</th>\n",
              "      <td>good ones yes mr vereker gentlemen who can rid...</td>\n",
              "      <td>N</td>\n",
              "    </tr>\n",
              "    <tr>\n",
              "      <th>292942</th>\n",
              "      <td>colonel durnford william vereker i hear you 'v...</td>\n",
              "      <td>N</td>\n",
              "    </tr>\n",
              "  </tbody>\n",
              "</table>\n",
              "<p>292943 rows × 2 columns</p>\n",
              "</div>"
            ],
            "text/plain": [
              "                                                 dialogue gender\n",
              "0                                             they do not      F\n",
              "1                                              they do to      M\n",
              "2                                               i hope so      F\n",
              "3                                                she okay      M\n",
              "4                                                let's go      F\n",
              "...                                                   ...    ...\n",
              "292938  lord chelmsford seems to want me to stay back ...      N\n",
              "292939  i'm to take the sikali with the main column to...      N\n",
              "292940                             your orders mr vereker      N\n",
              "292941  good ones yes mr vereker gentlemen who can rid...      N\n",
              "292942  colonel durnford william vereker i hear you 'v...      N\n",
              "\n",
              "[292943 rows x 2 columns]"
            ]
          },
          "metadata": {
            "tags": []
          },
          "execution_count": 216
        }
      ]
    },
    {
      "cell_type": "code",
      "metadata": {
        "id": "gJ6ysmbMmMj4",
        "colab_type": "code",
        "colab": {
          "base_uri": "https://localhost:8080/",
          "height": 122
        },
        "outputId": "bf091826-3e13-4fe8-fd19-09bcaef2bcbc"
      },
      "source": [
        "slim_df.gender.fillna('N', inplace =True)\n"
      ],
      "execution_count": null,
      "outputs": [
        {
          "output_type": "stream",
          "text": [
            "/usr/local/lib/python3.6/dist-packages/pandas/core/generic.py:6245: SettingWithCopyWarning: \n",
            "A value is trying to be set on a copy of a slice from a DataFrame\n",
            "\n",
            "See the caveats in the documentation: https://pandas.pydata.org/pandas-docs/stable/user_guide/indexing.html#returning-a-view-versus-a-copy\n",
            "  self._update_inplace(new_data)\n"
          ],
          "name": "stderr"
        }
      ]
    },
    {
      "cell_type": "code",
      "metadata": {
        "id": "r7VogzfMnKUZ",
        "colab_type": "code",
        "colab": {
          "base_uri": "https://localhost:8080/",
          "height": 34
        },
        "outputId": "d02f8136-6e5d-4a2d-e885-0ed4fa1e4372"
      },
      "source": [
        "slim_df.gender.isna().sum()"
      ],
      "execution_count": null,
      "outputs": [
        {
          "output_type": "execute_result",
          "data": {
            "text/plain": [
              "0"
            ]
          },
          "metadata": {
            "tags": []
          },
          "execution_count": 218
        }
      ]
    },
    {
      "cell_type": "code",
      "metadata": {
        "id": "1i_V3jCwkcP6",
        "colab_type": "code",
        "colab": {
          "base_uri": "https://localhost:8080/",
          "height": 745
        },
        "outputId": "1fb34810-cf1e-4299-c4b1-b5f9abea6359"
      },
      "source": [
        "# slim_df.gender = [ 1 if each == 'f' elif each == 'M'{ slim_df.gender = 2} else 0 for each data.gender]\n",
        "slim_df['gender'] = slim_df['gender'].replace('M', 0, regex=True)\n",
        "slim_df['gender'] = slim_df['gender'].replace('F', 1, regex=True)\n",
        "slim_df['gender'] = slim_df['gender'].replace('N', 2, regex=True)\n",
        "slim_df"
      ],
      "execution_count": null,
      "outputs": [
        {
          "output_type": "stream",
          "text": [
            "/usr/local/lib/python3.6/dist-packages/ipykernel_launcher.py:1: SettingWithCopyWarning: \n",
            "A value is trying to be set on a copy of a slice from a DataFrame.\n",
            "Try using .loc[row_indexer,col_indexer] = value instead\n",
            "\n",
            "See the caveats in the documentation: https://pandas.pydata.org/pandas-docs/stable/user_guide/indexing.html#returning-a-view-versus-a-copy\n",
            "  \"\"\"Entry point for launching an IPython kernel.\n",
            "/usr/local/lib/python3.6/dist-packages/ipykernel_launcher.py:2: SettingWithCopyWarning: \n",
            "A value is trying to be set on a copy of a slice from a DataFrame.\n",
            "Try using .loc[row_indexer,col_indexer] = value instead\n",
            "\n",
            "See the caveats in the documentation: https://pandas.pydata.org/pandas-docs/stable/user_guide/indexing.html#returning-a-view-versus-a-copy\n",
            "  \n",
            "/usr/local/lib/python3.6/dist-packages/ipykernel_launcher.py:3: SettingWithCopyWarning: \n",
            "A value is trying to be set on a copy of a slice from a DataFrame.\n",
            "Try using .loc[row_indexer,col_indexer] = value instead\n",
            "\n",
            "See the caveats in the documentation: https://pandas.pydata.org/pandas-docs/stable/user_guide/indexing.html#returning-a-view-versus-a-copy\n",
            "  This is separate from the ipykernel package so we can avoid doing imports until\n"
          ],
          "name": "stderr"
        },
        {
          "output_type": "execute_result",
          "data": {
            "text/html": [
              "<div>\n",
              "<style scoped>\n",
              "    .dataframe tbody tr th:only-of-type {\n",
              "        vertical-align: middle;\n",
              "    }\n",
              "\n",
              "    .dataframe tbody tr th {\n",
              "        vertical-align: top;\n",
              "    }\n",
              "\n",
              "    .dataframe thead th {\n",
              "        text-align: right;\n",
              "    }\n",
              "</style>\n",
              "<table border=\"1\" class=\"dataframe\">\n",
              "  <thead>\n",
              "    <tr style=\"text-align: right;\">\n",
              "      <th></th>\n",
              "      <th>dialogue</th>\n",
              "      <th>gender</th>\n",
              "    </tr>\n",
              "  </thead>\n",
              "  <tbody>\n",
              "    <tr>\n",
              "      <th>0</th>\n",
              "      <td>they do not</td>\n",
              "      <td>1</td>\n",
              "    </tr>\n",
              "    <tr>\n",
              "      <th>1</th>\n",
              "      <td>they do to</td>\n",
              "      <td>0</td>\n",
              "    </tr>\n",
              "    <tr>\n",
              "      <th>2</th>\n",
              "      <td>i hope so</td>\n",
              "      <td>1</td>\n",
              "    </tr>\n",
              "    <tr>\n",
              "      <th>3</th>\n",
              "      <td>she okay</td>\n",
              "      <td>0</td>\n",
              "    </tr>\n",
              "    <tr>\n",
              "      <th>4</th>\n",
              "      <td>let's go</td>\n",
              "      <td>1</td>\n",
              "    </tr>\n",
              "    <tr>\n",
              "      <th>...</th>\n",
              "      <td>...</td>\n",
              "      <td>...</td>\n",
              "    </tr>\n",
              "    <tr>\n",
              "      <th>292938</th>\n",
              "      <td>lord chelmsford seems to want me to stay back ...</td>\n",
              "      <td>2</td>\n",
              "    </tr>\n",
              "    <tr>\n",
              "      <th>292939</th>\n",
              "      <td>i'm to take the sikali with the main column to...</td>\n",
              "      <td>2</td>\n",
              "    </tr>\n",
              "    <tr>\n",
              "      <th>292940</th>\n",
              "      <td>your orders mr vereker</td>\n",
              "      <td>2</td>\n",
              "    </tr>\n",
              "    <tr>\n",
              "      <th>292941</th>\n",
              "      <td>good ones yes mr vereker gentlemen who can rid...</td>\n",
              "      <td>2</td>\n",
              "    </tr>\n",
              "    <tr>\n",
              "      <th>292942</th>\n",
              "      <td>colonel durnford william vereker i hear you 'v...</td>\n",
              "      <td>2</td>\n",
              "    </tr>\n",
              "  </tbody>\n",
              "</table>\n",
              "<p>292943 rows × 2 columns</p>\n",
              "</div>"
            ],
            "text/plain": [
              "                                                 dialogue  gender\n",
              "0                                             they do not       1\n",
              "1                                              they do to       0\n",
              "2                                               i hope so       1\n",
              "3                                                she okay       0\n",
              "4                                                let's go       1\n",
              "...                                                   ...     ...\n",
              "292938  lord chelmsford seems to want me to stay back ...       2\n",
              "292939  i'm to take the sikali with the main column to...       2\n",
              "292940                             your orders mr vereker       2\n",
              "292941  good ones yes mr vereker gentlemen who can rid...       2\n",
              "292942  colonel durnford william vereker i hear you 'v...       2\n",
              "\n",
              "[292943 rows x 2 columns]"
            ]
          },
          "metadata": {
            "tags": []
          },
          "execution_count": 219
        }
      ]
    },
    {
      "cell_type": "code",
      "metadata": {
        "id": "5dWWKZRyleAW",
        "colab_type": "code",
        "colab": {
          "base_uri": "https://localhost:8080/",
          "height": 68
        },
        "outputId": "d1db9526-b23c-492e-c788-12590eef3d3b"
      },
      "source": [
        "# slim_df['gender'] = slim_df['gender'].astype(int)\n",
        "slim_df.dtypes"
      ],
      "execution_count": null,
      "outputs": [
        {
          "output_type": "execute_result",
          "data": {
            "text/plain": [
              "dialogue    object\n",
              "gender       int64\n",
              "dtype: object"
            ]
          },
          "metadata": {
            "tags": []
          },
          "execution_count": 220
        }
      ]
    },
    {
      "cell_type": "code",
      "metadata": {
        "id": "9qHXr6rYn1cL",
        "colab_type": "code",
        "colab": {
          "base_uri": "https://localhost:8080/",
          "height": 34
        },
        "outputId": "80442009-e6a1-4311-e3c4-0cb970af2cfc"
      },
      "source": [
        "slim_df.gender.value_counts().values"
      ],
      "execution_count": null,
      "outputs": [
        {
          "output_type": "execute_result",
          "data": {
            "text/plain": [
              "array([187727,  82221,  22995])"
            ]
          },
          "metadata": {
            "tags": []
          },
          "execution_count": 221
        }
      ]
    },
    {
      "cell_type": "code",
      "metadata": {
        "id": "spMHLZKFkcS0",
        "colab_type": "code",
        "colab": {
          "base_uri": "https://localhost:8080/",
          "height": 34
        },
        "outputId": "57222ddf-755a-40a7-ebc4-15ca99840b2d"
      },
      "source": [
        "slim_df.gender.value_counts().values[0]/slim_df.gender.value_counts().values[1]"
      ],
      "execution_count": null,
      "outputs": [
        {
          "output_type": "execute_result",
          "data": {
            "text/plain": [
              "2.28320015567799"
            ]
          },
          "metadata": {
            "tags": []
          },
          "execution_count": 222
        }
      ]
    },
    {
      "cell_type": "code",
      "metadata": {
        "id": "QmBWJS-Gopn3",
        "colab_type": "code",
        "colab": {
          "base_uri": "https://localhost:8080/",
          "height": 34
        },
        "outputId": "c08897db-8d7e-467a-b494-c2307c9626dc"
      },
      "source": [
        "characterline_df['name'].nunique()"
      ],
      "execution_count": null,
      "outputs": [
        {
          "output_type": "execute_result",
          "data": {
            "text/plain": [
              "5231"
            ]
          },
          "metadata": {
            "tags": []
          },
          "execution_count": 223
        }
      ]
    },
    {
      "cell_type": "code",
      "metadata": {
        "id": "Wnrk9a8xopv9",
        "colab_type": "code",
        "colab": {
          "base_uri": "https://localhost:8080/",
          "height": 88
        },
        "outputId": "2b79288b-a9cb-45de-8a0e-2b914f43477c"
      },
      "source": [
        "import nltk\n",
        "nltk.download('stopwords')\n",
        "from nltk.corpus import stopwords\n",
        "print(stopwords.words('english'))"
      ],
      "execution_count": null,
      "outputs": [
        {
          "output_type": "stream",
          "text": [
            "[nltk_data] Downloading package stopwords to /root/nltk_data...\n",
            "[nltk_data]   Package stopwords is already up-to-date!\n",
            "['i', 'me', 'my', 'myself', 'we', 'our', 'ours', 'ourselves', 'you', \"you're\", \"you've\", \"you'll\", \"you'd\", 'your', 'yours', 'yourself', 'yourselves', 'he', 'him', 'his', 'himself', 'she', \"she's\", 'her', 'hers', 'herself', 'it', \"it's\", 'its', 'itself', 'they', 'them', 'their', 'theirs', 'themselves', 'what', 'which', 'who', 'whom', 'this', 'that', \"that'll\", 'these', 'those', 'am', 'is', 'are', 'was', 'were', 'be', 'been', 'being', 'have', 'has', 'had', 'having', 'do', 'does', 'did', 'doing', 'a', 'an', 'the', 'and', 'but', 'if', 'or', 'because', 'as', 'until', 'while', 'of', 'at', 'by', 'for', 'with', 'about', 'against', 'between', 'into', 'through', 'during', 'before', 'after', 'above', 'below', 'to', 'from', 'up', 'down', 'in', 'out', 'on', 'off', 'over', 'under', 'again', 'further', 'then', 'once', 'here', 'there', 'when', 'where', 'why', 'how', 'all', 'any', 'both', 'each', 'few', 'more', 'most', 'other', 'some', 'such', 'no', 'nor', 'not', 'only', 'own', 'same', 'so', 'than', 'too', 'very', 's', 't', 'can', 'will', 'just', 'don', \"don't\", 'should', \"should've\", 'now', 'd', 'll', 'm', 'o', 're', 've', 'y', 'ain', 'aren', \"aren't\", 'couldn', \"couldn't\", 'didn', \"didn't\", 'doesn', \"doesn't\", 'hadn', \"hadn't\", 'hasn', \"hasn't\", 'haven', \"haven't\", 'isn', \"isn't\", 'ma', 'mightn', \"mightn't\", 'mustn', \"mustn't\", 'needn', \"needn't\", 'shan', \"shan't\", 'shouldn', \"shouldn't\", 'wasn', \"wasn't\", 'weren', \"weren't\", 'won', \"won't\", 'wouldn', \"wouldn't\"]\n"
          ],
          "name": "stdout"
        }
      ]
    },
    {
      "cell_type": "code",
      "metadata": {
        "id": "mZQbGyAu-SjO",
        "colab_type": "code",
        "colab": {
          "base_uri": "https://localhost:8080/",
          "height": 34
        },
        "outputId": "5b6ea2f2-7246-4672-ca36-8c99c0680123"
      },
      "source": [
        "type(stopwords.words('english'))"
      ],
      "execution_count": null,
      "outputs": [
        {
          "output_type": "execute_result",
          "data": {
            "text/plain": [
              "list"
            ]
          },
          "metadata": {
            "tags": []
          },
          "execution_count": 283
        }
      ]
    },
    {
      "cell_type": "code",
      "metadata": {
        "id": "TLH7NEt1s9_H",
        "colab_type": "code",
        "colab": {
          "base_uri": "https://localhost:8080/",
          "height": 54
        },
        "outputId": "082c8977-8922-4c84-b56b-51a03c946c9e"
      },
      "source": [
        "sw = stopwords.words('english')\n",
        "names = character_df['name']\n",
        "names = names.to_list()\n",
        "\n",
        "sw.extend(names)\n",
        "print(sw)\n",
        "\n"
      ],
      "execution_count": null,
      "outputs": [
        {
          "output_type": "stream",
          "text": [
            "['i', 'me', 'my', 'myself', 'we', 'our', 'ours', 'ourselves', 'you', \"you're\", \"you've\", \"you'll\", \"you'd\", 'your', 'yours', 'yourself', 'yourselves', 'he', 'him', 'his', 'himself', 'she', \"she's\", 'her', 'hers', 'herself', 'it', \"it's\", 'its', 'itself', 'they', 'them', 'their', 'theirs', 'themselves', 'what', 'which', 'who', 'whom', 'this', 'that', \"that'll\", 'these', 'those', 'am', 'is', 'are', 'was', 'were', 'be', 'been', 'being', 'have', 'has', 'had', 'having', 'do', 'does', 'did', 'doing', 'a', 'an', 'the', 'and', 'but', 'if', 'or', 'because', 'as', 'until', 'while', 'of', 'at', 'by', 'for', 'with', 'about', 'against', 'between', 'into', 'through', 'during', 'before', 'after', 'above', 'below', 'to', 'from', 'up', 'down', 'in', 'out', 'on', 'off', 'over', 'under', 'again', 'further', 'then', 'once', 'here', 'there', 'when', 'where', 'why', 'how', 'all', 'any', 'both', 'each', 'few', 'more', 'most', 'other', 'some', 'such', 'no', 'nor', 'not', 'only', 'own', 'same', 'so', 'than', 'too', 'very', 's', 't', 'can', 'will', 'just', 'don', \"don't\", 'should', \"should've\", 'now', 'd', 'll', 'm', 'o', 're', 've', 'y', 'ain', 'aren', \"aren't\", 'couldn', \"couldn't\", 'didn', \"didn't\", 'doesn', \"doesn't\", 'hadn', \"hadn't\", 'hasn', \"hasn't\", 'haven', \"haven't\", 'isn', \"isn't\", 'ma', 'mightn', \"mightn't\", 'mustn', \"mustn't\", 'needn', \"needn't\", 'shan', \"shan't\", 'shouldn', \"shouldn't\", 'wasn', \"wasn't\", 'weren', \"weren't\", 'won', \"won't\", 'wouldn', \"wouldn't\", 'bianca', 'bruce', 'cameron', 'chastity', 'joey', 'kat', 'mandella', 'michael', 'miss perky', 'patrick', 'sharon', 'walter', 'alonso', 'arojaz', 'beatrix', 'bobadilla', 'columbus', 'fernando', 'isabel', 'marchena', 'mendez', 'moxica', 'pinzon', 'sailor', 'sanchez', 'utapan', 'cutler', 'daphne', 'duffy', 'eddie', 'emil', 'hawkins', 'honey', 'immigration officer', 'jordy', 'korfin', 'leon', 'maggie', 'max', 'milos', 'mugger', 'nicolette', 'oleg', 'robert hawkins', 'rose', 'secondary officer', 'stephen geller', 'tommy', 'vendor', 'b20', 'bowman', 'c12', 'child', 'co-pilot', 'elena', 'floyd', 'hal', 'michaels', 'miller', 'pilot', 'poole', 'smyslov', 'attendant', 'bartender', 'billy', 'candy', 'casey', 'cates', 'elaine', 'ganz', 'haden', 'hammond', 'henry', 'kehoe', 'lisa', 'luther', 'sosna', 'young cop', 'cornelius', 'david', 'diva', 'finger', 'girl', 'kommander', 'korben', 'leeloo', 'loc rhod', 'mactilburgh', 'mother', 'mugger', 'munro', 'president', 'priest', 'professor', 'secretary', 'shadow', 'staedert', 'thai', 'voice', 'zorg', 'amy', 'angry dealer', 'dino', 'dino velvet', 'director', 'eddie', 'longdale', 'male voice', 'max', 'mrs christian', 'mrs mathews', 'nun', 'politician', 'salesperson', 'welles', 'alice', 'dan', 'debbie', 'elaine', 'kristen', 'nurse', 'rick', 'sheila', 'alice', \"alice's dad\", 'dan', 'greta', 'jacob', 'mark', 'mrs. jordan', 'yvonne', 'carl', 'dave', 'griff', 'kent', 'reef', 'saucer voice', 'sir ian', 'wendover', 'alma', 'chick', 'hand', 'jack', 'jill', 'lariviere', 'lillian', 'lugene', 'margie', 'mel gordon', 'mrs. gordon', 'nick', 'pop', 'rolfe', 'twombley', 'wade', 'alice', 'cerallos', 'chief mechanic', 'col. carlton', 'dean', 'doherty', 'general northwood', 'gibbs', 'iraqi soldier', 'kc-135 pilot', 'kc-lo pilot', 'korshunov', 'lee', 'major caldwell', 'marshall', 'mitchell', 'rose', 'secret service agent', 'secretary', 'shepherd', 'switchboard', 'tower', 'v.p. chandler', 'commissioner', 'dunn', 'elaine', 'jimmy', 'joe', 'john', 'kruger', 'mary', 'oveur', 'porter', 'receptionist', 'rok', 'rumack', 'simon', 'stella', 'ted', 'wife', 'bernice', 'carey', 'dr. rumack', 'elaine', 'girl', 'gunderson', 'jack', 'joey', 'kramer', 'lisa', 'milton', 'mrs. hammen', 'mrs. kramer', 'murdock', 'oveur', 'randy', 'shirley', 'sister angelina', 'soldier', 'striker', 'cassandra', 'fedorchuk', 'harcourt', 'jetson', 'kipling', 'maffet', \"o'neal\", 'operator', 'porter', 'sykes', 'tuggle', 'warner', 'winter', 'apone', 'bishop', 'burke', 'gorman', 'hicks', 'hudson', 'lydecker', 'med-tech', 'newt', 'ripley', 'simpson', 'van leuwen', 'vasquez', 'allegro', 'andante', 'arco', 'cavalieri', 'colloredo', 'commendatore', 'constanze', 'first lady', 'flunky', 'frau schlumberg', 'joseph', 'leopold', 'lorl', 'madame weber', 'mozart', 'officer', 'old salieri', 'orsini-rosenberg', 'papageno', 'salieri', 'schikaneder', 'schlumberg', 'second lady', 'servant', 'ugly old woman', 'vogler', 'von strack', 'von swieten', 'alex', 'benjamin', 'bobbie', 'bringsly', 'chess player', 'david', 'dr. hirsch', 'jack', 'lt. villiers', 'miss gallagher', 'mrs. hobbs', 'orderly', 'secretary', 'sgt. mcmanus', 'woman', 'bill', 'charlie', 'clark', 'cluett', 'dickson', 'dude', 'gardiner', 'guard', 'helen', \"helen's voice\", 'inspector', 'janitor', 'lady', 'matt', 'mike', 'mrs. dickson', 'mrs. halligan', 'mrs. pembroke', \"o'brien\", 'oscar', 'sampson', 'teller', 'bob', 'burly detective', 'cole', 'comanche tom', 'deputy', 'doc mimms', 'frank', 'jesse', 'jim', 'jimmy', 'lyla', 'ma', 'marshall', 'old man', 'parker', 'pastor', 'pinkerton', 'rains', 'sherriff', 'teller', 'zee', 'bateman', 'carnes', 'carruthers', 'christie', 'courtney', 'daisy', 'elizabeth', 'evelyn', 'homeless man', 'jean', 'kimball', \"maitre d'\", 'mrs. wolfe', 'owen', 'price', 'van patten', 'victoria', 'alice', 'barton', 'brian', 'cyber pundit', 'danny', 'gary', 'larry', 'larry king', 'len', 'lisa', 'milo', 'phil', 'randy', 'redmond', 'shrot', 'teddy', 'alotta', 'andy warhol', 'austin', 'basil exposition', 'clerk', 'commander gilmour', 'destructacon', 'dr. evil', 'frau farbissina', 'guard', 'mick jagger', 'mrs. kensington', 'mustafa', 'number two', 'radar operator', 'scott evil', 'therapist', 'vanessa', 'bailey', 'dr. darling', 'emma', 'father', 'invisible jones', 'mother', 'old lady', 'porter', 'sir august', 'steed', 'valentine', 'voice', 'bobbie', 'chulo', 'cole', 'debbie', 'executive', 'gary', 'ilene', 'jumbo', 'larry', 'manager', 'mr. t', 'mr. thomerson', 'mrs. thomerson', \"o'neill\", 'phoebe', 'rajah', 'rick', 'ryko', 'sister mary francis', 'stan', 'woman', 'axe', 'brian', 'chief fitzgerald', 'dennis', 'grindle', 'helen', 'jennifer', 'ricco', 'ronald', 'shadow', 'stephen', 'swayzak', 'tim', 'willy', 'ariane', 'elderly black woman', 'fence', 'jc', 'jesus', 'large', 'lite', 'lt', 'nun', 'priest', '1/16th black', 'audience', 'big black', 'cheeba', 'delacroix', 'dot', 'dunwitty', 'gary byrd', 'honeycutt', 'jukka', 'junebug', 'manray', 'mantan', 'mona', 'myrna', 'orchid', \"sleep 'n eat\", 'sloan', 'tavis smiley', 'armed gentleman', 'captain best', 'captain galgenstein', 'captain grogan', \"captain o'reilly\", 'chevalier', 'count', 'countess', 'dorothy', 'harry', 'henri', 'lord west', 'michael', 'minister galgenstein', \"mrs. o'reilly\", 'newcombe', 'patrick', 'prince', 'prussian officer', 'roderick', 'sir william', 'valdez', 'bartender', 'childs', 'dunbar', 'hardy', 'kendall', 'mueller', 'osborne', 'pike', 'sergeant', 'styles', 'the cadets', 'west', 'amos', 'beamen', 'don price', 'dr. bennett', 'edward', 'jenny', 'josephine', 'karl', 'norther winslow', 'sandra', 'will', 'alexei', 'branch manager', 'john', 'nadia', 'official', 'yuri', 'angela', 'bojo', 'bryan', 'ella mae', 'gill', 'jesse', 'lazarus', 'lincoln', 'mayella', 'r.l.', 'rae', 'ronnie', 'rose', 'sandy', 'tehronne', 'charlie', 'connie', 'ich', 'joyce', 'kobo', 'nick', 'ohashi', 'oliver', 'sugai', 'batty', 'bryant', 'chew', 'deckard', \"deckard's voice\", 'esper', 'gaff', 'holden', 'leon', 'mary', 'pris', 'rachael', 'salome', 'sebastian', 'taffey', 'tyrell', 'voice', 'wheeler', 'adam', 'aron', 'atkinson', 'bellboy', 'butcher', 'bystander #1', 'calvin', 'clerk', 'cliff', 'eve', 'helen', 'jerry', 'levy', 'miss sweet', 'mom', 'pilot', 'postal worker', 'soda jerk', 'street walker', 'tower', 'troy', 'aunt barbara', 'ben', 'detective williams', 'dorothy', 'f.b.i. man', 'frank', 'jeffrey', 'mike', 'mr. beaumont', 'mrs. beaumont', 'mrs. williams', 'raymond', 'sandy', 'yellow man', 'augustus', 'both', 'chaffey', 'connor', 'doc', 'dolly', 'donna', 'duffy', 'greenly', 'mom', 'murphy', 'priest', 'rocco', 'roz', 'smecker', 'vincenzo', 'yakavetta', 'anthony', 'applejack', 'bob', 'cop', 'dignan', 'employee', 'future man', 'inez', 'jackson', 'kumar', 'little richard', 'man', 'mr. henry', 'abbott', 'bourne', 'cronin', 'gretkov', 'irena', 'ivan', 'jarda', 'marie', 'marshall', 'nevins/phone', 'nicky', 'pamela', 'pamela/phone', 'teddy', 'vic', 'zorn', 'argyle', 'craig', 'edward', 'hamish', 'leader', 'leper', 'longshanks', 'magistrate', 'marion', 'nicolette', 'princess', 'robert', 'stephen', 'wallace', 'william', 'andrea', 'carlos', 'dr. redfield', 'evan', 'heidi', 'hunter', 'jason', 'kayleigh', 'lenny', 'mr. miller', 'mrs. boswell', 'professor carter', 'thumper', 'tommy', 'waitress', 'annina', 'berger', 'carl', 'emil', 'european', 'ferrari', 'ilsa', 'laszlo', 'renault', 'rick', 'sam', 'strasser', 'tourist', 'ugarte', 'yvonne', 'aleksei', 'badchuck', 'bettina', 'chuck', 'chuck/captain', 'doctor', 'driver', 'erica', 'goodchuck', 'kelly', 'leslie', 'mom', 'roger', 'stan', 'technician', 'voice', 'angela', 'buster', 'candy', 'curly', 'edna', 'fuzzy', 'homer', 'jack', 'larch', 'major winslow', 'mary agnes', 'mr. rose', 'mrs. goodhall', 'muddy', 'olive', 'peaches', 'ray', 'rose rose', 'wally', 'ashby', 'big al', 'butch', 'gillette', 'gordo', 'jake', 'king pin', 'lily', 'lionel', 'lupus', 'miles', 'moonan', 'mr. lewis', 'rottovich', 'salesgirl', 'sobozinski', 'suits', 'bella', 'dealer', 'giles', 'jack', 'jack sr.', 'jani', 'lucy', 'man', 'marion', 'matt', 'reynolds', 'ross', 'boiler', 'bomb #19', 'bomb #20', 'doolittle', 'pinback', 'powell', 'talby', 'blonde', 'bruno', 'darren', 'herbal', 'inga', 'kendra', 'lauren', 'logan', 'lydia', 'max', 'normal', 'original cindy', 'sketchy', 'sonrisa', 'sophy', 'theo', 'vogelsang', 'amanda', 'bartender', 'beth', 'christine', 'hawk', 'jam', 'kenny', 'lex', 'little kid', 'man with coat', 'mrs. bruce', 'priest', 'scalper', \"simple simon's voice\", 'trip', \"trip's voice\", 'audience', 'david', 'donnie', 'dr. monnitoff', 'dr. thurman', 'eddie', 'elizabeth', 'frank', 'gretchen', 'jim cunningham', 'leroy', 'ms. farmer', 'ms. pomeroy', 'principal cole', 'ronald', 'rose', 'samantha', 'sean', 'seth', 'amber', 'annette', 'becky', 'brett', 'colleen', 'documentarian', 'fry girl #1', 'gladys', 'hank', 'harold', 'iris', 'leslie', 'lester', 'lisa', 'loretta', 'mr. howard', 'mr. larson', 'pregnant fry girl', 'terry', 'tina', 'all', 'bob', 'chico', 'ensemble', 'groucho', 'mrs. teasdale', 'trentino', 'vera', 'anne', 'boy', 'bytes', 'carr', 'fox', 'k. hen', 'kath', 'kendal', 'merrick', 'mothershead', 'night porter', 'nora', 'owner', 'plumed dwarf', 'treves', 'aud', 'erik', 'freya', 'girl', 'grandad', 'grandfather', 'harald', 'helga', 'ivar', 'keitel', 'king arnulf', 'leif', 'loki', 'odin', 'snorri', 'sven', \"sven's dad\", 'thorfinn', \"thorfinn's mum\", 'carrie', 'clementine', \"clementine's voice\", 'joel', 'mary', 'mierzwiak', 'naomi', \"naomi's voice\", 'old woman', 'patrick', 'receptionist', 'stan', \"stan's voice\", 'voice-over', 'chink', 'howard', 'jelly', 'julian', 'man', 'sissy', 'the countess', 'cooper', 'dj', 'hollis', 'justin', 'lyle', 'miller', 'peters', 'smith', 'starck', 'weir', 'alicia', 'ben', 'debbie', 'doctor', 'johnny', 'leonard', 'reed', 'sexy nurse', 'sue', 'the thing', 'victor', 'arnold', 'brad', 'businessman', 'curtis', 'damone', 'dennis', 'girl', 'griffin', 'harold', 'l.c.', 'linda', 'lisa', 'mr. hand', 'ron', 'spicoli', 'stacy', 'the rat', 'waitress', 'clerk', 'da', 'duke', 'gonzo', 'highway patrolman', 'hitchhiker', 'maid', 'proprietor', 'adulterer', 'bartender', 'beer guy', 'belle', 'boss man', 'bozo', 'goldie', 'good guy', 'grandpa', 'heroine', 'para', 'roadie', 'sickly brownie', 'trampy', 'troop leader', 'tuffy', 'barnes', 'bebe', 'claire', 'clifford', 'clurman', 'cop', 'dick', 'doctor', 'doyle', 'drama teacher', 'edwards', 'ernest', 'fire chief', 'frances', 'harry', 'hitchhiker', 'judge', \"judge hillier's wife\", 'kaminski', 'lawyer', 'lillian', 'man', 'odets', 'older nurse', 'sergeant', 'symington', 'york & crowd', 'young man', 'young nurse', 'creature', 'elizabeth', 'father', 'grandfather', 'grigori', 'henry', 'justine', 'krempe', 'prosecutor', 'victor', 'waldman', 'walton', 'alice', 'barry', 'bill', 'brenda', 'claudette', 'jack', 'marcie', 'mrs. voorhees', 'ned', 'sandy', 'steve', 'tierney', 'border guard', 'carlos', 'jacob', 'kate', 'kelly houge', 'mcgraw', 'pete', 'razor charlie', 'richard', 'scott', 'seth', 'stanley chase', 'blondell', 'c.o.', 'cortez', 'dehaven', \"dehaven's aide\", 'flag officer #1', 'flea', 'hayes', 'instructor johns', 'instructor pyro', 'jordan', 'mccool', 'royce', 'slutnik', 'the chief', 'the spook', 'wickwire', 'animal', 'audrey', 'caiman', 'elsie', 'jean-claude', 'kid', 'lt. anderson', 'lucy', 'major hicks', 'mayor', 'nick', 'raymond', 'alexander', 'brandon', 'computer', 'fred', 'guy', 'gwen', 'jason', 'kyle', 'lathe', 'mathesar', 'nervous tech', 'quellek', 'sarris', 'tommy', 'arnold', 'billy lee', 'cornwallis', 'general lee', 'hamilton', 'horatio gates', 'john adams', 'joseph reed', 'lafayette', 'martha', 'mawhood', 'nathanael greene', 'sally', 'sam adams', 'washington', 'william', 'young washington', 'attendant', 'bear', 'bo catlett', 'bones', 'chili', 'curtis', 'dick', 'director', 'doris', 'escobar', 'harry', 'karen', 'leo', 'manager', 'martin', 'ray bones', 'ronnie', 'tommy', 'coastguard dispatcher', 'dodge', 'epps', 'greer', 'murphy', 'riveter', 'vasili', 'dad', 'dana', 'enid', 'gerrold', 'girl', 'joe', 'john', 'john ellis', 'josh', 'man', 'manager', 'margaret', 'maxine', 'melorra', 'rebecca', 'roberta', 'seymour', 'therapist', 'todd', 'abdullah', 'beaumont', 'hawthorne', 'helena', 'middle coolie', 'patterson', 'redbeard', 'samuel', 'starling', 'dana', 'elaine', 'frank', 'hardemeyer', 'janine', 'janosz', 'judge', 'louis', 'milton', 'prosecutor', 'sherman', 'spengler', 'stantz', 'venkman', 'vigo', 'winston', 'bride', 'coed', 'dana', 'dean yaeger', 'first bum', 'groom', 'head librarian', 'janine', 'louis', 'manager', 'peck', 'second bum', 'sophomore', 'spengler', 'stantz', 'street punk', 'venkman', 'winston', 'woman', 'commodus', 'cos', 'falco', 'gaius', 'gracchus', 'juba', 'lucilla', 'marcus aurelius', 'narcissus', 'proximo', 'quintus', 'selene', 'themis', 'tribuus', 'ben', \"ben's voice\", 'clerk', 'elaine', 'mr. braddock', 'mr. mccleery', 'mr. mcquire', 'mr. robinson', 'mrs. braddock', 'mrs. robinson', \"mrs. robinson's voice\", 'mrs. singleman', 'room clerk', \"woman's voice\", 'a man', 'baron', 'chauffeur', 'clerk', 'doctor', 'flaemmchen', 'gerstenkorn', 'grusinskaya', 'kringelein', 'manager', 'meierheim', 'pimenov', 'preysing', 'rohna', 'schweimann', 'senf', 'suzette', 'waitz', 'zinnowitz', 'bobo', 'clerk', 'cole', 'doctor', 'hebbing', 'irv', 'jeweler', 'kaggs', 'lilly', 'manager', 'mintz', 'myra', 'pierson', 'roy', 'simms', 'blake', 'carter', 'deputy clark', 'eddie', 'jimmy', 'john', 'keri', 'linda', 'molly', 'pamela', 'shane', 'will', 'beth', 'danny', 'debra', 'harry simms', 'jamie', 'john', 'kara', 'loomis', 'tim', 'tommy', 'wynn', 'harold', 'looseleaf', 'mildred', 'paul', 'penelope', 'shuttle', 'von konigswald', 'wanda june', 'woodly', 'beatrice', 'black stud', 'burrows', 'felice', 'girl at the window', 'hope', 'jake', 'jism jim', 'kristen', 'manager', 'marsha', 'mary', 'mast', 'niki', 'ramada', 'rucker', 'teller', 'tod', 'wes', 'candy', 'cop', 'edith', 'glaucus', 'harold', 'maude', 'mrs. chasen', 'officer', 'priest', 'psychiatrist', 'sunshine', 'uncle victor', 'female cenobite', 'frank', 'julia', 'kirsty', 'kyle', 'malahide', 'pinhead', 'ronson', 'tiffany', 'abe', \"abe's voice\", 'broom', 'clay', 'grigory', 'hellboy', 'liz', 'lobby guard', 'manning', 'matlin', 'myers', 'whitman', '1st man', '2nd man', 'cenobite', 'doctor', 'frank', 'julia', 'kirsty', 'larry', 'nurse', 'prudhoe', 'steve', \"alison's mom\", 'barry', 'caroline', 'charlie', 'customer', 'dick', 'ian', 'laura', 'liz', 'marie', 'mom', 'rob', 'vince', 'woman', 'brenna', 'conor', 'dennis', 'desk officer', 'dupont', 'examiner', 'father', 'grandson', 'inspector', 'intruder', 'kahn', 'katherine', 'kidell', 'knight', \"knight's voice\", 'librarian', 'major', 'man', 'mara', 'moran', 'mother', 'mr. north', 'mulet', 'romirez', 'supervisor', 'taupin', 'tavern man #2', 'traveller', 'uncle joe', 'bensinger', 'bruce', 'burns', 'cooley', 'duffy', 'egelhoffer', 'endicott', 'gus', 'hartman', 'hildy', 'lieutenant', 'louie', 'louis', 'mayor', 'mccue', 'mollie', 'mrs. baldwin', 'murphy', 'pinkus', 'schwartz', 'williams', 'wilson', 'bill', 'bruce', 'clive', 'dawn', 'grace', 'grandfather george', 'grandma', 'mac', 'molly', 'roger', 'sue', 'baby', 'bill', 'capt. spaulding', 'cashier', 'denise', 'huston', 'jerry', 'mary', 'mother', 'mr. willis', 'naish', 'otis', 'stucky', 'wydell', 'father', 'female roommate', 'gabrielle', 'lila', 'mother', 'nathan', 'older woman', 'puff', 'rose', 'wendall', 'bartender', 'bert', 'big john', 'charlie', 'eddie', 'fats', 'findley', 'player', 'sarah', 'young man', 'emma', 'french voice', 'neville', 'old man', 'virginia', 'dad', \"dad's voice\", 'jimmy', 'linda', 'mom', 'principal', 'alicia', 'constance', 'david', 'general grey', 'jasmine', 'jimmy', 'margaret', 'marty', 'miguel', 'moishe', 'nimziki', 'okun', 'okun/alien', 'philip', 'president', 'russell', 'second officer', 'steve', 'troy', 'brody', 'butler', 'donovan', 'elsa', 'henry', 'indy', 'kazim', 'knight', 'sallah', 'capt. blumburtt', 'chattar lal', 'indiana', 'lao', 'mola ram', 'shaman', 'short round', 'willie', 'al', 'burr', 'colin', 'dieter', 'finnegan', 'gruner', 'joe', 'leader', 'outside -', 'receptionist.', 'rene', 'ryuji', 'tech 2', 'tech 3', 'waiter', 'woman', 'barbara', \"bill robertson's voice\", 'charlie phillips', 'debbie deluca', 'deborah', 'don hewitt', 'eric kluster', 'fbi agent #2', 'felling', 'helen caperelli', 'jim cooper', \"jim cooper's voice\", 'liane', \"liane's voice\", 'lowell', \"lowell's voice\", 'michael moore', 'mike wallace', 'motley', 'richard scruggs', 'sharon', \"the hotel manager's voice\", 'the sheikh', 'thomas sandefur', 'tobacco lawyer', 'wigand', \"wigand's voice\", 'bonnie', 'doyle', 'gangster', 'joe', 'judge', 'kenneth', 'lawyer', 'marylin', 'miles', 'patricia', 'ramona', 'rex', 'ruth', 'sarah', 'voice', 'witness', 'woman', 'wrigley', 'andrews', 'boy', 'captain', 'danker', 'driver', 'ellie', \"ellie's voice\", 'first pilot', 'first policeman', 'gordon', 'guard', 'king', 'lovington', 'man', 'mary', 'old lady', 'operator', 'owner', 'peter', \"peter's voice\", 'second pilot', 'secretary', 'shapeley', 'westley', 'wife', 'al', 'andrews', 'banister', 'bill', 'coroner', 'dymond', 'ferrie', 'finck', 'frank', 'garrison', 'goldberg', 'jasper', 'jean hill', 'jim', 'johnson', 'judge haggerty', 'lawyer', 'liz', 'long', 'lou', 'male voice', 'man', 'martin', 'mercer', 'miller', 'mobster', 'numa', \"o'keefe\", 'official', 'ruby', 'shaw', 'susie', 'virginia', 'x', 'amy', 'anita', 'beaumont', 'dargus', 'jackie', 'louis', 'max', 'melanie', 'nicolet', 'ordell', 'public defender', 'sheronda', 'winston', '\"DOCTOR\"', 'della', 'doorman', 'doug', 'eli', 'elsa', 'frank', 'gabe', 'geary', 'george', 'jacob', 'jerry', 'jezzie', 'leader', 'louis', 'michael', 'mrs. carmichael', 'nurse', 'paul', 'receptionist', 'resident', 'rod', 'sarah', 'stern', 'voice', 'woman', 'azrael', 'boeman', 'brodski', 'dallas', 'delongpre', 'fat lou', 'janessa', 'kay-em 14', 'kicker', 'kkinsa', 'perez', 'rizzo', 'thorgan', 'yllo', 'brody', 'cassidy', 'charlie', 'denherder', 'ellen', \"ellen's voice\", 'hendricks', 'hooper', 'meadows', 'michael', 'quint', 'vaughn', 'bleeker', \"bleeker's mom\", 'bren', 'gerta', 'girl lab partner', 'guy lab partner', 'juno', 'leah', 'mac', 'mark', 'punk receptionist', 'rollo', 'su-chin', 'ultrasound tech', 'vanessa', 'vijay', 'adele', 'attendant', 'brian', 'carol', 'carrie', 'early', 'parole officer', 'police officer', 'black nurse', 'casper', 'darcy', 'fidget', 'girl', 'harold', 'hoodlum', 'jennie', 'korean store owner', 'linda', 'misha', 'mom', 'paul', 'ruby', 'steven', 'susan', 'tamara', 'taxi driver', 'telly', 'white nurse', 'andy', 'caller', 'david', 'doctor fulton', 'erica', 'frank', 'girl', 'jeremy', 'kathy', 'nolan', 'peter', 'woman', \"woman's voice\", 'yurilivich', 'colwyn', 'cyclops', 'ergo', 'lyssa', 'queen', 'rowan', 'seer', 'titch', 'torquil', 'turold', 'vella', 'voice of the beast', 'widow', 'ynyr', 'cop', 'jenny', 'leon', 'man', 'mathilda', 'receptionist', 'rinaldi', 'stansfield', 'the boss', 'tony', 'adelle', 'dally', 'denny', 'dr. ray', 'dr. royce', 'ellen', 'father', 'gerald', 'hansen', 'isaac', 'joselle', 'kris', 'maurice', 'michelle', 'mr. caldwell', 'old woman', 'priest', 'stephanie', 'tandy', 'ben', 'brad', 'conventioneer', 'sera', 'waitress', 'yuri', 'advisor', 'brooke', 'chutney', 'dewey', 'donovan', 'dorky david', 'elle', 'emmett', 'enrique', 'fuzzy 2l', 'guard', 'margot', 'mrs. windham vandermark', 'paulette', 'professor donovan', 'professor stromwell', 'sarah', 'serena', 'warner', '1st demon', '2nd demon', 'baron', 'dragon', 'gump', 'jack', 'jenny', 'jimmy', 'lili', 'ogg', 'oona', 'screwball', 'thurgis', 'adam', 'alyssa', 'bob', 'bryan', 'colleen', 'corey', 'george', 'josh', 'kurt', 'nurse', 'peter', 'robin', 'ryan', 'sam', 'abernathy', 'biscuit', 'blocker', 'bouncer', 'claude', 'cookie', 'daisy', 'dillard', 'doctor', 'goldmouth', \"hoppin' bob\", 'jake', 'jangle leg', 'leon', 'mae rose', 'mama gibson', 'nurse humphries', 'pike', 'poker face', 'radio', 'ray', 'slim', 'spanky', 'sylvia', 'wilkins', 'willie', 'yvette', 'adrian', 'angel', 'beefy', 'cassius', 'christa', 'dad', 'dan', 'gatekeeper', 'jimmy the demon', 'john', 'kathy lee', 'lucifer', 'nicky', 'peter', 'regis', 'street vendor', 'student', 'todd', 'valerie', 'billy', 'box', 'doc', 'francis', 'holly', 'jessica', 'logan', 'man', 'mary', 'old man', 'receptionist', 'voice', 'woman', '\"V\"', 'al', 'alice', 'andy', 'arnie', 'bill', 'captain henderson', 'claire', 'dr. rogoff', 'driver', 'ed', 'fred', 'guard', 'johnny mack', 'marian', 'mr. eddy', 'mystery man', 'pete', 'raquel', 'renee', 'sheila', 'voice', 'warden', 'assistant secretary', 'barnard', 'chang', 'clerk', 'conway', 'george', 'gloria', 'high lama', 'lama', 'lovett', 'maria', 'sondra', 'cowan', 'dee', 'ins leader', 'jay', 'jeebs', 'kay', 'laurel', 'leonard', 'mikey', 'president', 'wallace', 'yaz', 'zed', \"zed's voice\", 'agatha', 'anderton', \"anderton's voice\", 'burgess', 'crow', 'customer', 'dr. eddie', 'fletcher', 'gideon', 'howard', 'iris', 'jad', 'knott', 'lara', 'rufus', 'sarah', 'sean', 'secretary', 'wally', 'witwer', 'arthur', 'audrey', 'bartender', 'bellman', 'bianca', 'bobby', 'chloe', 'cynthia', 'doorman', 'flight attendant', 'hispanic kid', 'horny guy', 'horrace', 'jess', 'jimmy', 'leo', 'max', 'ricky', 'ruiz', 'screech', 'welshman', 'wendy', 'archie', 'bembry', 'benjamin', 'benjamin 2x', 'betty', 'brother earl', 'chaplain gill', 'dr. payson', 'elijah', 'gregory', 'honey', 'judge', 'laura', 'louise', 'malcolm', \"malcolm's voice\", 'miss dunne', 'mrs. swerlin', 'plainclothes', 'rudy', 'sammy', 'shorty', 'sidney', 'sister lucille', 'sophia', 'voice of malcolm x', 'creasy', \"creasy's voice\", 'customs', 'daniel', 'guardian two', 'jordan', 'jorge', 'lisa', 'manzano', 'pinta', 'rayburn', 'reina', 'rosanna', 'samuel', 'sister anna', 'tazinari', 'voice', 'andy', 'angie', 'bartender', 'catherine', 'clara', 'dr. keegan', 'first irish woman', 'girl', 'joe', 'leo', 'marty', 'mrs. fusari', 'mrs. pilletti', 'ralph', 'second irish woman', 'thomas', 'virginia', 'dago red', 'duke', 'frank', 'general hammond', 'hawkeye', 'henry', 'ho-jon', 'hot lips', 'korean doctor', 'lieutenant dish', 'lieutenant scorch', 'me lay', 'medical corps sergeant', 'painless', 'radar', 'second medical corps sergeant', 'spearchucker', 'trapper', 'ugly john', 'ann', 'beany', 'bert', \"bert's wife\", 'colonel', 'connell', 'd. b.', 'eddie', 'joe', 'john', 'mayor', 'mike', 'mother', 'mrs. mitchell', 'pop', 'secretary', 'sourpuss', 'tall chap', 'baffert', 'clarence', 'dave', 'earl', 'jail guard #2', 'kimura', 'korda', 'mccall', 'officer #1', 'raymond', 'ronnie', 'roper', 'solis', 'track announcer', 'christoph', 'dex', 'digital gena', 'emma', 'gena', 'halden', 'katie', 'kid', 'lawyer', 'synthetic voice', 'tanner', 'adam', 'aisha', 'alpha 5', 'billy', 'bulk', 'dulcea', 'goldar', 'ivan', 'kimberly', 'mordant', 'rita', 'rocky', 'skull', 'tommy', 'zedd', 'zordon', 'al capone', 'bobby clowes', 'boo-boo hoff', 'capone', 'charlie', 'detective mullavey', 'frank', 'gay orlova', 'joe profaci', 'lansky', 'luciano', 'mad dog coll', 'manager', 'maranzano', 'masseria', 'reina', 'rothstein', 'siegel', 'alice', 'bull', 'death', 'dr. edelstein', 'herb', 'hutch', 'hypnos', 'julie', 'kimmy', 'kitty', 'monkeybone', 'stu', 'stu-bone', 'disciple prospect', 'marian', 'marika', 'mischa', 'paula', 'boy', 'chairman', 'cook', 'diz', 'emma', 'griffith', 'hubert', 'jefferson', 'jimmie', 'ma', 'mcgann', 'nosey', 'otis', 'paine', 'peter', 'president', 'saunders', 'senator', 'spieler', 'susan', 'taylor', 'voices', '2nd bodyguard', 'agent', 'amy', 'applicant', 'babe', 'bob', 'budington', 'butler', 'butlers', 'cedar', 'cobb', 'douglas', 'dr. fosdick', 'farmer', 'first brother', 'frank', 'hallor', 'henaberry', 'jane', 'judge', 'longfellow', \"longfellow's voice\", 'mabel', 'mac', 'morrow', 'mrs. meredith', 'svenson', 'voice', 'von holler', 'waiter', 'walter', 'althea', 'cook', 'correctional officer', 'delbanco', 'follett', 'gilroy', 'jeremy', 'judge otto', 'lily', 'lionel', 'martin', 'mrs. cook', 'mumford', 'nessa', 'sheeler', 'skip', 'sofie', 'ardeth ray', 'beni', 'curator', 'daniels', 'evelyn', 'henderson', 'hook', 'jonathan', \"o'connell\", 'warden', 'amazing', 'anabel', 'bowler', 'casanova', 'furious', 'heller', 'invisible boy', 'monica', 'mother', 'raja', 'shoveler', 'sphinx', 'tony p', 'alexander', 'barras', 'belliard', 'bertrand', 'bourrienne', 'caulaincourt', 'charles', 'corsican', 'didier', 'duroc', 'eugene', 'francis', 'general kutusov', 'girl', 'joseph', 'josephine', 'junot', 'major fidon', 'marie-louise', 'montesquiou', 'napoleon', 'narrator', 'orderly', 'picart', 'russian gentleman', 'schwarzenburg', 'talleyrand', 'varlac', \"baby'd\", 'craig', 'customer #1', \"d'wana\", 'day-day', 'debo', 'delivery guy', 'ezal', 'joker', 'karla', 'miss ho kym', 'mr. jones', 'pinky', 'roach', 'suga', 'uncle elroy', 'brendan grant', 'cabbie', 'eleanor grant', 'gene', 'huey', 'krista', 'lynn', 'mr. smith', 'ms. jones', 'mystery man', 'officer trust', 'bart', 'ben harper', 'birdie steptoe', 'clary', 'congregation', 'grocer', 'guard', 'icey spoon', 'john harper', 'pearl harper', 'preacher', 'rachel cooper', 'ruby', 'walt', 'willa harper', 'dr king', 'glen', 'lt thompson', 'marge', 'mr lantz', 'nancy', 'parker', 'rod', 'tina', 'all three russians', 'anna', 'buljanoff', 'gaston', 'general savitzky', 'headwaiter', 'iranoff', 'kopalski', 'lawyer', 'leon', 'manager', 'ninotchka', 'official', 'porter', 'pčre mathieu', 'rakonin', 'razinin', 'swana', 'taxi driver', 'buzhardt', 'cushman', 'dean', 'ehrlichman', 'haig', 'haldeman', 'hannah', 'harold', 'helms', 'hoover', 'hunt', 'jones', 'kissinger', 'liddy', 'manolo', 'mao', 'mitch', 'mitchell', 'nixon', 'pat', 'richard', 'rockefeller', 'sandy', 'student 2', 'sturgis', 'tolson', 'young woman', 'ziegler', 'bell', 'carla jean', 'chigurh', 'clerk', 'driver', 'ellis', 'loretta', 'man', 'man at chair', 'molly', 'moss', 'mother', 'official', 'proprietor', 'roscoe', 'wells', 'wendell', 'woman', 'ballard', 'betty', 'blake', 'charlie', 'chief nurse', 'darlene', 'del', 'doctor', 'duane', 'elizabeth', 'ellen', 'george', 'guard', 'jerrold', 'joyce', 'lonnie', 'lyla', 'mercedes', 'rosa', 'roy', 'sue ann', 'wesley', 'big dan', 'cooley', 'delmar', 'eckard', 'everett', 'french', 'junior', 'man', 'middle', 'pappy', 'penny', 'pete', 'proprietor', 'spivey', 'youngest', 'byron', 'casey', 'esther', 'foley', 'group', 'joe', 'lynette', 'paula', 'perryman', 'sid', 'zack', 'burnham', 'cop 1', 'evan', 'junior', 'lydia', 'meg', 'raoul', 'sarah', 'alma', 'beefy cop', 'bobby', 'bobby seale', 'brimmer', 'cy', 'dorsett', 'eldridge', 'garry', 'gene', 'hoover', 'huey', 'judge', 'rita', 'rodgers', 'rose', 'roy', 'sabu', 'tyrone', 'anne', 'billings', 'charlotte', 'continental sergeant', 'cornwallis', 'gabriel', 'lee', 'major halbert', 'margaret', 'marion', 'nathan', 'rev. oliver', 'robinson', 'susan', 'tarleton', 'thomas', 'washington', 'ellie', 'jud', 'louis', 'pascow', 'rachel', 'anamaria', 'barbossa', 'elizabeth', 'gibbs', 'gillette', 'jack', 'mullroy', 'murtogg', 'norrington', 'pintel', 'swann', 'will', 'argon', 'kid', 'litterbug', 'nebbleman', \"o'brien\", 'poppy', 'sim', 'susan', 'anne', 'bingy', 'conroy', 'dawson', 'gallagher', 'grayson', 'hank', 'miss wilson', 'mrs. schuyler', 'smythe', 'stew', 'betty', 'biff', 'big bob', 'bob', 'boy', 'dan', 'david', 'dick van dyke', 'george', 'howard', 'jennifer', 'margaret', 'mark', 'mr. johnson', 'mr. simpson', 'barry', 'check out girl', 'customer', 'david', 'dean', 'elizabeth', 'karen', 'kathleen', 'lance', 'latisha', 'lena', 'manager', 'operator', 'operator girl', 'operator voice', 'sexy voice', 'voice', 'walter', 'abbe du maupas', 'charlotte', 'cleante', 'coulmier', 'delbenč', 'horseman', 'ingenue', 'libertine', 'madame leclerc', 'madeleine', 'monsieur prouix', 'napoleon', 'renee pelagie', 'royer-collard', 'simone', 'the marquis', 'valcour', 'carole lombard', 'hearst', 'joseph cotton', 'louella', 'mank', 'marion', 'mayer', 'paul stewart', 'schaefer', 'shop owner', 'toland', 'welles', '1st deputy', 'como', 'eagan', 'irma', 'j.r.', 'jake', 'joey', 'reporter', 'salvy', 'tommy', 'tony', 'vickie', 'baby sitter', 'bryce', 'doyle', 'gunnison', 'jeff', 'lisa', 'mrs. doyle', 'police', 'stella', 'thorwald', 'buzz', 'chief', 'crunch', 'father', 'gene', 'jim', 'judy', \"judy's father\", 'moose', 'mother', 'negro woman', 'officer', 'plato', 'ray', 'sergeant', 'ashley', 'gabriel', 'jack bangs', 'jumpy', 'merlin', 'nick', 'old timer', 'pug', 'rudy', 'teen clerk', 'waitress', 'young governor', 'zook', 'cop', 'eddie', 'freddy', 'holdaway', 'joe', 'marvin', 'mr. blonde', 'mr. brown', 'mr. orange', 'mr. pink', 'mr. white', 'nice guy eddie', 'vic', 'clay', 'clayton', 'elaine', 'fowler', 'gardner', 'graham', 'helen', 'lednov', 'mary', 'mccall', 'mrs. wyatt', 'steve', 'wyatt', 'alex', 'brenda', 'buddy', 'cindy', 'dwight', 'father mcfeely', 'hanson', 'harris', 'mcfeely', 'mother', 'professor', 'ray', 'shorty', 'theo', 'tommy', 'birdie', 'chip', 'dad', 'det. bradford', 'det. moore', 'dottie', 'marvin', 'misty', 'mom', 'mr. nazlerod', 'mr. sterner', 'mr. stubbins', 'mrs. ackerman', 'mrs. jenson', 'mrs. sterner', 'scotty', 'vendor', 'young man', 'august', 'bruns', 'dr. judd', 'frances', 'gregory', 'jacqueline', 'jason', 'judd', 'mary', 'mimi', 'miss gottschalk', 'miss summers', 'mr. bruns', 'mrs. cortez', 'mrs. lowood', 'mrs. redi', 'mrs. romari', 'nancy', 'radeau', 'romari', 'ann', 'cynthia', 'cytnhia', 'doctor', 'graham', 'john', 'mr. miller', 'secretary', 'voice on phone', 'betts', 'boy', 'detective', 'forsythe', 'girl', 'janine', 'mr. spergazzi', 'parkins', 'rollo', 'st. luc', 'super', 'tudor', 'ansalong', 'audience', 'bert', 'betty', 'brad', 'brad and janet', 'dad', 'farley', 'janet', 'kids', 'mac', 'macy', 'mom', 'nation', 'neely', 'oliver', 'oliver and betty', 'oscar', 'parker', 'ralph', 'ricky', 'teacher', 'trio', 'cammi', 'christine', 'evelyn', 'gary', 'jack', 'man', 'maya', 'miles', 'phyllis', 'pourer', 'stephanie', 'victoria', 'bo', 'colleen', 'crewcut guy', 'graham', 'merrill', 'morgan', 'officer paski', 'dawson', 'emmett', 'ezra', 'hannah', 'hobart', 'j.t.', 'jake', 'kate', 'kelly', 'langston', 'mal', 'mckendrick', 'paden', 'proprietor', 'rae', 'sheriff cobb', 'stella', 'detective', 'elaine', 'faith', 'frank brand', 'hal', 'hank', 'harry', 'kent', 'lainey', 'lawyer', 'max', 'milton', 'nicola', 'premiere reporter 2', 'security guard', 'simone', 'simone / viktor', 'viktor', 'anna', 'cole', \"darren's mom\", 'lynn', 'malcolm', \"man's voice\", 'mr. cunningham', 'billy bob', 'candy', 'carl', 'gene', 'ian', 'jeremiah', 'karen', 'keith', 'mac', 'ray', 'rod', 'suzie', 'bill', 'brenda', 'butcher', 'grant', 'jack', 'kylie', 'margaret', 'shelby', 'starla', 'trevor', 'wally', 'bandit', 'clayton', 'cledus', 'dickey', 'hot pants', 'kate', 'kyle', 'owner', 'voice', 'voice one', 'voice two', 'waitress', 'acosta', 'carruthers', 'casino employee', 'darwin tremor', 'dr. gill', 'dupree', 'elmore', 'hugo', 'israel', 'locke', 'mecklen', 'messner', 'padiche', 'security supervisor', 'serna', 'sir ivy', 'sykes', 'watters', 'wyman', 'gibarian', 'kelvin', 'rheya', 'sartorius', 'snow', 'claire', 'ellie', 'garber', 'giddings', 'koontz', 'mike', 'neil', 'pretty young thing', 't.j.', 'tommy', 'venza', 'win', 'adele', 'ben', 'flash', 'harry', 'hogan', 'jameson', 'leiber', 'letterman', 'liz', 'marotta', 'may', 'nurse voice', 'ock', 'peter', 'reiss', 'roz', 'spider-man', 'thorkel', 'bagradian', 'blondie', 'cookie', 'duke', 'dunbar', 'geneva man', 'german lieutenant', 'harry', 'hoffy', 'marko', 'p.o.w.s', 'price', 'schultz', 'sefton', 'stosh', 'von scherbach', \"b'etor\", 'chekov', 'data', 'demora', 'guinan', 'harriman', 'kirk', 'la forge', 'lursa', 'picard', 'riker', 'scotty', 'soran', 'troi', 'worf', '1st officer', 'captain', 'chekov', 'comm officer', 'david', 'esteban', 'kirk', 'kruge', 'lieutenant', 'maltz', 'morrow', 'saavik', 'sarek', 'scotty', 'spock', 'styles', 'sulu', 'torg', 'uhura', 'woman', 'bones', 'carol', 'chekov', 'david', 'joachim', 'khan', 'kirk', 'preston', 'saavik', 'scotty', \"scotty's voice\", 'spock', \"spock's voice\", 'sulu', 'terrell', 'uhura', \"uhura's voice\", 'amanda', 'bob', 'bones', 'captain', 'chekov', 'council president', 'doctor', 'fbi agent', 'gillian', 'kirk', 'klingon ambassador', 'morrow', 'nichols', 'pilot', 'saavik', 'sarek', 'science officer', 'scotty', 'spock', 'sulu', 'the boy', 'uhura', 'anij', 'artim', 'crusher', 'data', 'dougherty', 'gallatin', 'la forge', 'nara', 'perim', 'picard', \"picard's com voice\", 'riker', \"riker's com voice\", \"ru'afo\", 'sojef', \"son'a officer #2\", 'troi', 'worf', \"worf's com voice\", 'admiral hayes', 'beverly', 'borg queen', 'data', 'doctor', 'geordi', \"geordi's voice\", 'picard', \"picard's voice\", 'riker', \"riker's com voice\", 'ruby', 'scrimm', 'troi', \"woman's voice\", 'worf', 'admiral donald', 'bones', 'chang', 'chekov', 'communications officer', 'gorkon', 'kirk', 'lt. saavik', 'martia', \"martia's voice\", 'officer', 'president', 'science officer', 'scotty', 'spock', 'sulu', 'uhura', 'b-9', 'beverly', 'data', 'deanna', 'donatra', 'geordi', 'head', 'janeway', 'picard', 'reman officer', 'riker', 'shinzon', 'suran', 'viceroy', 'worf', 'benny', 'clerk', 'cook', 'driver', 'fox', 'jenny', 'lyman', 'major bell', 'man', 'officer', 'security guard', 'shermin', 'star man', 'teenager', 'woman', 'beemer', 'eduardo', 'faith', 'keith', 'lenny', 'mace', 'max', 'strickland', 'tick', 'tran', 'zander', 'candy', 'daitz', 'duncan', 'dylan', 'eaglefoot', 'foreman', 'harold', 'janita', 'koessler', 'kulok', 'low', 'mackelway', 'murman', 'salinas', 'zero', 'answering machine', 'blonde', 'brunette', 'charles', 'christy', 'dealer', 'lisa', 'lorraine', 'michelle', 'mike', 'nikki', 'rob', 'sue', 'trent', 'waitress', 'bonasera', 'carlo', 'clemenza', 'connie', 'don corleone', 'don tommassino', 'fabrizzio', 'fredo', 'hagen', 'johnny', 'kay', 'michael', 'moe', 'nazorine', 'nurse', 'paulie', 'priest', 'sollozzo', 'sonny', 'tessio', 'vitelli', 'voice', 'woltz', 'dickie', 'freddie', 'herbert greenleaf', 'joan', 'maccarron', 'marge', 'meredith', 'peter', 'ripley', 'roverini', 'verrecchia', 'andy', 'betsy', 'concession girl', 'dough-boy', 'iris', 'man in business suit', 'palantine', 'personnel officer', 'secret service man', 'sport', 'tom', 'travis', 'wizard', 'carla', 'goodspeed', 'mason', 'sanchez', 'adele', 'clyde', 'doyle', 'eldridge', 'fitts', 'harry', 'jerry', 'lardner', 'leo', 'luke', 'mrs. terwilliger', 'old tim', 'pete', 'sandra', 'saunders', 'stanton', 'super', 'annie', 'cathy', 'clerk', 'deke', \"harry's voice\", 'helen', 'lydia', 'malone', 'man', 'melanie', 'mitch', 'mrs. bundy', 'mrs. macgruder', 'salesman', 'sholes', 'woman', 'fettes', 'georgina', 'gray', 'joseph', 'macfarlane', 'meg', 'mrs. macbride', 'mrs. marsh', 'alex', 'captain', 'dutton', 'erin', 'erlich', 'madden', 'randall', 'tommy', 'toomey', 'tracy', 'walsh', 'barnhardt', 'bobby', 'captain', 'harley', 'helen', 'hilda', 'jeweler', 'klaatu', 'lieutenant', 'major', 'tom', 'alan', 'david', 'edgar', 'grandpa', 'laddie', 'lucy', 'max', 'michael', 'sam', 'star', 'bennings', 'blair', 'childs', 'clark', 'dr. copper', 'fuchs', 'garry', 'macready', 'nauls', 'norris', 'palmer', 'sanchez', 'alexander', 'dean fulton', 'emma', 'kalen', 'korus', 'mara', 'motorist', 'mrs. watchit', 'overlord', 'philby', 'thin man', 'vox', 'vox kiosk', 'becker', 'damon', 'dr. gries', 'dr. lorenson', 'dr. morgan', 'jackie', 'jean', 'lorenson', 'mackenzie', 'starks', 'tenny', 'waitress', 'darryl', 'hal', 'harlan', 'j.d.', 'jimmy', 'lena', 'louise', 'major', 'max', 'patrolman', 'sarah', 'thelma', 'trucker', \"boss's disabled brother\", 'detective cavallo', 'dom', 'dr. lalonde', 'friend #1', 'healy', 'hitchhiker', 'joanie', 'magda', 'mary', \"mary's dad\", \"mary's mom\", 'police officer', 'renise', 'sully', 'ted', 'tucker', 'warren', 'admiral anderson', 'bobby', 'bundy', 'dobrynin', 'fomin', 'general taylor', 'helen', 'kenny', 'kevin', 'mccone', 'mcnamara', 'reston', 'scali', 'the president', 'carl', 'clear moon', 'cooch', 'crow horse', 'dennis', 'looks twice', 'maggie', 'radio', 'ray', 'tully', 'yellow bird', 'charlie', 'chp', 'cougar', 'fungus', 'girl', 'goose', 'hollywood', 'ice', 'iceman', 'jester', 'maverick', 'slider', 'stinger', 'viper', 'wizard', 'wolfman', 'benny', 'caller', 'clerk', 'cohaagen', 'dr. lull', 'edgemar', 'everett', 'george', 'harry', 'helm', 'johnny', 'lori', 'mcclane', 'melina', 'quaid', 'richter', 'stevens', 'burt', 'earl', 'edgar', 'heather', 'jim', 'megan', 'old fred', 'pham van', 'rhonda', 'val', 'badalato', 'ballistics expert', 'connie', 'eddie', 'esparza', 'fulton', 'gang expert', 'judge', 'kitty', 'mrs. esparza', 'ms. gordon', 'ortega', 'reynard', 'roger', 'shu', 'sklaroff', 'stipe', 'albert', \"bob's voice\", 'bobby', 'cable', 'carl', 'cliff', 'cole', 'cooper', 'desmond', 'donna', 'ed', 'harold', 'irene', 'jack', 'jacoby', 'jacques', 'james', 'jerry', 'josie', 'laura', 'leland', 'leo', 'man from another place', 'norma', 'pete', 'sarah', 'shelly', 'stanley', 'teresa', 'truman', 'abrams', 'alito', 'bishop', 'claire', 'concannon', 'doneghy', 'dr. thompson', 'dr. towler', 'galvin', 'gruber', 'jimmy', 'judge', 'kathy', 'laura', 'maid', 'mary rooney', 'mickey', 'rooney', 'sally', 'towler', 'voice', 'young lawyer', 'alonzo hogue', 'chief of staff', 'clayton', 'colonel', 'fiddler', 'general mann', 'gratzman', 'm.p. driver', 'pastor collins', 'radio voice', 'ranger', 'salvador', 'secretary', 'sheriff', 'sylvia', 'wash perry', 'bob', 'chase', 'dr. hefner', 'dylan', 'heather', 'highway patrolman #1', 'host', 'john saxon', 'julie', \"man's voice\", 'robert englund', 'sara', 'wes', 'alice', 'all', 'bill', 'charles', 'chuck', 'commander', 'downing', 'francis', 'george', 'john', 'lawford', 'middy', 'phil', 'rick', 'robin', 'sanders', 'skipper', 'terry', 'tod', 'tyler', 'will', 'artie', 'beany', 'black man', 'bobby', 'buck', 'caller #1', 'chet', 'drop shadow', 'erv', 'george', 'good witch', 'idiot punk', 'johnnie', 'lula', 'manager', 'marietta', 'pace', 'perdita', 'reggie', 'reporter', 'sailor', 'santos', 'crabtree', 'goatee kid', 'grady', 'greenhut', 'hank', 'hannah green', 'james leer', 'miss sloviak', 'officer pupcik', 'sara', \"sara's voice\", 'traxler', 'vernon', 'vernon hardapple', 'walter', \"walter's voice\", 'carlos', 'girl', 'lucas', 'man', 'mary-kay', 'robin', 'rosen', 'vicki', 'walter', 'bud', 'catfish', 'coffey', 'hippy', 'jammer', 'lindsey', 'monk', 'one night', 'sonny', 'anna', \"anna's father\", 'carabiniere', 'claudia', 'corrado', 'ettore', 'father', 'giulia', 'goffredo', 'lieutenant', \"man's voice\", 'marshal', 'midwife', 'old man', 'patrizia', 'raimondo', 'sandro', \"woman's voice\", 'young sailor', 'zuria', 'agnes', 'elderly nun', 'eve', 'larry', 'leveau', 'mama', 'martha', 'monsignor', 'mother miriam', 'sister anne', 'audrey', 'blonde', 'boy', 'boys', 'director', 'floor manager', 'frank', 'george', 'girl', 'grandfather', 'john', 'millie', 'norm', 'paul', 'policeman', 'ringo', 'secretary', 'sergeant', 'shake', 'simon', 'broussard', 'computer', 'faust', 'hunter', 'melkonis', 'roby', 'standard', 'ackland', 'beauvais', 'cassie', 'de vries', 'diller', 'driscoll', 'guttierez', 'hiroko', 'kamen', 'minh', 'parsons', 'revna', 'york', 'addison', 'bill', 'birdie', 'eve', 'girl', 'karen', 'lloyd', 'margo', 'max', 'miss caswell', \"operator's voice\", 'pianist', 'bernstein', 'bookkeeper', 'bradlee', 'caddy', 'clawsen', 'dahlberg', 'dardis', 'deep throat', 'foreign editor', 'hannah', 'hunt', 'irwin', 'jane', 'judge', 'mccord', 'mitchell', 'mrs. graham', 'national editor', 'rosenfeld', 'secretary', 'segretti', 'simons', 'sloan', 'sweet old lady', 'woodward', 'choir teacher', 'coach marshall', 'college chick', 'finch', 'heather', 'jessica', 'jim', \"jim's dad\", 'kevin', \"kevin's brother\", 'michelle', 'nadia', 'oz', 'porno-channel chick', 'sherman', 'sophomore chick', 'stifler', \"stifler's mom\", 'vicky', 'amy', 'andy', 'chief', 'claude', 'cop', 'desk officer', 'gaston', 'leduc', 'marcel', 'serafine', 'terrence', 'anastasia', 'anya', 'bartok', 'dmitri', 'gregor', 'nicholas', 'rasputin', 'sophie', 'tatiana', 'vladimir', '1st man', '2nd man', 'actor', 'actress', 'allison', 'alvy', \"alvy's father\", \"alvy's mother\", \"alvy's voice\", \"alvy's voice-over\", 'annie', \"annie's voice\", \"annie's voice-over\", 'duane', 'girl date', 'man in line', 'mom hall', 'officer', 'reporter', 'rob', 'robin', 'teacher', 'tessie', 'tony', 'america', 'astrid', 'cal', 'clair', 'gina', 'jeffrey', 'jerry', 'joe', 'judy', 'mac', 'monica', 'panes', 'ryan', 'sally', 'skye', 'sophia', 'azteca', 'bala', 'barbatus', 'carpenter', 'formica', 'handmaiden #2', 'motivational counsellor', 'queen', 'weaver', 'z', 'blonde', 'bud', 'dobisch', 'dr. dreyfuss', 'fran', 'kirkeby', 'margie', 'matuschka', 'miss olsen', 'moffett', 'mrs. dreyfuss', 'mrs. lieberman', 'sheldrake', 'sylvia', 'tommy', 'vanderhof', 'agent', 'australian', 'captain', 'chef', 'chief', 'civilian', 'clean', 'colby', 'colonel', 'gaston', 'kilgore', 'kurtz', \"kurtz's wife\", 'lance', 'lieutenant', 'mike', 'moonby', 'radio', 'roxanne', 'sergeant', 'soldier', 'willard', nan, 'anne marie', 'corbett', 'eric', 'kenai', 'lemalle', 'meyerling', 'mitchell', 'neff', 'state policeman', 'viking bob', 'wilder', 'beverly', 'carol', 'cheryl', 'doctor', 'dr. bettes', 'frank', 'head waiter', 'jackie', 'melvin', 'nora', 'ray', 'simon', 'spencer', 'vincent', 'zoe', 'bain', 'cabby', 'contractor/screen', 'electra', 'escort', 'ketcham', 'official', 'rath', 'rath/screen', 'woman', 'chris', 'diplomat', 'doug', 'henry', 'holly', 'honza', 'jahn', 'jaroslav', 'josh', 'katka', 'lawrence', 'mira', 'pavel', 'student', 'belinda', 'cynthia', 'eric', 'harold', 'jamie', 'landon', 'luis', 'mr. kelly', 'rev. sullivan', 'biff', 'clerk', 'dick', 'eileen', 'george', 'marty', 'mr. arky', 'n.r.c. agent reese', 'operator', 'professor emmett brown', 'suzy', 'waitress', 'boy', 'cato', 'clerk', 'deputy', 'father', 'girl', 'holly', 'kit', 'rich man', 'roughneck', 'sheriff', 'visitor', 'billy', 'buckaroo banzai', 'buckaroo banzai on tv', 'casper lindley', 'john bigbooté', \"john o'connor\", 'john parker', 'national security man', 'new jersey', 'penny priddy', 'perfect tommy', 'president widmark', 'prof. hikita', 'rawhide', 'reno', 'tv anchorwoman', 'audrey', 'barton', 'charlie', 'clerk', 'deutsch', 'garland', 'geisler', 'lipnik', 'lou', 'mastrionotti', 'mayhew', 'voice', 'an i.a. man', 'andrews', 'beth', 'catherine', 'corrigan', 'detective', 'gus', 'lt. walker', 'nick', 'talcott', 'the woman', 'albert milo', 'andy warhol', 'annina nosei', 'artist #2', 'basquiat', 'benny', 'big pink', 'bruno', 'chris', 'counterman', 'driver', 'george', 'gina', 'greg', 'interviewer', 'jack milo', 'leshko', 'mary boone', 'rammellzee', 'rene', 'shenge', 'stella', 'toxic', 'alfred', 'batman', 'bruce', 'catwoman', 'chip', 'fat clown', 'max', 'penguin', 'selina', 'alfred', 'barbara', 'batgirl', 'batman', 'bruce', 'dick', 'freeze', 'ivy', 'julie', 'ms. b. haven', 'pamela', 'robin', 'woodrue', 'alfred', 'batman', 'bruce', 'chase', 'dick', 'edward', 'guard', 'riddler', 'stickley', 'two-face', 'alfred', 'batman', 'bruce', 'dent', 'driver', 'eckhardt', 'eddie', 'grissom', 'jack', 'joker', 'knox', 'mayor', 'nick', 'rotelli', 'vicki', 'alison', 'annie', 'bean', 'bernie', 'david', 'doctor', 'doctor jacobson', 'elmer', 'grierson', 'jennifer', 'kevin', 'nurse', 'reynolds', 'beavis', 'beavis/cornholio', 'bork', 'butt-head', 'dallas', 'dumb guy', 'flemming', 'martha', 'muddy', 'adam', 'barbara', 'betelgeuse', 'charles', 'delia', 'jane', 'juno', 'lydia', 'maxie', 'otho', 'receptionist', 'allenby', 'baldwin', 'billings', 'chance', 'courtney', 'dennis', \"dennis' voice\", 'dupont', 'eve', 'first lady', 'franklin', 'hayes', 'hull', 'jeffrey', 'johanna', 'karpatov', 'kaufman', 'kinney', 'louise', 'mrs. aubrey', 'novogrod', 'president', 'rand', 'skrapinov', 'smythe', 'sophie', 'stiegler', 'wilson', 'agent', 'cabbie', 'craig', 'don', 'elijah', 'erroll', 'flemmer', 'floris', 'harry s. truman puppet', 'kevin bacon', 'lester', 'lotte', 'malkovich', 'mantini', 'maxine', 'mertin', 'tiny woman', 'wendy', 'woman #1', 'baby suggs', 'beloved', 'denver', 'ella', 'janey', 'lady jones', 'paul', 'sawyer', 'sethe', 'stamp paid', 'white man', 'allan', 'blond man', 'brandt', 'chief', 'da fino', 'dieter', 'donnelly', 'donny', 'driver', 'dude', 'lebowski', 'man', 'maude', 'smokey', 'the stranger', 'treehorn', 'voice', 'walter', 'woo', 'young man', 'younger cop', 'bucky', 'lee', 'blade', 'chupa', 'damaskinos', 'nomak', 'nurse', 'nyssa', 'reinhardt', 'scud', 'stevens', 'whistler', 'blade', 'curtis', 'dragonetti', 'frost', 'kam', 'karen', 'miracia', 'vanessa', 'whistler', 'anna', 'cotter', 'domini', 'heather', 'intern', \"man's voice\", 'nick', 'sid', \"woman's voice\", 'abby', 'debra', 'kyle', 'man', 'marty', 'meurice', 'ray', 'rhodes', 'visser', 'woman', 'aunt barbara', 'ben', 'detective williams', 'dorothy', 'f.b.i. man', 'frank', 'jeffrey', 'mike', 'mr. beaumont', 'mrs. beaumont', 'mrs. williams', 'raymond', 'sandy', 'yellow man', 'alessandro', 'augusto', 'barbara', 'calibanos', 'cesar', 'derek', 'detective #1', 'diego', 'dr. bay', 'ermine', 'escobar', 'fred', 'garcia', 'george', 'gus', 'kevin', 'kristina', 'leon', 'mirtha', 'prosecutor', 'santiago', 'tuna', '2nd journalist', '3rd journalist', 'algerian', 'ali', 'arnaud', 'assistant commissioner', \"ben m'hidi\", 'employee', 'general', 'hacene', 'kader', 'mathieu', 'mourad', 'petit omar', 'sergeant', 'soldier', 'biggs', 'cardenas', 'dr. paley', 'dr. trammel', 'dr. wong', 'dulaney', 'ester', 'joanne', 'judge burnham', 'koehler', 'mccurdy', 'michael', 'miss sellers', 'rebecca', 'reese', 'roston', 'sattler', 'sharon', 'troxell', 'betty', 'carolyn', 'eleanor', 'francesca', 'gladys', 'henry', 'lawyer', 'madge', 'michael', 'mother', 'reporter', 'richard', 'robert', 'bill', 'bones', 'cinnabar', 'jason', 'jeremiah', 'lupovich', 'mack', 'maurice', 'patrick', 'pearl', 'sal', 'shotgun', 'stank', 'tia', 'weaze', 'caesar', 'cop #1', 'corky', 'gino', 'johnnie', 'mickey', 'violet', 'abbott', 'bourne', 'clerk', 'conklin', 'deputy dcm', 'giancarlo', 'manager/phone', 'marie', 'morgue boss', 'operator/phone', 'professor', 'rawlins', 'research tech #1', 'security chief', 'the man', 'woman clerk', 'wombosi', 'zorn', 'dowser', 'gent', 'girl', 'girl buttle', 'helpmann', 'interviewer', 'jack', 'jill', 'kurtzman', 'lime', 'matthews', 'mother', 'mrs buttle', 'mrs terrain', 'phone voice', 'porter', 'sam', 'spiro', 'spoor', 'tuttle', 'capt. barney', 'carlos', 'coates', 'dispatcher love', 'drummer', 'frank', 'hazmat', 'kanita', 'larry', 'marcus', 'mary', 'noel', 'radio dispatcher', 'rose/mary', 'walls', 'aaron', 'bill', 'blair', 'bobbie', 'buddy', 'cameraman', 'ernie', 'father', 'gerald', 'j.d.', 'jane', 'jennifer', 'paul', 'tom', 'wife', 'young woman', 'alice', 'art', 'carla', 'cuff', 'leonard', 'link', 'lou', 'maxwell', 'mayolia', 'mrs. swicker', 'plump man', 'walter', 'amilyn', 'andy', 'benny', 'biker', 'buffy', \"buffy's mom\", 'cassandra', 'girl', 'grueller', 'jeffrey', 'jennifer', 'kimberly', 'lothos', 'man', 'merrick', 'nicole', 'pike', 'wally', 'zeph', 'annie', 'bobby', 'crash', 'ebby', 'father', 'jackson', 'jimmy', 'jose', 'larry', 'millie', 'nuke', \"nuke's father\", 'sandy', 'skip', 'tony', 'umpire', 'ace', 'al', 'amy', 'austin', 'banker', 'borelli', 'charlie clark', 'cop #1', 'cop #2', 'cowboy', 'detective johnson', 'dominick', 'eddy', 'fbi agent #10', 'fbi agent #2', 'female newscaster', 'frankie avalon', 'gaggi', 'ginger', 'green', 'high roller', 'hotel receptionist', 'jennifer', 'jerry', 'joe', 'lester', 'little nicky', 'marino', 'nicky', 'oscar', 'piscano', \"piscano's mother\", \"piscano's wife\", 'security guard #1', 'senator', 'sherbert', 'signaler', 'stage manager', 'stone', 'tony', 'tony dogs', 'ward', 'webb', 'winner', 'adonis', 'brock', 'cactus', 'captain god', 'catwoman', 'female exec cat', 'frank', 'housecat', 'lane', 'library clerk', 'mom', 'selina', 'spooky', '2nd driver', 'caitlin', \"cop's voice\", 'grillo', 'klinger', 'lenore', \"lenore's voice\", 'male voice', 'nelson', 'officer grillo', 'theo', 'trucker', 'voice', 'col', 'dave', 'deveroux', 'dil', 'fergus', 'franknum', 'jody', 'jude', 'maguire', 'tommy', 'adam', 'bartholomew', \"bartholomew's voice\", 'cruikshank', 'dyle', 'félix', 'gideon', 'grandpierre', 'jean-louis', 'peter', 'reggie', \"reggie's voice\", 'scobie', 'sylvie', 'tex', 'annette', 'ben', 'brent', 'caretaker', 'cindy', 'dad', 'deputy', 'jimmy', 'jody', 'kenny', 'killer', 'leonard', 'marge', 'mark', 'miss dunlop', 'nerd 1', 'nerd 2', 'policeman', 'rod', 'sandy', 'sharon', 'stacy', 'tom', 'arlo', 'big ranger', 'brynner', 'carl', 'darlene', 'dennis', 'gomez', 'hemmings', 'ice cream andy', 'lewis', 'long', 'mason', 'mason & arlo', 'pappas', 'pumper', 'scene', 'sweeney', 'vaughn', 'vitelli', 'barney', 'clerk', 'cross', \"cross' voice\", 'curly', 'duffy', 'emma', 'escobar', 'evelyn', 'gittes', \"ida's voice\", 'morty', 'mrs. mulwray', 'other customer', 'palmer', 'pilot', 'rainmaker', 'secretary', 'sophie', \"sophie's voice\", 'the boy', 'voice on phone', 'walsh', \"walsh's voice\", 'yelburton', 'young woman', 'alfredo', 'elena', 'maria', 'priest', 'salvatore', 'spaccafico', 'bernstein', 'carter', 'city editor', 'dr. corey', 'emily', 'kane', 'kane sr.', 'leland', 'matisti', 'mrs. kane', 'photographer', 'rawlston', 'raymond', 'reilly', 'rogers', 'susan', 'thatcher', 'the captain', 'the president', 'third newspaperman', 'thompson', 'activist', 'caitlin', 'coroner', 'customer', 'dante', 'girl 1', 'girl 2', 'heather', 'impatient customer', 'indecisive customer', 'jay', 'john', 'man', 'old man', 'randal', 'sanford', 'suited man', 'trainer', 'v.a. customer', 'veronica', 'willam', 'brett', 'delmar', 'evan', 'frank', 'gabe', 'hal', 'jessie', 'kynette', 'matheson', 'qualen', 'sarah', 'travers', 'wright', 'alex', 'catlady', 'check-in', 'chief guard', 'deltoid', 'dim', 'dolin', 'dr. branom', 'dr. brodsky', 'dr. taylor', 'em', 'georgie', 'governor', 'lardface', 'minister', 'mr. alexander', 'pee', 'priest', 'rubinstein', 'tramp', 'annie', 'cop #1', 'daniel', 'dmitri', 'heller', 'ida', 'kid #1', 'lenny', 'man', 'max', 'muldoon', 'pedrosa', 'vincent', 'woman', 'cop', 'cynic', 'flip', 'jerry', 'jonas', 'lawyer', 'liza', 'lowry', 'operator', 'wilson', 'a.t.l.', 'chairman', 'drumlin', 'ellie', 'hadden', 'jean-claude', 'joss', 'kent', 'kitz', 'lunacharsky', 'peter', 'president lasker', 'project official', 'ted', 'willie', 'alibi', 'arletta', 'blind dick', 'boss paul', 'captain', 'dogboy', 'dragline', 'gambler', 'koko', 'luke', 'society red', 'tattoo', 'andy', 'attorney', 'conrad', 'daryll', 'helen', 'm.j.', 'mike', 'nikko', 'peter', 'quinn', 'ruben', 'saks', 'susan', 'woman', 'catherine', 'helen', 'james', 'renata', 'vaughan', 'dr. emlee', 'letty', 'michael', 'mrs. hallstrom', 'mrs. mayer', 'nurse gates', 'paul', 'principal gail', 'ruth', 'agent hadley', 'bastaldi', 'bobby beans', 'bonanno', 'daniel', 'hector', 'JOEY \"TWO TONS\"', 'julien', 'lamar', 'marcel', 'NICKY \"THE RAKE\"', 'raphael', 'raymond', 'sami', 'sophie', 'uniformed cop', 'vinny', 'wayne', 'zammito', 'zero', 'aunt wu', 'bo', 'figure', 'figure in black', 'fox', 'gangster a', 'governess', 'jen', 'li', 'lo', 'madam yu', 'may', 'sir te', 'tsai', 'yu', 'albrecht', 'annabella', 'darla', 'elly', 'eric', 'funboy', 'gideon', 'grange', 'lao', 'mickey', 'skull cowboy', 't-bird', 'tin-tin', 'top dollar', 'torres', 'annette', 'aunt helen', 'blaine', 'cecile', 'dr. greenbaum', 'greg', 'kathryn', 'mrs. caldwell', \"mrs. o'shea\", 'mrs. sugerman', 'night doorman', 'rachel', 'ronald', 'sebastian', 'alice', 'amy', 'barbara', 'edward', 'irena', 'lois', 'miss callahan', 'mrs. farren', 'oliver', 'carlton', 'doctor', 'frida', 'george', 'gregory', 'jennifer', 'lloyd', 'mark', 'mother', 'mr. grant', 'peter', 'shrink', 'barber', 'bumstead', 'cop', 'karl', 'miss crenshaw', 'mister black', 'priest', 'schreber', 'stromboli', 'thompson', 'white', 'wife', 'bob', 'dave', 'duane', 'ellen', 'mitchell', 'murray', 'nance', 'reed', 'secretary of commerce', 'chico', 'diesel', 'gasparilla', 'john', 'julie', 'logan', 'maria', 'mary', 'miguel', 'rhodes', 'sarah', 'toby', 'tony', 'tricks', 'bubba', 'cameron', 'charlie', 'chet', 'chris', 'gloria', 'hager', 'keating', 'knox', 'meeks', 'mr. perry', 'neil', 'nolan', 'pitts', 'todd', 'captain', 'finnegan', 'hanover', 'mamooli', 'mulligan', 'pantucci', 'trillian', 'vivo', 'albert', 'angela', 'armand', 'bar girl', 'checker', 'colonel', 'john', 'lieutenant', 'linda', 'man', 'merle', 'nick', 'sal', 'vet 1', 'vet 2', 'vince', 'bennett', 'cassy', 'dubbs', 'gallagher', 'kimberly', 'peebles', 'sanchez', 'sheppard', 'wade', 'warden', 'whore', 'willy', 'belle', 'daniel', 'hank', 'jabez', 'ma stone', 'martin', 'mary', \"old farmhand's voice\", 'scratch', 'sheriff', 'squire', 'stevens', 'the woman', 'tom sharp', 'webster', 'argyle', 'big johnson', 'ellis', 'hans', 'holly', 'karl', 'mcclane', 'powell', 'robinson', 'takagi', 'theo', 'commissioner', 'driver', 'heidi', 'jackie', 'jenny', 'jesus freak', 'leon', 'man', 'moretti', 'mulvaney', 'newsman', 'pauline', 'sal', 'sam', 'sheldon', 'sonny', 'sylvia', 'tv newsman', 'vi', 'bishop', 'choco', 'cigliuti', 'claremont', 'domino', 'ed', 'edna', 'green', 'keg president', 'kimmie', 'lashandra', 'lashindra', 'lateesha', 'sophie', 'taryn', 'weiss', 'ziering', \"buggin' out\", 'clifton', 'coconut sid', 'da mayor', 'eddie', 'jade', 'korean clerk', 'mister seńor love daddy', 'ml', 'mookie', 'mother sister', 'pino', 'radio raheem', 'sal', 'sweet dick willie', 'tina', 'vito', 'cale', 'ching chong', 'harry', 'jessica', \"jessica's dad\", 'lewis', 'lloyd', 'margie', 'moffit', 'mrs. dunne', 'ms. heller', 'principal collins', 'ray', 'ten year-old kid', 'toby', 'turk', 'zimmer', 'baron', 'duke leto', 'emperor', 'gurney', 'jessica', 'kynes', 'mapes', 'navigator', 'paul', 'piter', 'reverend mother', 'stilgar', 'thufir', 'bela', 'bunny', 'cameraman bill', 'conrad', 'criswell', 'doctor', 'dolores', 'ed', \"ed's voice\", 'georgie', 'host', 'kathy', 'loretta', 'mr. feldman', 'norma', 'orson welles', 'paul marco', 'reverend lemon', 'reynolds', 'rude boss', 'tor', 'vampira', 'al', 'barry', 'cynthia', 'dr. geller', 'ed', 'felicia', 'hank', 'jeanette', 'jill', 'john', 'lou', 'marcia', 'mr. scharlach', 'ray', 'rita', 'scharlach', 'shari', 'tad', 'woman', 'class', 'dave', 'diane', 'dick', 'jim', 'jo', 'larry', 'lisa', 'miss beeder', 'ms. hoy', 'paul', 'sherry', 'tammy', 'tracy', 'walt', 'boxer', 'bud', 'chief', 'clerk', 'coates', 'cohen', 'dudley', 'exley', 'hudgeons', 'jack', 'loew', 'lynn', 'mrs. lefferts', 'operator', 'patchett', 'pinker', 'reynolds', 'stensland', 'stompanato', 'vice captain', 'young officer', '\"BRILL\"', 'albert', 'alfonso', 'blake', 'brill', 'dean', 'depinto', 'desk clerk', 'dylan', 'eric', 'fiedler', 'frankie', 'hamersley', 'hicks', 'jenny', 'jerry', 'l.t.', 'levin', 'man', \"man's voice\", 'marshal', 'meg', 'morelos', 'patrick', 'pratt', 'rachel', 'reynolds', 'sal', 'sales clerk', 'senator albert', 'shaffer', 'silverberg', 'stacy', 'waiter', 'zavitz', 'almásy', 'boy', 'caravaggio', 'clifton', 'corporal', 'hana', 'hardy', 'jan', 'katharine', 'kip', 'lady hampton', 'madox', 'müller', 'officer', 'oliver', 'stuart', 'the patient', 'cruz', 'gin', 'mac', 'qui', 'thibadeaux', 'anna', 'baum', 'brenda', 'defending lawyer', 'doctor', 'donna', 'ed', 'embry', 'erin', 'frankel', 'george', 'jane', 'katie', 'laura', 'mandy', 'matthew', 'mrs. morales', 'paulsen', 'potter', 'rosalind', 'ross', 'theresa', 'admiral', 'admiral piett', 'ben', 'chewie', 'creature', 'deck sergeant', 'emperor', 'han', 'lando', 'leia', 'luke', 'piett', 'rieekan', 'threepio', 'vader', 'yoda', 'aide', 'colonel', 'cornelius', 'lewis', 'milo', 'stevie', 'zira', 'brazen', 'cuervo jones', 'hershe', 'malloy', 'map to the stars eddie', 'pendejo bob', 'pipeline', 'plissken', 'president', 'spinal', 'taslima', 'utopia', 'arthur', 'figure', 'guenevere', 'kay', 'lancelot', 'merlin', 'mordred', 'morgana', 'perceval', 'sir ector', 'uther', 'burke', 'cardinal', 'chris', 'clinic director', 'dr. klein', 'dr. tanney', 'father dyer', 'karl', 'karras', 'kinderman', 'merrin', 'mrs.karras', 'nurse', 'president', 'psychiatrist', 'regan', 'regan/demon', 'sharon', 'uncle', 'willie', 'bud', 'charlie', 'donna', 'dr. beasley', 'earl', 'frank', 'girl', 'helen', 'jack', 'kid', 'lloyd', 'monica', 'mr. daniels', 'mrs.  baker', 'mrs. baker', 'nick', 'nina', 'susie', 'tommy', 'willie', 'woman', 'archer', 'buzz', 'castor', 'dietrich', 'dr. gardner', 'eve', 'jamie', 'kimberly', 'lazarro', 'pollux', 'sasha', 'tito', 'walton', 'wanda', 'waxy', 'adelle', 'alan', 'annie', 'arnie', 'big ed', 'cash', 'evelyn', 'frank', 'jack', 'kate', 'kenny', 'lassiter', 'lori', 'man', 'mrs. peterson', 'paula', 'sam wong', 'tony the doorman', 'alicia', 'ben', 'debbie', 'doctor', 'johnny', 'leonard', 'reed', 'sexy nurse', 'sue', 'the thing', 'victor', 'carter', 'cora', 'duval', 'grant', 'man', 'michaels', \"michaels' voice\", 'owens', \"owens' voice\", 'reid', 'attendant', 'carl', 'customer', 'detective sibert', 'gary', 'grimsrud', 'hooker one', 'hooker two', 'jean', 'jerry', 'lou', 'man', 'marge', 'mike', 'norm', 'salesman', 'scott', \"scott's voice\", 'shep', 'stan', 'trooper', 'voice', 'wade', 'woman', 'younger man', 'angel face', 'bandaged proprietor', 'bob', 'boss', 'detective stern', 'intern', 'jack', 'leader', 'lou', 'marla', 'raymond', 'ricky', 'security tfm', 'tyler', \"tyler's voice\", 'voice', 'wounded bartender', 'clear', 'dano', 'detective suby', 'eugene', 'frankie', 'isabella', 'jorge', 'kat', 'kimberly', 'mr. burroughs', 'nora', 'rory', 'shaina', 'steve', 'thomas', 'tim', 'alex', 'billy', 'carter', 'clear', 'mr. bludworth', 'tod', 'weine', 'brewer', 'co', 'de fravio', 'doyle', 'kirkhill', 'prisoner', 'rambo', 'tech', 'trautman', 'anne', 'doctor', 'edwin', 'frank', 'gay bum', 'jack', 'leather', 'lydia', 'parry', 'receptionist', 'sondra', 'betty', 'bobby', 'carl', 'catherine', 'driver', 'elton', 'palm', 'rayette', 'samia', 'second engineer', 'terry', 'tita', 'twinky', 'waitress', 'aaron', 'amanda', 'carl0s', 'carlos', 'donna', 'hector', 'jenette', 'michelle', 'victor', 'boyd', 'clerk', 'creasy', 'cummings', 'dr. dolen', 'fat sam', 'fletch', 'gail', 'gillett', 'gummy', 'larry', 'man', 'margie', 'marvin', 'mr. stanwyk', 'mr. underhill', 'mrs. stanwyk', 'records nurse', 'stanwyk', 'velma', 'waiter', 'walker', 'band', 'colleen', 'don', 'ford', 'grendel', 'jazz', 'johnny', 'lt. amos', 'melodi', 'sleazy guy', 'smiley', 'the kid', 'zuzu', '1st man', '2nd man', 'angie', 'black pusher', 'charnier', 'dancer', 'desk clerk', 'devereaux', 'doyle', 'jesus', 'la valle', 'marie', 'mulderig', 'mutchie', 'nicoli', 'russo', 'sal', 'weinstock', 'daryl', 'desk sgt.', 'frank', 'gibson', 'gordo', 'john', 'johnny', 'julia', 'satch', 'shepard', 'supervisor', 'abel', 'andy', 'chili', 'chris', 'chuck', 'debbie', 'derek', 'shelly', 'vera', 'cort', 'darren', 'deputy', 'jill', 'katie', 'larry', 'lizbeth', 'megan', 'nancy', 'paula', 'sheriff', 'sissy', 'stan', 'tommy', 'campbell', 'diana', 'duke', 'jessica', 'josh', 'randy', 'sheriff', 'steven', 'vicki', 'eva', 'jim', 'mcculloch', 'miss van deusen', 'radio officer', 'rennie', 'sean', 'suzy', 'tamara', 'wayne', 'young rennie', 'driver', 'elliot', 'first man', 'jack', 'joanna', 'laurel', 'lillian', 'matthew', 'michael', 'nicky', 'paisley', 'peter', 'second man', 'sidney', 'steven', 'toyota', 'waiter', 'ba', 'bourke-white', 'charlie', 'collins', 'gandhi', 'irwin', 'jinnah', 'khan', 'mirabehn', 'nehru', 'patel', 'porter', 'senior police officer', 'smuts', 'walker', 'anton', 'antonio', 'caesar', 'detective hugo', 'director josef', 'eugene', 'geneticist', 'german', 'hugo', 'investigator', 'irene', 'jerome', 'lamar', 'maria', 'nurse', 'vincent', 'beynon', 'carol', 'doc', 'fran', 'harold', 'laughlin', 'rudy', 'salesman', 'slim', 'soldier', 'albert', 'billy', 'brumby', 'carter', 'con', 'doreen', 'eddie', 'edna', 'eric', 'gerald', 'glenda', 'harry', 'keith', 'kinnear', 'margaret', 'peter', 'sid', 'thorpe', 'aaronow', 'baylen', 'levene', 'lingk', 'moss', 'roma', 'williamson', 'anthony', 'cicci', 'clemenza', 'connie', 'deanna', 'don corleone', 'don francesco', 'fanucci', 'fbi man #1', 'fredo', 'genco', 'hagen', 'kay', 'klingman', 'mama', 'man', 'michael', 'neri', 'ola', 'pentangeli', 'roberto', 'rocco', 'rosato', 'roth', 'sam roth', 'sandra', 'senator', 'senator geary', 'senator kane', 'tessio', 'vito', 'widow', 'betty', 'clay', 'david', 'dr. payne', 'dwight', 'elsa lanchester', 'ernest thesiger', 'hanna', 'harry', 'kay', 'princess margaret', 'whale', 'atley jackson', 'calitri', 'detective castlebeck', 'detective drycoff', 'donny astricky', 'freb', 'helen raines', 'judge croft', 'kip', 'memphis', 'mirror man', 'otto', 'sway', 'toby', 'tom', 'tumbler', 'angie', 'billy', 'henry', 'jimmy', 'judy', 'karen', \"karen's mother\", 'marty', 'mcdonald', 'mickey', 'robin', 'sonny', 'toddy', 'tommy', 'vario', 'all', 'billy', 'chuckie', 'clark', 'dytress', 'executive', 'hypnotist', 'lambeau', 'morgan', 'pekec', 'psychologist', 'sean', 'skylar', 'student', 'terry', 'timmy', 'tom', 'will', 'agent', 'al', 'bill', 'blonde girl', 'bookkeeper', 'caretaker', 'casy', 'connie', 'cop', 'davis', 'driver', 'first boy', 'floyd', 'frank', 'girl', 'grampa', 'guard', 'john', 'ma', 'mae', 'migrant', 'muley', 'pa', 'rosasharn', 'ruthie', \"ruthie's voice\", 'second man', 'spencer', 'the man', 'tim', 'tom', 'winfield', \"winfield's voice\", 'amy', 'arlene', 'bob', 'club member #1', 'club member #2', 'dan', 'debi', 'dr. oatman', 'driver', 'grocer', 'ken', 'lardner', 'marcella', 'martin', 'mary', 'mccullers', 'mr. newberry', 'paul', 'southtec guard', 'annie', 'david gottschalk', 'diane', 'frank', 'grace', 'joe', 'judith', 'liz', 'robert', 'rona', 'tom', 'twin', 'woman', 'agent bob', 'agent ray', 'blade', 'cereal', 'dade', 'gill', 'hal', 'joey', 'kate', 'kid', 'margo', 'mrs. murphy', 'nikon', 'norm', 'operator', 'phreak', 'plague', 'razor', 'attendant', 'brady', 'cop', 'darlene', 'dr. hoffman', 'earl', 'guy', 'jamie', 'kelly', 'lindsay', 'logan', 'loomis', 'man', 'meeker', 'rachel', 'richard', 'sayer', 'annie', 'bob', 'boyfriend', 'brackett', 'laurie', 'lindsey', 'loomis', 'lynda', 'marion', 'paul', 'sister', 'tommy', 'wynn', 'april', 'carol', 'david', 'dr. abel', 'dusty', 'ed', 'elliot', 'evan', 'father', 'frederick', 'gail', 'hannah', 'holly', 'krishna leader', 'lee', 'mickey', 'norma', 'norman', 'anna', 'barney', 'brigham', 'committee member', 'cop one', 'cordell', 'crawford', 'drumgo', 'fell', 'franklin', 'gentleman', 'krendler', 'lechter', 'mapp', 'mrs. pazzi', 'pazzi', 'psychiatrist', 'ricci', 'starling', 'superior', 'verger', 'voice on phone', 'adam', 'andrew', 'donald', 'eric', 'hayley', 'jasper', 'pixel', 'talia', 'wendy', 'wendy                                              ]', 'wichita', 'wichita                                            ]', 'betty', 'brad', 'courtney', 'dad', 'earl', 'heather chandler', 'heather duke', 'heather mcnamara', 'j.d.', 'kurt', 'mom', 'pauline', 'ram', 'veronica', 'whitney james', 'herbert', 'honora', 'juliet', 'pauline', 'allison', 'bret', 'dr. ambrose', 'givens', 'gwen', 'kirsty', 'lange', 'larry', 'old man', 'paramedic', 'pinhead', 'priest', 'sage', 'tawny', 'trevor', 'bernie', 'bubber', 'chick', 'chucky', 'deakins', 'donna', 'duke', 'evelyn', 'gale', 'joan', 'joey', 'parker', 'robinson', 'wallace', 'winston', 'bert', 'bully', 'hider', 'holly', 'julie', 'neil', \"neil's friend #1\", 'phil', 'real-estate lady', 'rita', 'salesgirl', 'secretary', 'therapist', 'bedsoe', 'captain', 'cavanaugh', 'detective greley', 'farmer', 'hooded man', 'isabelle', 'jennifer', 'kilvara', 'macleod', 'mccleod', 'mr. parker', 'old man', 'professor dajorski', 'rachel', 'reporter', 'robbery detective', 'sarah', 'teller', 'vieira', 'anders', \"anders' voice\", 'beldone', 'benza', 'castellano', 'dennis', 'dill', 'fischer', 'howell', 'jane', 'jennifer', 'jorgenson', 'kevin', 'klaus', 'louise', \"louise's voice\", 'marion', 'mars', 'martin', \"mikkelson's voice\", 'mr. jones', 'seymore', 'talley', 'the watchman', \"the watchman's voice\", 'thomas', 'tuzee', 'walter', 'benedict', 'bik', 'captain', 'colonel oliver', 'general bizimungu', 'george', 'gloria', 'gregoire', 'jock', 'lieutenant', 'militiaman #1', 'mr. garindi', 'paul', 'president', 'refugee', 'roger', 'sabena president', 'tatiana', 'xavier', 'zozo', 'blackburn', 'eddie', 'evelyn', 'jenzen', 'kirsten', 'melissa', 'price', 'pritchett', 'sara', 'schecter', 'voice', 'amy', 'aubrey', 'maura', 'seamus', 'shea', 'will', 'brad', 'doc', 'elliott', 'joey', 'jp', 'mama', 'pinhead', 'sandy', 'terri', 'alex', 'alfred', 'almond joy', 'anna', 'cardinal', 'cesar', 'darwin', 'gates', 'hawk', 'kaplan', 'minerva', 'snickers', 'ad man #1', 'ad man #2', 'addison', 'amy', 'ancient sorter', 'barman', 'benny', 'buzz', 'chief', 'editor', 'hudsucker', 'intercom', 'lou', 'moses', 'mrs. mussburger', 'mussburger', 'norville', 'smitty', 'veteran #1', 'veteran #2', 'alma', 'betsy', 'coachman', 'dr. maxwell', 'holland', 'jeffries', 'mrs. rand', 'rand', 'wilkens', 'ben', 'dorothy', 'elena', 'francis', 'george', 'gorman', 'harold', 'janey', 'jim', 'libbets', 'marge', 'mikey', 'paul', 'philip', 'sandy', 'wendy', 'chief nyback', 'ellie', 'farrell', 'fred', 'hap', 'rachel', 'randy', 'tanya', 'walter', 'will', 'armand', 'claudia', 'lestat', 'louis', 'madeleine', 'malloy', 'brooks', 'dave', 'derrick', 'julie', 'karla', 'mac', 'mark', 'nancy', 'ray', 'titus', 'tyrell', 'will', 'albrecht', 'cathy', 'dr. drossos', 'general', 'miss wollsten', 'oliver', 'st. aubyn', 'thea', 'bailey', 'bert', 'carter', 'clarence', \"clarence's voice\", 'cop', 'dr. campbell', 'ernie', \"franklin's voice\", 'george', 'gower', 'harry', 'joe', \"joseph's voice\", 'ma bailey', 'man', 'martini', 'marty', 'mary', 'mother', 'mrs. bailey', 'nick', 'pop', 'potter', 'sam', \"sam's voice\", 'teller', 'uncle billy', 'violet', 'zuzu', 'andy', 'bob', 'brody', 'brooke', 'diane', 'doug', 'ed', 'elkins', 'ellen', 'hendricks', 'jackie', 'larry', 'lucy', 'mike', 'patrick', 'patrol voice', 'peterson', 'phil', 'polo', 'red', 'sean', 'terry', 'timmy', 'tina', 'vaughn', 'brian', 'calvin', 'harris', 'ike', 'kathryn', 'kelly', 'man', 'mike', 'operator', 'overman', 'philip', 'ruth', 'sean', 'shelly', 'tod', 'woman', 'carla', 'clarence', 'ellen', 'hoagie', 'hooper', 'jake', 'louisa', 'michael', 'polly', 'sean', 'thea', 'jack', 'mother', 'amanda', 'berlin', 'blattis', 'citrine', 'goodridge', 'helena', 'margie', 'ross', 'taylor', 'travis', 'avery', 'chad', 'cush', 'dooler', 'dorothy', 'firestone', 'jerry', 'laurel', 'marcee', 'matt', 'ray', 'sugar', 'tee pee', 'tidwell', 'woman', 'amanda', 'billy', 'ellie', 'eric', 'grant', 'paul', 'ajay', 'eddie', 'hammond', 'juttson', 'kelly', 'ludlow', 'malcolm', 'nick', 'roland', 'sarah', 'arnold', 'dodgson', 'ellie', 'gennaro', 'grant', 'hammond', 'harding', 'lex', 'malcolm', 'muldoon', 'nedry', 'rostagno', 'tim', 'biller', \"bruce's voice\", 'harding', 'hayes', 'janet', 'kwan', 'ruby', 'sena', 'anna', 'assistants', 'bearded anarchist', 'bizzlebek', 'burgel', 'chief clerk', 'gabriela', 'inspector', 'kafka', 'keeper', 'ludwig', 'murnau', 'oskar', 'pockmarked anarchist', 'ann', 'denham', 'englehorn', 'jack', 'kid', 'lord darrow', 'mr ginting', 'arlyn', 'bree', 'cable', \"cable's voice\", 'frank', 'klute', 'lela', 'mr. faber', 'ross', 'spangler', 'streiger', 'trask', 'trina', 'alvarez', 'billy', 'gressen', 'interviewer', 'joanna', 'judge', \"o'connor\", 'phyllis', 'saturday father', 'secretary', 'shaunessy', \"shaunessy's voice\", 'surgeon', 'teacher', 'ted', 'thelma', \"woman's voice\", 'bodyguard', 'boy', 'father', 'general chiang', 'general chiang chin-wu', 'kashag member', 'lhamo', 'ling rinpoche', 'lobsang', 'lord chamberlain', 'lukhangwa', 'man', 'mao tse tung', 'mother', 'noble boy', 'norbu thundrup', 'takster rinpoche', 'taktra rinpoche', 'tenzin gyatso', 'tibetan woman', 'woman', 'bickerman', 'gare', 'hector', 'jack', 'kelly', 'keough', 'kevin', 'okubo', 'ardelia', 'brigham', 'catherine', 'chilton', 'clarice', 'crawford', 'dr. danielson', 'dr. lecter', 'krendler', 'mr. gumb', 'mr. yow', 'pilcher', 'roden', 'sen. martin', 'stacy', 'alice', 'cora', 'hawkeye', 'heyward', 'jack', 'lieutenant', 'magua', 'montcalm', 'munro', 'sentry', 'sergeant major', 'webb', 'beck', 'bowman', 'cobb', 'dejesus', 'doc', 'jones', 'martin', 'sixpack', 'willie', \"willie's voice\", 'bacon', 'barry', 'big chris', 'dean', 'dog', 'doorman', 'eddy', 'gary', 'hatchet', 'j', 'jd', 'john', \"john o'driscoll\", 'little chris', 'nick', 'paul', 'plank', 'samoan jo', 'soap', 'tom', 'traffic warden', 'willy', 'winston', 'amado', 'athena', 'ben', 'buddy', 'bunny', 'carolyn', 'chet', 'chucho', 'cliff', 'cody', 'del', 'eladio', 'enrique', 'fenton', 'h.l.', 'hollis', 'jorge', 'marisol', 'mercedes', 'mikey', 'minnie', 'molly', 'otis', 'paloma', 'pete', 'pilar', 'priscilla', 'ray', 'roderick', 'sam', 'shadow', 'wade', 'wesley', 'young mercedes', 'young otis', 'young pilar', 'young sam', 'zack', 'bellboy', 'billy', 'blonde girl', 'butterfield', 'cultists', 'dorothea', 'eddison', 'harry', 'jennifer', 'loomis', 'miller', 'nix', 'quaid', 'swann', 'toffler', 'valentin', 'vinovich', 'wilder', 'bob', 'charlotte', 'elaine', 'john', 'kelly', 'lauren', 'lydia', 'reception', 'woman', 'claire', 'defense attorney', 'dr. allen', 'father frank', 'father james', 'lareaux', 'maya', 'melvin', 'michael', 'mr. silberman', 'mrs. quintana', 'peter', 'receptionist', 'sally', 'smythe', 'townsend', 'viznick', 'camille', 'coach miller', 'jason', 'jim', 'kyra', 'lena', 'monica', 'nathan', 'nona', 'quincy', 'shawnee', 'sidra', 'zeke', 'avi', 'burt', 'chad', 'claudia', 'clauida', 'cocktail waitress', 'cynthia', 'dixon', 'doc', 'donnie', 'dr. landon', 'earl', 'female voice', 'frank', 'gwen', 'gwenovier', 'janet', 'jim kurring', 'jimmy', 'julia', 'kligman', 'linda', 'marcie', 'mary', 'middle aged guy', 'paula', 'phil', 'pink dot girl', 'richard', 'rick', 'rose', 'solomon', 'stanley', 'thurston', 'worm', 'young pharmacy kid', 'anne', 'aramis', 'athos', \"d'artagnan\", 'keeper', 'lieutenant', 'louis', 'man in the iron mask', 'michelle', 'phillippe', 'pierre', 'porthos', 'raoul', 'craig', 'd.t.', 'doyle', 'jim', 'lurch', 'marvosa', 'officer', 'stephanie', 'tubbs', 'woman', 'zydowski', 'bloom', 'bowman', 'chester', 'crawford', 'dollarhyde', 'dr. chilton', 'graduate student', 'graham', 'grampa', 'guard', 'kevin', 'lecktor', 'lounds', 'molly', 'officer', 'reba', 'red dragon', 'sarah', 'sherman', 'springfield', 'spurgen', 'voice', 'andy', 'booker', 'ed', 'george', 'jack burns', 'janice', 'lawler', 'lynne', 'manager', 'maynard', 'mimi', 'old doctor', 'sad sack', 'stanley', 'tony clifton', 'yogi', 'zmuda', 'agent jones', 'agent smith', 'apoc', 'choi', 'cypher', 'lieutenant', 'morpheus', 'neo', 'oracle', 'switch', 'tank', 'trinity', 'boy', 'boy #1', 'boy #2', 'boys', 'charlie', 'diane', 'giovanni', 'jimmy', 'joey', 'johnny boy', 'mario', 'michael', 'oscar', 'sal', 'teresa', 'tony', 'allison', 'ambrose', 'bontecou', 'coyle', 'drew', 'easter', 'jennifer', 'joe', 'parrish', 'quince', 'sloane', 'susan', 'voice', 'young man', nan, 'blonde', 'burt', 'dodd', 'jimmy', 'leonard', \"leonard's wife\", 'mrs. jankis', 'natalie', 'teddy', 'bartender', 'castillo', 'coleman', 'crockett', 'el tiburon', 'fujima', 'gina', 'isabella', 'josé yero', 'montoya', 'stevens', 'trudy', 'tubbs', 'cass', 'joe', 'marine', \"o'daniel\", 'ralph', 'ratso', 'rich lady', 'shirley', 'towny', 'veteran', 'bell', 'billy', 'davis', 'detective', 'driver', 'erich', 'father', 'max', 'susan', 'tex', 'yesil', 'ziat', 'jeremy', 'josh', 'leonard', 'manny', 'peter', 'ricky', 'siri', 'susan', 'annie', 'buster', 'libby', 'paul', 'pete', 'sindell', 'virginia', 'ambrose', 'billy', \"billy's voice\", 'ethan', 'luther', 'mccloy', 'nekhorvich', 'nyah', 'stamp', 'swanbeck', 'wallis', 'anatoly', 'barnes', 'claire', 'ethan', 'guard randall', 'jack', 'kasimov', 'kittridge', 'krieger', 'luther', 'matthias', 'max', 'phelps', 'sarah', 'ava', 'bobo', 'cosmo', 'felix', 'gregory', 'loretta', 'lucy', 'mona', 'mr. johnny', 'old man', 'perry', \"perry's voice\", 'priest', 'raymond', 'rita', 'ronny', 'rose', \"rose's voice\", 'shy waiter', 'all', 'arthur', 'bedevere', 'black knight', 'body', 'bridgekeeper', 'cart driver', 'concorde', 'dennis', 'father', 'first guard', 'first villager', 'galahad', 'god', 'large man', 'launcelot', 'man', 'old woman', 'other knights', 'piglet', 'prince', 'robin', 'singers', 'soldier', 'soothsayer', 'tall knight', 'tim', 'zoot', 'archie', 'assistant dresser', 'barney', 'bertie', \"bertie's valet\", 'brown', 'dean wellselly', 'disraeli', 'jenner', 'lady ely', 'ponsonby', 'princess alexandra', 'stanley', 'victoria', 'albert', 'alex', \"alex's mother\", 'boy', 'difford', 'greg', 'laurie', 'nick', 'stilts', 'adam', 'betty', 'billy', 'coco', 'cowboy', 'cynthia', 'dan', 'dark-haired woman', 'detective harry mcknight', 'detective neal domgaard', 'ed', 'herb', 'hotel manager', 'jimmy', 'joe', 'laney', 'middle-aged woman', 'paramount guard', 'ray', 'rita', 'sergeant baxter', 'wally', 'ANNOUNCER', 'BRUCE', 'FRED THOMISON', 'JOHN C. MCCAY', 'JOHNNY', 'MATTHEW', 'SAUNDRA', 'ZACH', 'alfred', 'boy', 'daryl', 'harry', 'hillary', 'jeffrey', 'judy', 'kevin', 'man', 'mr. owett', 'nick', 'phil', 'rose', 'sam', 'shelly', 'stanley', 'vada', 'arthur', 'boy#2', 'danny', 'dr welty', 'harry', 'judy', 'mr. bixler', 'nurse randall', 'phil', 'shelly', 'thomas j', 'vada', 'digger', 'julianne', 'kimmy', 'mandy', 'michael', 'sammy', 'walter', 'albuquerque', 'barbara jean', 'barnett', 'bill', 'bud', 'green', 'joan', 'kenny', 'l.a. joan', 'linnea', 'man', 'manager', 'mary', 'mother', 'norman', 'nurse', 'opal', 'reese', 'star', 'sueleen', 'tom', 'triplette', 'wade', \"woman's voice\", 'grace', 'mabel', 'mallory', 'mcclusky', 'mickey', 'movie mallory', 'movie mickey', 'norman', 'pitney', 'roger', 'scagnetti', 'scott', 'simon', 'wayne', 'wurlitzer', 'bartender', 'doris', 'driver', 'duff', 'effie', 'foreman', 'frankie', 'jocko', 'joe', 'johnson', 'josie', 'lee', 'owner', 'pop', 'reverend dawson', 'supervisor', 'undertaker', 'white', 'will', 'danny', 'nathan', 'omar', '3jane', 'aerol', 'armitage', 'bao/wintermute', 'case', 'dixie', 'julius/wintermute', 'linda lee', 'maelcom', 'mccoy', 'molly', 'ratz', 'riviera', 'aldys', 'anita', 'george', 'gibby', 'gus', 'guy', 'josie', 'kirsten', 'kristen', 'monty', 'rob', 'sam', 'sheila', 'tracy', 'barrel', 'evil scientist', 'jack', 'lock', 'sally', 'shock', 'various people', 'dad', 'freddy', 'grady', 'jesse', 'kerry', 'lisa', 'mom', 'mrs. poletti', 'elaine', 'jennifer', 'kincaid', 'kristen', 'lorenzo', 'max', 'nancy', 'neil', 'nun', 'simms', 'taryn', 'thompson', 'will', 'anna', 'bella', 'bernie', 'girl', 'honey', 'james', 'jeff', 'karen', 'male lead', 'martin', 'max', 'ritz man', 'security', 'spike', 'tarquin', 'thief', 'william', 'big nurse', 'billy', 'bromden', 'candy', 'cheswick', 'fredrickson', 'harding', 'martini', 'mcmurphy', 'miss pilbow', 'night supervisor', 'nurse itsu', 'nurse pilbow', 'patients', 'rose', 'scanlon', 'sefelt', 'spivey', 'taber', 'turkle', 'washington', 'bartender', 'clerk', 'concierge', 'damon', \"damon's mother\", 'dwayne', 'faith', 'francesca', 'giovanni', 'him', 'kate', 'larry', 'leonard', 'peter', 'phone', 'barney', 'big mac', 'charley', 'counsel', 'edie', 'father barry', 'glover', 'j.p.', 'jackie', 'jimmy', 'jocko', 'joey', 'johnny', 'mrs. collins', 'mutt', 'nolan', 'pop', 'skins', 'terry', 'bob', 'criswell', 'princess of darkness', 'shirley', 'the mummy', 'the wolf man', 'adele', 'buddy', 'burdon', 'chino', \"chino's voice\", 'cruz', 'foley', 'glenn', 'hejira', 'karen', 'kenneth', 'maid', 'marshall', 'maurice', 'moselle', 'pup', 'ray', 'ripley', 'white boy bob', 'anthony', 'barbara', 'betty', 'billy', 'british air commander', 'colonel', 'coma', 'danny', 'doolittle', 'dorie', 'earl', 'evelyn', 'genda', 'general marshall', 'ian', 'mechanic', 'nishikura', 'rafe', 'red', 'roosevelt', 'yamamoto', 'barney', 'beth', 'carol', 'charlie', 'dolores', 'elizabeth', 'maddy', 'michael', 'mr. kelcher', 'mrs. kelcher', 'nancy', 'peggy', 'richard', 'rosalie', 'terry', 'chase', 'drew', 'geoff', 'gus', 'marjorie', 'renee', 'rudman', 'yolander', 'andrew', 'anthea', 'belinda', 'dr. armbruster', 'intern', 'joe', 'judge garnett', 'kenton', 'laird', 'lisa', 'miguel', 'mrs. finley', 'rachel', 'sarah', 'seidman', 'wheeler', 'young man', 'audrey', 'fry', 'imam', 'johns', 'owens', 'paris', 'riddick', 'shazza', 'zeke', 'cornelius', 'dodge', 'galen', 'honorius', 'julius', 'landon', 'lucius', 'maximus', 'president', 'taylor', 'zaius', 'zira', 'barnes', 'big harold', 'bunny', 'chris', 'crawford', 'elias', 'francis', 'junior', 'king', 'lerner', \"o'neill\", 'rhah', 'wolfe', 'betty', 'brandon', 'campbell', 'clarendon', 'driscoll', 'goble', 'gore', 'killaine', 'magruder', 'man', 'manager', 'margo', 'mckechnie', 'mitchell', 'porter', 'secretary', 'technician', 'waiter', 'ann', 'carmen', 'charles', 'edward', 'gold', 'james', 'jeremy', 'matthew', 'mr. penfield', 'philip', 'susan', 'tom', 'bodhi', 'fiberglass', 'harp', 'pappas', 'tyler', 'utah', 'woman', 'billy', 'dillon', 'mac', 'philips', 'ramirez', 'schaefer', 'bridget', 'david', 'edward', 'jake', 'kit', 'kross', 'landlord', 'maid', 'mr. thomas', 'saleswoman', 'stuckey', 'vivian', 'albino', 'buttercup', 'fezzik', 'grandfather', 'humperdinck', 'inigo', 'man in black', 'miracle max', 'mother', 'rugen', 'the kid', 'valerie', 'vizzini', 'westley', 'yellin', 'bialystock', 'bialystock and bloom', 'bloom', 'bloom and drunk', 'de bris', 'general', 'goebbels', 'liebkind', 'little old lady', 'lsd', 'ulla', 'arbogast', 'car dealer', 'caroline', \"caroline's voice\", 'lila', \"lowery's voice\", 'mary', 'mrs. chambers', 'norman', \"norman's voice\", 'patrolman', 'sam', 'sheriff', \"woman's voice\", '1st embalmer', '2nd embalmer', '2nd officer', 'alice', 'buckley', 'collins', 'goof', 'jones', 'maxwell', 'mrs. buckley', 'woman', 'doctor', 'léone', 'marc', 'nikolas', 'nurse', 'the drawing-room', 'the sick-room', 'captain', 'charlotte', 'detective', 'editor', 'first detective', 'florence', 'golatily', 'igor', 'man', 'ralph', 'sergeant', 'sparrow', 'winton', 'worth', 'alexander', 'mia', 'pentcho', 'billy', 'brother', 'buddy', 'daddy', 'dave wilkie', 'doll', 'dr. martinson', 'dr. winton', 'mother', 'rose', 'waski', 'willcox hillyer', '\"SCHOOL-MARM\"', 'adam', 'archie', 'benny', 'billy-boy', 'captain albert', 'd.a. ravich', 'kittle', 'nena', 'pop-sweet', 'zimmermann', 'ackbar', 'ben', 'boushh', 'emperor', 'han', 'jerjerrod', 'lando', 'leia', 'luke', 'ninedenine', 'threepio', 'vader', 'wedge', 'yoda', 'brad', 'dr scott', 'family', 'frank', 'guests', 'janet', 'magenta', 'riff raff', 'rocky', 'adrian', 'apollo', 'bodyguard', 'chipped tooth', 'cleaner', 'commentator', 'commentator #1', 'commentator #2', 'dipper', 'fats', 'gazzo', 'jergens', 'marie', 'mickey', 'mike', 'owner', 'paulie', 'reporter', 'reporter #2', 'rocky', 'trainer', 'baby herman', 'betty boop', 'director', 'dolores', 'doom', 'earl', 'jessica rabbit', 'lt. santino', 'maroon', 'roger rabbit', 'valiant', 'abraham', 'balthasar', 'benvolio', 'capulet', 'crusty', 'father lawrence', 'gloria', 'juliet', 'lady capulet', 'mercutio', 'nurse', 'romeo', 'sampson', 'tybalt', 'dapper gent', 'deirdre', 'edvard', 'francois', 'gregor', 'jean-pierre', 'larry', 'mikhi', 'phone voice', 'sam', 'seamus', 'swede', 'tony', 'vincent', 'booth', 'clerk', 'cliff', 'dwayne', 'earl', \"earl's mother\", 'jesse', 'martin', 'salesperson', 'sally', 'wallace', 'willie', 'captain diel', 'carter', 'craps dealer', 'doorman #1', 'hostess', 'isabella', 'kenny', 'lee', 'master fu', 'ricky tan', 'special agent sterling', 'steven reign', 'superindendent chin', 'carter', 'diel', 'han', 'johnson', 'lafontaine', 'lee', \"man's voice\", 'russ', \"sang's voice\", 'soon young', 'whitney', 'bob', 'brian', 'cindy', 'ellie', 'fisher', 'george', 'ike', 'maggie', 'mrs. pressman', 'mrs. trout', 'peggy', 'walter', 'annie', 'barbara', 'becky', 'bob', 'det. wheedle', 'dr. marcia fieldstone', 'greg', 'jay', 'jessica', 'jonah', 'laurie', 'lulu', 'sam', 'seth', 'suzy', 'tom', 'victoria', 'walter', 'wheedle', 'alexander', 'antonio', 'barton', 'esperanza', 'estella', 'frank', 'hartwell', 'luis', 'ramón', 'ruth', 'sal', 'sebastian', 'sheriff', 'teresa', 'bo', 'bobby', 'bookman', 'bubba', 'colette', 'danny', 'danny/tom', 'garcetti', 'jimmy', 'kujo', 'liz', 'nancy', 'pooh-bear', 'tanner', 'trahn', 'verne', 'colonel anderson', 'jackson', 'miller', 'reiben', 'ryan', 'sarge', 'supply sergeant', 'upham', 'wade', 'agent', 'agent sims', 'assistant', 'constance', 'corey', \"court's attorney\", 'dc', 'diane', 'guy 2', 'jason', 'jim', 'joe', 'lloyd', 'mark', 'mike', 'miss evans', 'mrs court', 'rebecca', 'u.s. attorney', 'valhere', 'brinnlitz guy 2', 'clerk', 'emilie', 'gestapo', 'goeth', 'goldberg', 'lowenstein', 'pfefferberg', 'rasch', 'scherner', 'schindler', 'stern', 'toffel', 'captain tyler', 'cici', 'cotton', 'dawnie', 'debbie salt', 'derek', 'dewey', 'gale', 'girl on phone', 'hallie', 'in the theater', 'joel', 'lois', \"man's voice\", 'maureen', 'mickey', 'murphy', 'on screen', 'phil', 'randy', 'sheriff', 'sidney', 'voice', 'angelina', 'ben', 'bianca', 'christine', 'detective kincaid', 'dewey', 'gale', 'jennifer', 'milton', 'roman', 'sarah', 'sidney', 'tom', 'tyson', 'voice', 'woman', 'billy', 'casey', 'dewey', 'father', 'gale', 'girl #1', 'girl #2', 'kenny', 'man', 'mother', 'mr. prescott', 'randy', 'sheriff burke', 'sidney', 'stu', 'tatum', 'captain', 'crazed man', 'deliveryman', 'john doe', 'mills', 'mrs gould', 'somerset', 'taylor', 'tracy', 'aaron', 'ben', 'brad', 'charlie', 'clayton', 'debbie', 'ethan', 'futterman', 'general', 'greenhill', 'jorgensen', 'keefer', 'laurie', 'lieutenant', 'martha', 'martin', 'mose', 'mrs. jorgensen', 'officer', 'ellen', 'lindner', 'martin', 'mrs. lindner', 'paul', 'prof. roth', 'alleyn', 'boatman', 'burbage', 'dr. moth', 'fennyman', 'henslowe', 'marlowe', 'nol as benvolio', 'nurse', 'queen', 'ralph as nurse', 'rosaline', 'sam', 'sam as juliet', 'sir robert', 'tilney', 'urchin', 'viola', 'viola as romeo', 'viola as thomas', 'wessex', 'will', 'alex', 'cameron', 'david', 'doctor', 'editor', 'hugo', 'juliet', 'lumsden', 'mccall', 'mitchell', 'salesman', 'anjanette', 'felicia', \"felicia's voice\", 'george', \"george's voice\", 'girl', 'gloria', 'izzy', 'jackie', 'jill', \"jill's voice\", 'leonard', 'lester', 'lorna', 'mary', 'norman', \"operator's voice\", 'pettis', 'pope', 'producer', 'ricci', 'sid roth', \"tina's voice\", 'danny', 'doctor', 'dorothy', 'grady', 'halloran', 'hermie', 'jack', 'lloyd', 'ranger', 'ullman', 'watson', 'wendy', 'jane', 'marty', 'nan', 'tammy', 'uncle al', \"bishop o'hara\", 'charlene', 'choir', 'christy', 'eddie', 'joey', 'lawanda', 'mary lazarus', 'mary patrick', 'mary patrick and robert', 'mary robert', 'mike', 'mother superior', \"o'hara\", 'ronelles', 'tate', 'vince', 'willy', 'baltus', 'brom', 'doctor lancaster', 'father steenwyck', 'hardenbrook', 'high constable', 'ichabod', 'katrina', 'killian', 'lady van tassel', 'old crone', 'philipse', 'third man', 'van ripper', 'young ichabod', 'young masbath', 'bill', 'boy', 'charles', 'doyle', 'frank', 'freddy', 'karen', 'karl', 'linda', 'marsha', 'melinda', 'old man', 'scooter', 'theresa', 'vaughan', 'woolridge', 'april', 'auggie', 'aunt em', 'cyrus', 'felicity', 'jerry', 'jimmy', 'paul', 'rashid', 'ruby', 'tommy', 'vinnie', 'waiter', 'waitress', 'young man', 'carl', 'dr. whitman', 'etta', 'gillanders', 'hatsue', 'helen', 'hooks', 'ishmael', 'kabuo', 'levant', 'maples', 'moran', 'nels', 'ole', 'susan marie', 'whaley', 'church', 'mekum', 'bellhop', 'bienstock', 'dolores', 'first henchman', 'jerry', 'joe', 'mozarella', 'mulligan', 'nellie', 'osgood', 'paradise', 'poliakoff', 'spats', 'sue', 'sugar', 'toothpick charlie', 'waiter', 'amy', 'bunny', 'ed', 'jeffrey', 'kat', 'nick', 'sal', 'tj', 'victor', 'woody', 'camille', \"camille's voice over\", 'charlie', 'clarence', 'david lee', \"david's images\", 'earl', 'guard', 'ike', 'josie mae', 'mr howard', 'mrs boatwright', 'mrs. boatwright', 'nathan lee', 'preacher', 'rebecca', 'sheriff young', 'big thing', 'canadian minister of movies', 'cartman', \"cartman's mother\", 'chef', 'doctor pangloss', 'gregory', 'ike', 'kenny', 'kyle', \"kyle's mother\", 'mr. garrison', 'mr. mackey', 'phillip', 'president', 'principal victoria', 'saddam hussein', 'satan', 'stan', \"stan's mother\", 'terrance', 'the mole', 'voice', 'wendy', 'anna', 'barnes', 'carlo', 'dawn', 'delbert', 'jack', 'mac', 'monica', 'pilot', 'reynolds', 'taylor', 'warren', 'wayne', 'alfie', 'alfreda', 'breeze', 'buzz', 'grace', 'john', 'junior', 'kastle', 'man', 'millie', 'mrs. jackson', 'sheila', 'sid', 'theo', 'woman', 'arthur', 'barnes', 'beth', 'edmunds', 'fletcher', 'harry', 'navy seaman', 'norman', 'officer', 'pilot', 'ted', 'wife', 'ben', 'biggs', 'blue leader', 'commander', 'controller', 'han', 'intercom voice', 'leia', 'luke', 'owen', 'threepio', 'vader', 'ace', 'c.o.', 'carl', 'carmen', 'deladier', 'dizzy', 'father', 'gillespie', 'intelligence officer', 'johnny', 'mother', 'psych officer', 'rasczak', 'rodger young', 'sugar watkins', 'zander', 'zim', '\"ILIA\"', 'chekov', 'decker', 'ilia', 'kirk', 'scott', \"scott's intercom voice\", 'sonak', 'spock', 'sulu', 'uhura', 'ann', 'bartender', 'bellhop', 'bill', 'bob', 'cal', 'carla', 'claire', 'clerk', 'costume designer', 'doc wilson', 'doug', 'first a.d.', 'joe', 'marty', 'maude', 'mayor', 'morris', 'sherry', 'spud', 'uberto', 'walt', 'annabelle', 'ben', 'cooper', 'dr. sweikert', 'duncan', 'jackie', 'luke', 'rachel', 'stacy', 'brady', 'conan', 'consuelo', 'editor', 'fern', 'marcus', 'marty', 'mikey', 'mr scott', 'mr. demarco', 'pam', 'scooby', 'stanley', 'toby', 'vi', 'alonzo', 'burns', 'cooper', 'filmore', 'myers', 'olo', 'richter', 'sen. filmore', 'smitty', 'stockton', 'white', 'ambassador de sade', 'COLONEL \"BAT\" GUANO', 'colonel guano', 'colonel puntrich', 'GENERAL \"BUCK\" SCHMUCK', 'general faceman', 'general jack d. ripper', 'general ripper', 'general schmuck', 'lt. ballmuff', 'lt. quiffer', 'lt. toejam', 'lt. zogg', 'major kong', 'major mandrake', 'president muffley', 'switchboard operator', 'von klutz', 'bee-bee', 'buff', 'chip', 'erica', 'gary', 'jeff', 'nazeer', 'pony', 'scuff', 'sooze', \"sooze's mom\", 'tim', 'cleo', 'diane', 'dim sum charlie', 'grandmother', 'hank', 'hannah', 'jack', 'kansas', 'loan officer', 'lucy', 'mrs. hill', '1st assistant', 'artie', 'betty', 'de mille', 'demille', 'gillis', 'head of homicide', 'holmby hills captain', 'max', 'morino', 'no. 1', 'norma', 'sheldrake', 'alura', 'bianca', 'elderly man', 'ethan', 'george', 'jimmy', 'kara', 'linda', 'lucy', 'mr. danvers', 'nigel', 'selena', 'supergirl', 'zaltar', 'zor-el', 'brad', 'clark', 'clerk', 'fred', 'gus', 'jimmy', 'lana', 'lois', 'lorelei', 'miss henderson', 'perry', 'ricky', 'ross', 'simpson', 'superman', 'vera', 'clark', 'eve', 'first controller', 'jimmy', 'lara', 'lex', 'lois', 'luthor', 'otis', 'perry', 'president', 'second controller', 'second reporter', 'spokesman', 'superman', 'ursa', 'zod', 'clark', 'howler', 'jeremy', 'lacy', 'lenny', 'lex', 'lois', 'nuclear man', 'superman', 'warfield', 'albert', 'clark', 'eve', 'first elder', 'jimmy', 'jonathan', 'jor-el', 'lara', 'lois', 'luthor', 'martha', 'otis', 'perry', 'superman', 'alison', 'billy', 'dolores', 'hartley', 'mary', 'mason', 'mitchell', 'nicole', 'peter', 'risa', 'sam', 'schwartz', 'stewardess', 'wanda', 'wendell', 'zoe', 'bartha', 'captain', \"d'angelo\", 'elwell', 'hunsecker', 'kello', 'mary', 'rita', 'sally', 'senator', 'sidney', 'steve', 'susan', 'temple', 'weldon', 'wife', 'dyson', 'john', 'reese', 'sarah', 'silberman', 'tarissa', 'terminator', 'tim', 'video sarah', 'video silberman', 'david', 'dymshitz', 'emmi', 'furtwängler', 'martin', 'rode', 'schlee', 'steve', 'wallace', 'werner', 'breen', 'clerk', 'ginger', 'mr. miller', 'reese', 'sarah', 'silberman', 'terminator', 'traxler', 'vukovich', 'alan baer', 'businessman 2', 'christine', 'conrad', 'counselor', 'elizabeth', 'feingold', 'girl', 'hotel manager', 'ilsa', \"maitre d'\", 'manager', 'maria', 'nicholas', 'plump guy', 'sutherland', 'luke', 'malcolm', 'marrow', 'mary', 'mr. dudley', 'mrs. dudley', 'nell', 'theo', 'todd', 'adhara', 'avery', 'creep', 'dealer', 'ed', 'elaine', 'feather', 'fielding', 'gramms', 'guy', 'lady', 'stacy', 'supervisor', 'susan', 'uncle john', 'valentine', 'wilson', 'ann', 'birdy', 'carcanogues', 'creighton', 'dave', 'diedrickson', 'doris', 'ed', 'frank', 'krebs', 'man', 'persky', 'riedenschneider', 'walter', 'young man', 'young woman', 'bailey', 'beauregard', 'cuthbert', \"d'agosta\", 'dr. ziewzic', 'frock', 'henry', 'ippolito', 'jonathan', 'kawakita', 'larry', 'margo', 'pendergast', 'agent', 'christof', 'daughter', 'guard 1', 'guard 2', 'interviewer', 'lauren', 'marlon', 'meryl', 'mother', 'nurse', 'officer', 'simeon', 'sylvia', 'truman', 'tyrone', '2nd boy', 'barmaid', 'byers', 'cassidy', 'cigarette smoking man', 'detective', 'dr. bronschweig', 'field agent', 'kurtzweil', 'mulder', 'scully', 'skinner', 'strughold', 'well-manicured man', 'young naval guard', 'catherine', 'cole', 'edward', 'henry', 'miriam', 'novak', 'ramsey', 'teddy lee', 'anna', 'baron', 'calloway', 'clerk', 'crabbin', 'harry', 'kurtz', 'martins', 'paine', 'popescu', 'porter', 'russian', 'u.s.m.p.', 'winkel', 'woman', 'daffy', 'detective', 'etienne', 'francoise', 'richard', 'sammy', '12-year-old danny', 'avi', 'billings', 'brand', 'carla', \"carla's voice\", 'carleton', 'curtis', 'danny', 'drake', 'father', 'first waiter', 'guy', 'hate counselor', 'kyle', 'lina', 'linda', \"linda's voice\", 'miriam', 'mrs. moebius', 'rabbi', 'rav zingesser', 'reporter', 'stuart', 'voice', 'bonita', 'duffy', 'enzo', 'frank', 'jacques', 'johana', 'lawrence', 'noireuter', 'novelli', 'receptionist', 'roberto', 'sally', 'supervisor', 'uncle louis', 'chief', 'esther', 'hammer', 'mohammed', 'mrs. carver', 'santa', 'tikva', 'tiny tim', 'brunton', 'charlie', 'clo-clo', 'consuelo', 'eloise', 'galbraith', 'jerry', 'kiki', 'maria', 'robles', 'rosita', 'attendant', 'butler', 'deborah', 'directory enquiries operator', 'effeminate waiter', 'emily', 'friedman', 'giant', 'hyatt operator', 'jane', 'lombard', 'man on dais', 'man with italian accent', 'man\\x92s voice', 'martin', 'moreau', 'mrs spitz', 'nathalie', 'old cowboy', 'peter', 'phil', 'rhian', 'the italian', 'waitress', 'whitney', 'aulon', 'beaupere', 'bishop', 'buck', 'burgundy', 'catherine', 'cauchon', 'charles', \"d'estivet\", 'dijon', 'dunois', 'gilles', 'jean le maistre', 'jean midi', 'jeanne', 'la hire', 'maitre maurice', 'man', 'priest', 'regnault', 'soldier', 'tremoille', 'xaintrailles', 'yolande', 'benek', 'dorota', 'father', 'gebczynski', 'halina', 'heller', 'henryk', 'janina', 'jehuda', 'jurek', \"kitten's voice\", 'majorek', 'michal', 'mother', \"puppydog's voice\", 'szalas', 'szpilman', 'the german captain', 'aunt morag', 'baines', 'flora', 'hira', 'nessie', 'stewart', 'billie', 'black man', 'boudreau', 'coleman', 'combs', 'duff', 'eirie kid', 'floyd', 'garfield', 'gondorff', 'granger', 'gunman', 'hooker', 'jimmy', 'lonnegan', 'loretta', 'man', 'niles', 'old man', 'polk', 'riley', 'singleton', 'snyder', 'stranger', 'twist', '1st reporter', 'andrew', 'andy', 'dorothy', 'dr. walton', 'gilbert', 'guild', 'jorgensen', 'julia', 'macaulay', 'mimi', 'morelli', 'nick', 'nora', 'nunheim', 'peppler', 'tanner', 'tom', 'wynant', 'driver', 'epps', 'jaeger', 'wes', 'woods', '1st voice', '2nd voice', 'luh', 'nin', 'pto', 'sen', 'srt', 'thx', 'twa', 'voice', 'bev', 'dispatcher voice', 'glass', 'mary', 'pluchinsky', 'pooch', 'reilly', 'rice', 'swan', 't.j.', 'winters', 'bolshevik', 'butler', 'close shot  gaston', 'françois', 'gaston', \"gaston's voice\", 'giron', 'lily', 'major', 'manager', 'mariette', \"mariette's voice\", 'waiter', 'andrews', 'bodine', 'brock', 'buell', 'cal', 'fabrizio', 'fleet', 'hitchins', 'ismay', 'jack', 'lee', 'lightoller', 'lizzy', 'lovejoy', 'lovett', 'molly', 'rose', 'ruth', 'smith', 'anya', 'ballinger', 'brett', 'dan', 'denby', 'lother', 'mary', 'mckinney', 'ned', 'purser', 'sally', 'shortie', 'steward', 'summers', 'bailey', 'behan', 'billy', 'curly bill', 'dake', 'doc', 'high roller', 'johnson', 'josephine', 'joyce', 'kate', 'mattie', 'mcmasters', 'morgan', 'ringo', 'tyler', 'vermillion', 'virgil', 'white', 'wyatt', 'admiral roebuck', 'bond', 'captain cheong', 'captain morton', 'dominique', 'executive secretary', 'first officer', 'harmsway', 'helmsman', 'jenny wu', 'm', 'minister johnstone', 'moneypenny', 'number three', 'paris', 'q', 'saunders', 'sidney', 'stamper', 'tanner', 'wade', 'yung', 'babe brother', 'davis', 'gideon', 'harry', 'hattie', 'junior', 'linda', 'marsh', 'mr. baker', 'mrs. baker', 'old john', 'pat', 'suzie', 'andy', 'bo peep', 'buzz', 'hamm', 'hannah', 'mr. potato head', 'mrs. davis', 'rex', 'sargent', 'sid', 'slinky', 'woody', 'finn', 'jonathon', 'melanie', 'philip', 'a.d.a. kelly', 'anna', 'arnie', 'barbara', 'carl', 'carlos', 'caroline', 'castro', 'clerk', 'david', 'francisco', 'gordon', 'guard', 'helena', 'javier', 'johnson', 'manolo', 'marquez', 'michael', 'official', 'robert', 'ruiz', 'salazar', 'seth', 'sheridan', 'sketch', 'social worker', 'special-agent-in-charge', 'vanessa', 'begbie', 'diane', 'gail', 'gav', 'lizzy', 'man', 'man 1', 'mother', 'renton', 'sick boy', 'spud', 'swanney', 'tommy', 'woman', 'being', 'chekov', \"chekov's image\", 'commanders image', \"j'onn\", 'kirk', 'klaa', 'rider', 'scotty', 'spock', 'sulu', 'sybok', 'uhura', 'vixis', 'alan', 'bit', 'dillinger', 'dumont', 'flynn', 'gibbs', 'lora', 'mcp', 'ram', 'sark', 'tron', 'yori', 'allison', 'dana', 'faisil', 'gib', 'harry', 'helen', 'janice', 'juno', 'malik', 'simon', 'trilby', 'voice', 'alabama', 'big d', 'clarence', 'cliff', 'coccotti', 'customer', 'dick', 'dimes', 'drexl', 'elliot', 'elvis', 'floyd', 'kandi', 'krinkle', 'lee', 'lenny', 'lucy', 'marty', 'marvin', 'nicholson', 'ravencroft', 'virgil', 'wilson', 'astrophysicist', 'ben', 'botanist', 'cole', 'dr. fletcher', 'dr. mason', 'engineer', 'fale', 'franki', 'jeffrey', 'jose', 'microbiologist', 'railly', 'woman cabbie', 'blind man', 'boyd', 'clerk', 'darrell', 'ed', 'flo', 'grace', 'jake', 'jenny', 'john', 'mr. vesci', 'sheriff', 'toby', 'woman', 'blind man', 'bobby', 'clerk', 'darrell', 'flo', 'grace', 'jake', 'jenny', 'mr. arkady', 'sergei', 'sheriff', 'toby', 'woman', 'ancient secretary', 'business man', 'david', 'elijah', \"elijah's mother\", 'jeremy', 'man in scrubs', 'megan', 'walkie', 'woman', 'alice', 'barber', 'charley', 'clyde', 'delilah', 'english bob', 'fuzzy', 'little bill', 'little sue', 'munny', 'ned', 'skinny', 'the kid', 'will', 'ww', 'baer', 'bodi', 'edie', 'fenster', 'hockney', 'keaton', 'kobayashi', 'kovash', 'kujan', 'rab in', 'rabin', 'redfoot', 'verbal', 'voice', 'voice #1', 'voice #2', 'abrams', 'alito', 'bishop', 'claire', 'concannon', 'doneghy', 'dr. thompson', 'dr. towler', 'galvin', 'gruber', 'jimmy', 'judge', 'kathy', 'laura', 'maid', 'mary rooney', 'mickey', 'rooney', 'sally', 'towler', 'voice', 'young lawyer', 'doctor', 'elster', \"elster's voice\", 'judy', 'madeleine', 'manageress', 'midge', 'pop leibel', 'saleswoman', 'scottie', 'adam', 'barry morris', 'boyd', 'fisher', 'judge tower', 'liz', 'lois', 'maggie', 'micheal', 'moore', 'mr. fisher', 'ralph', 'suit', 'don amalio', 'don jaime', 'enedina', 'foreman', 'hobbly', 'jorge', 'leper', 'lucia', 'mayor', 'moncho', 'mother superior', 'peasant', 'pelon', 'poca', 'ramona', 'rita', 'viridiana', 'alexiev', 'cox', 'deane', 'lindenmeyer', 'madison', 'parker', 'reilly', 'sid 6.7', 'wallace', 'aide', 'ames', 'angle', 'brean', 'cain', 'engineer', 'fad king', 'grace', 'johnny green', 'joyce', 'levy', 'liz', 'moss', 'mr. young', 'owner', 'pilot', 'president', 'schumann', 'second media guy', 'technician', 'trudy', 'alex', 'blonde', 'bud', 'carl', 'carolyn', 'charlie', 'darien', 'dixon', 'gekko', 'lisa', 'lynch', 'mannheim', 'marv', 'natalie', 'ollie', 'roger', 'wildman', 'wilmore', 'china', 'inspector roberts', 'jenkins', 'jonathan', 'junior', 'mark', 'marks mother', 'mr lincoln', 'mrs webster', 'sarah', 'sir wilfred', 'tony', 'caitlin', 'claire', 'dr. drayton', 'elena', 'jody', 'mr. feur', 'mrs. feur', 'mrs. frank', 'mrs. templeton', 'norman', 'morgan', 'nick', 'aaron', 'beatrice', 'carlotta', 'deborah', 'doctor', 'gifford', 'lasher', 'lasher the man', \"man's voice [in her head]\", 'michael', 'rowan', \"rowan's voice [in her head]\", 'ryan', 'stu', 'suzanne', 'carter', 'dezerae', 'manager', 'mik', 'steckler', 'taylor', 'charlie', 'christy', 'dad', 'ginger', 'heather', 'helen', 'jay', 'jimmy', 'julie', 'mom', 'principal merkin', 'ted', 'tom', 'uncle billy', 'zukerman', 'art', 'barbara', 'dave', 'gloria', 'hunter', 'jimmy', 'kelly', 'ken', 'ray', 'ruby', 'sam', 'sandra', 'suzie', 'artemus', 'cassandra', 'doyle', 'grant', 'jim', 'miguelito', 'pemberton', 'richards', 'walters', 'airk', 'cherlindrea', 'high aldwin', 'madmartigan', 'ranon', 'raziel', 'rool', 'sorsha', 'teemo', 'willow', 'book', 'carter', 'elaine', 'eli', 'hochstetler', 'local man', 'mcelroy', 'rachel', 'samuel', 'schaeffer', 'aunt em', 'barrister', 'dorothy', 'glinda', 'hickory', 'hunk', 'lion', 'mayor', 'miss gulch', \"oz's voice\", 'professor', 'scarecrow', 'tin man', 'tin man -- scarecrow and dorothy', 'uncle henry', 'witch', 'wizard', 'bond', 'christmas', 'doctor greatrex', 'elektra', 'lachaise', 'm', 'renard', 'tanner', 'woman', 'zukovsky', 'adamson', 'analyst', 'burns', 'dr. long', 'dr. manhattan', 'dreiberg', 'hyde', 'janey', 'jon', 'justine', 'laurie', 'moloch', 'president', 'rorschach', 'schmidt', 'veidt', 'gibbons', 'jefe', 'kid', 'petra', 'sam tannick', 'shavers', 'sky', 'slovo', 'virg', 'xander', 'yorgi', 'beast', 'cyclops', 'jean', 'kelly', 'logan', 'magneto', 'sabretooth', 'storm', 'xavier', 'anastasia', 'burgomeister', 'carlson', 'cornelius waldman', 'elizabeth', 'frau blucher', 'freddy', 'herr falkstein', 'igor', 'inga', \"maitre d'\", 'medical student', 'monster', 'old violinist', 'bloomfield', 'boy-pullen', 'chelmsford', 'coghill', 'crealock', 'durnford', 'melvill', 'norris-newman', 'stuart smith', 'vereker']\n"
          ],
          "name": "stdout"
        }
      ]
    },
    {
      "cell_type": "code",
      "metadata": {
        "id": "57uTqVK6-R84",
        "colab_type": "code",
        "colab": {
          "base_uri": "https://localhost:8080/",
          "height": 34
        },
        "outputId": "53e5c0a9-331d-4dbd-a091-d11447046180"
      },
      "source": [
        "type(sw)"
      ],
      "execution_count": null,
      "outputs": [
        {
          "output_type": "execute_result",
          "data": {
            "text/plain": [
              "list"
            ]
          },
          "metadata": {
            "tags": []
          },
          "execution_count": 290
        }
      ]
    },
    {
      "cell_type": "code",
      "metadata": {
        "id": "jq1wb3sVxODT",
        "colab_type": "code",
        "colab": {}
      },
      "source": [
        "characterline_df = characterline_df.dropna()"
      ],
      "execution_count": null,
      "outputs": []
    },
    {
      "cell_type": "code",
      "metadata": {
        "id": "9aU_YCl54smI",
        "colab_type": "code",
        "colab": {
          "base_uri": "https://localhost:8080/",
          "height": 34
        },
        "outputId": "e0fda486-bfa1-488a-bc7e-a82d84c94306"
      },
      "source": [
        "characterline_df.name.isna().sum()"
      ],
      "execution_count": null,
      "outputs": [
        {
          "output_type": "execute_result",
          "data": {
            "text/plain": [
              "0"
            ]
          },
          "metadata": {
            "tags": []
          },
          "execution_count": 228
        }
      ]
    },
    {
      "cell_type": "code",
      "metadata": {
        "id": "az6cAtGfuOkC",
        "colab_type": "code",
        "colab": {
          "base_uri": "https://localhost:8080/",
          "height": 68
        },
        "outputId": "d17ad583-7298-45fc-99f1-c1f7c122c8dd"
      },
      "source": [
        "from nltk.tokenize import word_tokenize\n",
        "nltk.download('punkt')\n",
        "text = slim_df['dialogue'][292938]\n",
        "\n",
        "text_tokens = word_tokenize(text)\n",
        "tokens_without_sw = [word for word in text_tokens if not word in sw]\n",
        "\n",
        "print(tokens_without_sw)"
      ],
      "execution_count": null,
      "outputs": [
        {
          "output_type": "stream",
          "text": [
            "[nltk_data] Downloading package punkt to /root/nltk_data...\n",
            "[nltk_data]   Package punkt is already up-to-date!\n",
            "['lord', 'seems', 'want', 'stay', 'back', 'basutos']\n"
          ],
          "name": "stdout"
        }
      ]
    },
    {
      "cell_type": "code",
      "metadata": {
        "id": "zkj_CsgMEfiP",
        "colab_type": "code",
        "colab": {}
      },
      "source": [
        ""
      ],
      "execution_count": null,
      "outputs": []
    },
    {
      "cell_type": "code",
      "metadata": {
        "id": "rpsWJYtjByLc",
        "colab_type": "code",
        "colab": {}
      },
      "source": [
        "from nltk.stem import WordNetLemmatizer"
      ],
      "execution_count": null,
      "outputs": []
    },
    {
      "cell_type": "code",
      "metadata": {
        "id": "tpI2gESBDLMm",
        "colab_type": "code",
        "colab": {}
      },
      "source": [
        "from nltk.stem.porter import PorterStemmer\n",
        "porter_stemmer = PorterStemmer()\n",
        "\n",
        "words = [porter_stemmer.stem(word) for word in tokens_without_sw]\n"
      ],
      "execution_count": null,
      "outputs": []
    },
    {
      "cell_type": "code",
      "metadata": {
        "id": "0jeZJG06EUyY",
        "colab_type": "code",
        "colab": {
          "base_uri": "https://localhost:8080/",
          "height": 34
        },
        "outputId": "a0d6b90a-721e-4854-a627-b65c8f460036"
      },
      "source": [
        "words"
      ],
      "execution_count": null,
      "outputs": [
        {
          "output_type": "execute_result",
          "data": {
            "text/plain": [
              "['lord', 'seem', 'want', 'stay', 'back', 'basuto']"
            ]
          },
          "metadata": {
            "tags": []
          },
          "execution_count": 299
        }
      ]
    },
    {
      "cell_type": "code",
      "metadata": {
        "id": "whXjbAwaYWIG",
        "colab_type": "code",
        "colab": {
          "base_uri": "https://localhost:8080/",
          "height": 34
        },
        "outputId": "50a3bbef-bcb1-4115-99b3-624bcb1b094f"
      },
      "source": [
        "#Split data into training and testing \n",
        "\n",
        "#Tokenize the gender column into numbers\n",
        "\n"
      ],
      "execution_count": null,
      "outputs": [
        {
          "output_type": "execute_result",
          "data": {
            "text/plain": [
              "set"
            ]
          },
          "metadata": {
            "tags": []
          },
          "execution_count": 108
        }
      ]
    },
    {
      "cell_type": "code",
      "metadata": {
        "id": "1BCfHFkeReYc",
        "colab_type": "code",
        "colab": {
          "base_uri": "https://localhost:8080/",
          "height": 231
        },
        "outputId": "ac476786-ba4c-42cc-bdeb-cc467bb96e40"
      },
      "source": [
        "text = slim_df.dialogue.values\n",
        "stopwords\n",
        "wordcloud = WordCloud(\n",
        "    width = 3000,\n",
        "    height = 2000,\n",
        "    background_color = 'black',\n",
        "    stopwords = stopwords).generate(str(text))\n",
        "fig = plt.figure(\n",
        "    figsize = (40, 30),\n",
        "    facecolor = 'k',\n",
        "    edgecolor = 'k')\n",
        "plt.imshow(wordcloud, interpolation = 'bilinear')\n",
        "plt.axis('off')\n",
        "plt.tight_layout(pad=0)\n",
        "plt.show()"
      ],
      "execution_count": null,
      "outputs": [
        {
          "output_type": "error",
          "ename": "TypeError",
          "evalue": "ignored",
          "traceback": [
            "\u001b[0;31m---------------------------------------------------------------------------\u001b[0m",
            "\u001b[0;31mTypeError\u001b[0m                                 Traceback (most recent call last)",
            "\u001b[0;32m<ipython-input-109-9087f6c052da>\u001b[0m in \u001b[0;36m<module>\u001b[0;34m()\u001b[0m\n\u001b[1;32m      5\u001b[0m     \u001b[0mheight\u001b[0m \u001b[0;34m=\u001b[0m \u001b[0;36m2000\u001b[0m\u001b[0;34m,\u001b[0m\u001b[0;34m\u001b[0m\u001b[0;34m\u001b[0m\u001b[0m\n\u001b[1;32m      6\u001b[0m     \u001b[0mbackground_color\u001b[0m \u001b[0;34m=\u001b[0m \u001b[0;34m'black'\u001b[0m\u001b[0;34m,\u001b[0m\u001b[0;34m\u001b[0m\u001b[0;34m\u001b[0m\u001b[0m\n\u001b[0;32m----> 7\u001b[0;31m     stopwords = set(stopwords)).generate(str(text))\n\u001b[0m\u001b[1;32m      8\u001b[0m fig = plt.figure(\n\u001b[1;32m      9\u001b[0m     \u001b[0mfigsize\u001b[0m \u001b[0;34m=\u001b[0m \u001b[0;34m(\u001b[0m\u001b[0;36m40\u001b[0m\u001b[0;34m,\u001b[0m \u001b[0;36m30\u001b[0m\u001b[0;34m)\u001b[0m\u001b[0;34m,\u001b[0m\u001b[0;34m\u001b[0m\u001b[0;34m\u001b[0m\u001b[0m\n",
            "\u001b[0;31mTypeError\u001b[0m: 'WordListCorpusReader' object is not iterable"
          ]
        }
      ]
    },
    {
      "cell_type": "code",
      "metadata": {
        "id": "WPn_LS6XH5Ra",
        "colab_type": "code",
        "colab": {
          "base_uri": "https://localhost:8080/",
          "height": 649
        },
        "outputId": "63e4f015-0570-4d02-874c-f2148a012503"
      },
      "source": [
        "\n",
        "text = characterline_df.name.values\n",
        "wordcloud = WordCloud(\n",
        "    width = 3000,\n",
        "    height = 2000,\n",
        "    background_color = 'black',\n",
        "    stopwords = STOPWORDS).generate(str(text))\n",
        "fig = plt.figure(\n",
        "    figsize = (40, 30),\n",
        "    facecolor = 'k',\n",
        "    edgecolor = 'k')\n",
        "plt.imshow(wordcloud, interpolation = 'bilinear')\n",
        "plt.axis('off')\n",
        "plt.tight_layout(pad=0)\n",
        "plt.show()"
      ],
      "execution_count": null,
      "outputs": [
        {
          "output_type": "display_data",
          "data": {
            "image/png": "[encoded data removed]",
            "text/plain": [
              "<Figure size 2880x2160 with 1 Axes>"
            ]
          },
          "metadata": {
            "tags": []
          }
        }
      ]
    },
    {
      "cell_type": "code",
      "metadata": {
        "id": "IYJ5ie4Qq5Q_",
        "colab_type": "code",
        "colab": {}
      },
      "source": [
        ""
      ],
      "execution_count": null,
      "outputs": []
    }
  ]
}