{
 "cells": [
  {
   "cell_type": "code",
   "execution_count": null,
   "metadata": {},
   "outputs": [],
   "source": [
    "import pandas as pd\n",
    "import numpy as np\n",
    "import matplotlib.pyplot as plt"
   ]
  },
  {
   "cell_type": "code",
   "execution_count": null,
   "metadata": {},
   "outputs": [],
   "source": [
    "names = pd.read_csv('resources/NationalNames.csv')\n",
    "characters = pd.read_csv('resources/datasets_1568_2804_movie_characters_metadata.tsv', \n",
    "                           sep='\\t', error_bad_lines=False, header=None, warn_bad_lines=False)\n",
    "lines = pd.read_csv('fixed_lines.csv', \n",
    "                           sep='\\t', error_bad_lines=False, warn_bad_lines=False, header=None)"
   ]
  },
  {
   "cell_type": "code",
   "execution_count": null,
   "metadata": {},
   "outputs": [],
   "source": [
    "names\n",
    "names['Name'] = names['Name'].apply(lambda x: x.upper())"
   ]
  },
  {
   "cell_type": "code",
   "execution_count": null,
   "metadata": {},
   "outputs": [],
   "source": [
    "names = names.rename(columns={\n",
    "    'Name': 'name',\n",
    "    'Gender': 'assumed_gender',\n",
    "    'Count': 'name_count'\n",
    "})\n",
    "names = names[['Year', 'assumed_gender', 'name_count', 'name']]"
   ]
  },
  {
   "cell_type": "code",
   "execution_count": null,
   "metadata": {},
   "outputs": [],
   "source": [
    "#Early testing on a subset of the dataframe to validate theories\n",
    "# question = characters[characters[4] == '?']\n",
    "# question = question.rename(columns={\n",
    "#     0: 'id',\n",
    "#     1: 'name',\n",
    "#     2: 'movie_id',\n",
    "#     3: 'title',\n",
    "#     4: 'gender',\n",
    "#     5: 'credit_position'\n",
    "# })"
   ]
  },
  {
   "cell_type": "code",
   "execution_count": null,
   "metadata": {},
   "outputs": [],
   "source": [
    "#Early testing on a subset of the dataframe to validate theories\n",
    "# #question['new_gender'] = question['name'].apply(lambda x: is 'DAKOTA')\n",
    "# question['named_dakota']= question['name'].apply(lambda x: 'True' if x == 'Dakota' else 'False')\n",
    "# question"
   ]
  },
  {
   "cell_type": "code",
   "execution_count": null,
   "metadata": {},
   "outputs": [],
   "source": [
    "#Take the total counts of the name by gender and make a column called 'name_count'\n",
    "name_assumptions = names.groupby(['name','assumed_gender']).agg({'name_count': ['max']})\n",
    "name_assumptions = name_assumptions.reset_index()"
   ]
  },
  {
   "cell_type": "code",
   "execution_count": null,
   "metadata": {},
   "outputs": [],
   "source": [
    "cols = name_assumptions.columns.droplevel(1)"
   ]
  },
  {
   "cell_type": "code",
   "execution_count": null,
   "metadata": {},
   "outputs": [],
   "source": [
    "name_assumptions.columns = cols\n",
    "name_assumptions"
   ]
  },
  {
   "cell_type": "code",
   "execution_count": null,
   "metadata": {},
   "outputs": [],
   "source": [
    "#Keep the row with the highest count of names for that gender \n",
    "name_assumptions = name_assumptions.drop_duplicates(subset='name', keep=\"last\")"
   ]
  },
  {
   "cell_type": "code",
   "execution_count": null,
   "metadata": {},
   "outputs": [],
   "source": [
    "name_assumptions.count()\n",
    "name_assumptions[name_assumptions.name == 'ALEX']\n"
   ]
  },
  {
   "cell_type": "code",
   "execution_count": null,
   "metadata": {},
   "outputs": [],
   "source": [
    "female_names = name_assumptions[name_assumptions.assumed_gender == 'F']\n",
    "female_names.head()"
   ]
  },
  {
   "cell_type": "code",
   "execution_count": null,
   "metadata": {},
   "outputs": [],
   "source": [
    "male_names = name_assumptions[name_assumptions.assumed_gender == 'M']\n",
    "male_names.head()"
   ]
  },
  {
   "cell_type": "code",
   "execution_count": null,
   "metadata": {},
   "outputs": [],
   "source": [
    "#Early testing on a subset of the dataframe to validate theories\n",
    "# df = question.merge(name_assumptions, on='name', how='left')"
   ]
  },
  {
   "cell_type": "code",
   "execution_count": null,
   "metadata": {},
   "outputs": [],
   "source": [
    "#Early testing on a subset of the dataframe to validate theories\n",
    "# df = df.fillna('?')"
   ]
  },
  {
   "cell_type": "code",
   "execution_count": null,
   "metadata": {},
   "outputs": [],
   "source": [
    "#Early testing on a subset of the dataframe to validate theories\n",
    "# question_df = df[df['assumed_gender'] == '?']\n",
    "# question_df"
   ]
  },
  {
   "cell_type": "code",
   "execution_count": null,
   "metadata": {},
   "outputs": [],
   "source": [
    "#Early testing on a subset of the dataframe to validate theories\n",
    "# def assign_gender(n):\n",
    "#     women = ['MRS', 'LADY', 'MS ', 'MISS', 'WOMAN', 'GIRL', 'CHICK', 'MADAM', 'MADAME', 'SENIORITA', 'SENORA',\n",
    "#             'MISTRESS', 'FEMALE', 'MOTHER', 'MOM', 'GRANDDAUGHTER', 'NIECE', 'AUNT', 'SISTER', 'DAUGHTER',\n",
    "#             'BROAD', 'DUCHESS', 'DAME', 'GENTLEWOMAN', 'QUEEN', 'CRONE', ' HAG', 'GAL', 'MAMA', 'MOMMA', 'BITCH',\n",
    "#             'MISSUS', 'EMPRESS', 'BARONESS', 'NOBLEWOMAN', 'GRANNY', 'NONNA', 'NUN', 'MRS.','MS.', 'FRAU','WIFE',\n",
    "#             'WIFEY', 'BRIDE']\n",
    "#     men = ['MR ', 'SENOR', 'MAN', 'GUY', 'DUDE', 'MISTER', 'BOY', 'MALE', 'BROTHER', 'HUSBAND', 'GENTLEMAN',\n",
    "#           'FATHER', 'DAD', 'GRANDSON', 'GRANDFATHER', 'NEPHEW', 'UNCLE', 'BARON', 'KNIGHT', 'EMPEROR', 'NOBLEMAN',\n",
    "#           'DADDY', 'PAPI', 'PAPA', 'GRANDPA', 'GRAMPS', 'CHAP', 'LAD', 'GEEZER', 'BLOKE', 'SIR', 'MR.', 'HUBBY','GROOM',\n",
    "#           'HERR']\n",
    "    \n",
    "#     gender = '?'\n",
    "    \n",
    "#     for x in women:\n",
    "#         if x in n:\n",
    "#             gender = 'F'\n",
    "            \n",
    "#     for x in men:\n",
    "#         if x in n:\n",
    "#             gender = 'M'\n",
    "            \n",
    "#     return gender\n",
    "\n",
    "            \n"
   ]
  },
  {
   "cell_type": "code",
   "execution_count": null,
   "metadata": {},
   "outputs": [],
   "source": [
    "#Early testing on a subset of the dataframe to validate theories\n",
    "# assign_gender('MISS PERKY')"
   ]
  },
  {
   "cell_type": "code",
   "execution_count": null,
   "metadata": {},
   "outputs": [],
   "source": [
    "#Early testing on a subset of the dataframe to validate theories\n",
    "# question_df['assumed_gender'] = question_df['name'].apply(assign_gender)"
   ]
  },
  {
   "cell_type": "code",
   "execution_count": null,
   "metadata": {},
   "outputs": [],
   "source": [
    "#Early testing on a subset of the dataframe to validate theories\n",
    "# question_df.assumed_gender.value_counts()"
   ]
  },
  {
   "cell_type": "code",
   "execution_count": null,
   "metadata": {},
   "outputs": [],
   "source": [
    "#Early testing on a subset of the dataframe to validate theories\n",
    "# question_df[question_df.assumed_gender == '?'] "
   ]
  },
  {
   "cell_type": "code",
   "execution_count": null,
   "metadata": {},
   "outputs": [],
   "source": [
    "#Early testing on a subset of the dataframe to validate theories\n",
    "# pd.set_option('display.max_rows', 25)"
   ]
  },
  {
   "cell_type": "code",
   "execution_count": null,
   "metadata": {},
   "outputs": [],
   "source": [
    "question_df['assumed_gender'] = question_df['name'].apply(assign_namesg)\n",
    "question_df.head()"
   ]
  },
  {
   "cell_type": "code",
   "execution_count": null,
   "metadata": {},
   "outputs": [],
   "source": [
    "def assign_namesg(row):\n",
    "    women = female_names.name.to_list() \n",
    "    men = male_names.name.to_list()\n",
    "    gendered_f = ['MRS', 'LADY', 'MS ', 'MISS', 'WOMAN', 'GIRL', 'CHICK', 'MADAM', 'MADAME', 'SENIORITA', 'SENORA',\n",
    "            'MISTRESS', 'FEMALE', 'MOTHER', 'MOM', 'GRANDDAUGHTER', 'NIECE', 'AUNT', 'SISTER', 'DAUGHTER',\n",
    "            'BROAD', 'DUCHESS', 'DAME', 'GENTLEWOMAN', 'QUEEN', 'CRONE', ' HAG', 'GAL', 'MAMA', 'MOMMA', 'BITCH',\n",
    "            'MISSUS', 'EMPRESS', 'BARONESS', 'NOBLEWOMAN', 'GRANNY', 'NONNA', 'NUN', 'MRS.','MS.', 'FRAU','WIFE',\n",
    "            'WIFEY', 'BRIDE']\n",
    "    gendered_m = ['MR ', 'SENOR', 'MAN', 'GUY', 'DUDE', 'MISTER', 'BOY', 'MALE', 'BROTHER', 'HUSBAND', 'GENTLEMAN',\n",
    "          'FATHER', 'DAD', 'GRANDSON', 'GRANDFATHER', 'NEPHEW', 'UNCLE', 'BARON', 'KNIGHT', 'EMPEROR', 'NOBLEMAN',\n",
    "          'DADDY', 'PAPI', 'PAPA', 'GRANDPA', 'GRAMPS', 'CHAP', 'LAD', 'GEEZER', 'BLOKE', 'SIR', 'MR.', 'HUBBY','GROOM',\n",
    "          'HERR']\n",
    "    \n",
    "    gender = row['gender']\n",
    "    name = row['name']\n",
    "    try:\n",
    "      if row['gender'] == '?':\n",
    "\n",
    "          for x in men:\n",
    "              if x == row['name']:\n",
    "                  gender = 'M'\n",
    "\n",
    "          for x in women:\n",
    "              if x == row['name']:\n",
    "                  gender = 'F'\n",
    "                  \n",
    "      if row['gender'] == '?':\n",
    "          \n",
    "          for x in gendered_m:\n",
    "              if x in row['name']:\n",
    "                  gender = 'M'\n",
    "\n",
    "          for x in gendered_f:\n",
    "              if x in row['name']:\n",
    "                  gender = 'F'\n",
    "      \n",
    "      print(f'Name is {name}, Gender is {gender}')    \n",
    "\n",
    "    except:\n",
    "        print(name)\n",
    "        print('Something went wrong.')    \n",
    "return gender\n",
    "\n",
    "      \n",
    "\n",
    "    "
   ]
  },
  {
   "cell_type": "code",
   "execution_count": null,
   "metadata": {},
   "outputs": [],
   "source": [
    "lines.head()"
   ]
  },
  {
   "cell_type": "code",
   "execution_count": null,
   "metadata": {},
   "outputs": [],
   "source": [
    "characters.head()"
   ]
  },
  {
   "cell_type": "code",
   "execution_count": null,
   "metadata": {},
   "outputs": [],
   "source": [
    "characters_df = characters.rename(columns={\n",
    "    0: 'id',\n",
    "    1: 'name',\n",
    "    2: 'movie_id',\n",
    "    3: 'title',\n",
    "    4: 'gender',\n",
    "    5: 'credit_position'\n",
    "})\n",
    "\n",
    "characters_df"
   ]
  },
  {
   "cell_type": "code",
   "execution_count": null,
   "metadata": {},
   "outputs": [],
   "source": [
    "# pd.set_option('display.max_rows', 100)\n",
    "characters_df.name.value_counts"
   ]
  },
  {
   "cell_type": "code",
   "execution_count": null,
   "metadata": {},
   "outputs": [],
   "source": [
    "characters_df.gender = characters_df.apply(assign_namesg, axis = 1)\n",
    "characters_df.head()"
   ]
  },
  {
   "cell_type": "code",
   "execution_count": null,
   "metadata": {},
   "outputs": [],
   "source": [
    "characters_df.head()"
   ]
  },
  {
   "cell_type": "code",
   "execution_count": null,
   "metadata": {},
   "outputs": [],
   "source": [
    "characters_df.groupby('gender').count()"
   ]
  },
  {
   "cell_type": "code",
   "execution_count": null,
   "metadata": {},
   "outputs": [],
   "source": [
    "characters_df.gender = characters_df.gender.str.upper()"
   ]
  },
  {
   "cell_type": "code",
   "execution_count": null,
   "metadata": {},
   "outputs": [],
   "source": [
    "characters_df.groupby('gender').count()"
   ]
  },
  {
   "cell_type": "code",
   "execution_count": null,
   "metadata": {},
   "outputs": [],
   "source": [
    "# characters_df.to_csv('characters_updated.csv')\n",
    "characters_df.head()\n",
    "character_gender = characters_df[['id', 'gender']]"
   ]
  },
  {
   "cell_type": "code",
   "execution_count": null,
   "metadata": {},
   "outputs": [],
   "source": [
    "lines = lines.rename(columns={\n",
    "   'character_id': 'id',\n",
    "})\n",
    "lines.head()"
   ]
  },
  {
   "cell_type": "code",
   "execution_count": null,
   "metadata": {},
   "outputs": [],
   "source": [
    "characters_updated = lines.merge(characters_df, how='left', on='id')\n",
    "characters_updated.head()"
   ]
  },
  {
   "cell_type": "code",
   "execution_count": null,
   "metadata": {},
   "outputs": [],
   "source": [
    "# characters_updated = characters_updated[['line_id', 'id', 'movie_id_x', 'name_x', 'line', 'title', 'gender']]\n",
    "characters_updated = characters_updated.rename(columns={\n",
    "    'id': 'character_id',\n",
    "    'movie_id_x': 'movie_id', \n",
    "    'name_x': 'name',\n",
    "})\n",
    "characters_updated.head()"
   ]
  },
  {
   "cell_type": "code",
   "execution_count": null,
   "metadata": {},
   "outputs": [],
   "source": [
    "# characters_updated.to_csv('characters_updated_gnd.csv', header=True)\n",
    "character_gender.to_csv('cleaned_cglines.csv', header=True)"
   ]
  }
 ],
 "metadata": {
  "kernelspec": {
   "display_name": "Python 3",
   "language": "python",
   "name": "python3"
  },
  "language_info": {
   "codemirror_mode": {
    "name": "ipython",
    "version": 3
   },
   "file_extension": ".py",
   "mimetype": "text/x-python",
   "name": "python",
   "nbconvert_exporter": "python",
   "pygments_lexer": "ipython3",
   "version": "3.7.4"
  }
 },
 "nbformat": 4,
 "nbformat_minor": 2
}
