{
 "cells": [
  {
   "cell_type": "code",
   "execution_count": 1,
   "metadata": {},
   "outputs": [],
   "source": [
    "import pandas as pd\n",
    "import numpy as np"
   ]
  },
  {
   "cell_type": "code",
   "execution_count": 28,
   "metadata": {},
   "outputs": [],
   "source": [
    "lst = ['CAPTAIN', 'DOCTOR', 'LAWYER', 'DRIVER', 'KID', 'CHILD', 'PRESIDENT', 'SENATOR', 'LIEUTENANT']\n",
    "for index, row in x.iterrows():\n",
    "    for i in lst:\n",
    "        if row['name'] == i and row['gender'].isupper():\n",
    "            row['gender'] = '?'"
   ]
  },
  {
   "cell_type": "code",
   "execution_count": 31,
   "metadata": {},
   "outputs": [],
   "source": [
    "x.to_csv('fixed_characters.csv', index=False)"
   ]
  },
  {
   "cell_type": "code",
   "execution_count": 76,
   "metadata": {},
   "outputs": [],
   "source": [
    "names = pd.read_csv('NationalNames.csv')\n",
    "characters = pd.read_csv('datasets_1568_2804_movie_characters_metadata.tsv', \n",
    "                           sep='\\t', error_bad_lines=False, header=None, warn_bad_lines=False)\n",
    "lines = pd.read_csv('movie_lines.tsv', \n",
    "                           sep='\\t', error_bad_lines=False, warn_bad_lines=False, header=None)"
   ]
  },
  {
   "cell_type": "code",
   "execution_count": 77,
   "metadata": {},
   "outputs": [],
   "source": [
    "names['name'] = names['Name'].apply(lambda x: x.upper())"
   ]
  },
  {
   "cell_type": "code",
   "execution_count": 78,
   "metadata": {},
   "outputs": [],
   "source": [
    "names = names.rename(columns={\n",
    "    'Name': 'lower',\n",
    "    'Gender': 'assumed_gender',\n",
    "    'Count': 'name_count'\n",
    "})\n",
    "names = names[['Year', 'assumed_gender', 'name_count', 'name']]"
   ]
  },
  {
   "cell_type": "code",
   "execution_count": 79,
   "metadata": {},
   "outputs": [
    {
     "data": {
      "text/html": [
       "<div>\n",
       "<style scoped>\n",
       "    .dataframe tbody tr th:only-of-type {\n",
       "        vertical-align: middle;\n",
       "    }\n",
       "\n",
       "    .dataframe tbody tr th {\n",
       "        vertical-align: top;\n",
       "    }\n",
       "\n",
       "    .dataframe thead th {\n",
       "        text-align: right;\n",
       "    }\n",
       "</style>\n",
       "<table border=\"1\" class=\"dataframe\">\n",
       "  <thead>\n",
       "    <tr style=\"text-align: right;\">\n",
       "      <th></th>\n",
       "      <th>Year</th>\n",
       "      <th>name_count</th>\n",
       "      <th>name</th>\n",
       "    </tr>\n",
       "    <tr>\n",
       "      <th>assumed_gender</th>\n",
       "      <th></th>\n",
       "      <th></th>\n",
       "      <th></th>\n",
       "    </tr>\n",
       "  </thead>\n",
       "  <tbody>\n",
       "    <tr>\n",
       "      <td>F</td>\n",
       "      <td>2012</td>\n",
       "      <td>24</td>\n",
       "      <td>CHILD</td>\n",
       "    </tr>\n",
       "    <tr>\n",
       "      <td>M</td>\n",
       "      <td>2012</td>\n",
       "      <td>42</td>\n",
       "      <td>CHILD</td>\n",
       "    </tr>\n",
       "  </tbody>\n",
       "</table>\n",
       "</div>"
      ],
      "text/plain": [
       "                Year  name_count   name\n",
       "assumed_gender                         \n",
       "F               2012          24  CHILD\n",
       "M               2012          42  CHILD"
      ]
     },
     "execution_count": 79,
     "metadata": {},
     "output_type": "execute_result"
    }
   ],
   "source": [
    "names[names['name'] == 'CHILD'].groupby('assumed_gender').max()"
   ]
  },
  {
   "cell_type": "code",
   "execution_count": 80,
   "metadata": {},
   "outputs": [],
   "source": [
    "name_assumptions = names.groupby(['name','assumed_gender']).agg({'name_count': ['sum']})\n",
    "name_assumptions = name_assumptions.reset_index()\n",
    "cols = name_assumptions.columns.droplevel(1)\n",
    "name_assumptions.columns = cols\n",
    "name_assumptions = name_assumptions.sort_values(['name', 'name_count'], ascending=[True, True])\n",
    "name_assumptions = name_assumptions.drop_duplicates(subset='name', keep=\"last\")"
   ]
  },
  {
   "cell_type": "code",
   "execution_count": 81,
   "metadata": {},
   "outputs": [],
   "source": [
    "female_names = name_assumptions[name_assumptions.assumed_gender == 'F']\n",
    "male_names = name_assumptions[name_assumptions.assumed_gender == 'M']"
   ]
  },
  {
   "cell_type": "code",
   "execution_count": 82,
   "metadata": {},
   "outputs": [],
   "source": [
    "def test(y):\n",
    "    women = female_names.name.to_list() \n",
    "    men = male_names.name.to_list()\n",
    "    gendered_f = ['MRS', 'LADY', 'MS ', 'MISS', 'WOMAN', 'GIRL', 'CHICK', 'MADAM', 'MADAME', 'SENIORITA', 'SENORA',\n",
    "            'MISTRESS', 'FEMALE', 'MOTHER', 'MOM', 'GRANDDAUGHTER', 'NIECE', 'AUNT', 'SISTER', 'DAUGHTER',\n",
    "            'BROAD', 'DUCHESS', 'DAME', 'GENTLEWOMAN', 'QUEEN', 'CRONE', ' HAG', 'GAL', 'MAMA', 'MOMMA', 'BITCH',\n",
    "            'MISSUS', 'EMPRESS', 'BARONESS', 'NOBLEWOMAN', 'GRANNY', 'NONNA', 'NUN', 'MRS.','MS.', 'FRAU','WIFE',\n",
    "            'WIFEY', 'BRIDE']\n",
    "    gendered_m = ['MR ', 'SENOR', 'MAN', 'GUY', 'DUDE', 'MISTER', 'BOY', 'MALE', 'BROTHER', 'HUSBAND', 'GENTLEMAN',\n",
    "          'FATHER', 'DAD', 'GRANDSON', 'GRANDFATHER', 'NEPHEW', 'UNCLE', 'BARON', 'KNIGHT', 'EMPEROR', 'NOBLEMAN',\n",
    "          'DADDY', 'PAPI', 'PAPA', 'GRANDPA', 'GRAMPS', 'CHAP', 'LAD', 'GEEZER', 'BLOKE', 'SIR', 'MR.', 'HUBBY','GROOM',\n",
    "          'HERR']\n",
    "    \n",
    "    gender = '?'\n",
    "    if gender == '?': \n",
    "        for x in men:\n",
    "            if x == y:\n",
    "                gender = 'M'\n",
    "\n",
    "        for x in women:\n",
    "            if x == y:\n",
    "                gender = 'F'\n",
    "\n",
    "    if gender == '?':                \n",
    "        for x in gendered_m:\n",
    "            if x in y:\n",
    "                gender = 'M'\n",
    "\n",
    "        for x in gendered_f:\n",
    "            if x in y:\n",
    "                gender = 'F'\n",
    "    return gender"
   ]
  },
  {
   "cell_type": "code",
   "execution_count": 83,
   "metadata": {},
   "outputs": [
    {
     "data": {
      "text/plain": [
       "'F'"
      ]
     },
     "execution_count": 83,
     "metadata": {},
     "output_type": "execute_result"
    }
   ],
   "source": [
    "test('UGLY OLD WOMAN')"
   ]
  },
  {
   "cell_type": "code",
   "execution_count": null,
   "metadata": {},
   "outputs": [],
   "source": []
  },
  {
   "cell_type": "code",
   "execution_count": null,
   "metadata": {},
   "outputs": [],
   "source": []
  },
  {
   "cell_type": "code",
   "execution_count": 84,
   "metadata": {},
   "outputs": [],
   "source": [
    "def assign_namesg(row):\n",
    "    women = female_names.name.to_list() \n",
    "    men = male_names.name.to_list()\n",
    "    gendered_f = ['MRS', 'LADY', 'MS ', 'MISS', 'WOMAN', 'GIRL', 'CHICK', 'MADAM', 'MADAME', 'SENIORITA', 'SENORA',\n",
    "            'MISTRESS', 'FEMALE', 'MOTHER', 'MOM', 'GRANDDAUGHTER', 'NIECE', 'AUNT', 'SISTER', 'DAUGHTER',\n",
    "            'BROAD', 'DUCHESS', 'DAME', 'GENTLEWOMAN', 'QUEEN', 'CRONE', ' HAG', 'GAL', 'MAMA', 'MOMMA', 'BITCH',\n",
    "            'MISSUS', 'EMPRESS', 'BARONESS', 'NOBLEWOMAN', 'GRANNY', 'NONNA', 'NUN', 'MRS.','MS.', 'FRAU','WIFE',\n",
    "            'WIFEY', 'BRIDE']\n",
    "    gendered_m = ['MR ', 'SENOR', 'MAN', 'GUY', 'DUDE', 'MISTER', 'BOY', 'MALE', 'BROTHER', 'HUSBAND', 'GENTLEMAN',\n",
    "          'FATHER', 'DAD', 'GRANDSON', 'GRANDFATHER', 'NEPHEW', 'UNCLE', 'BARON', 'KNIGHT', 'EMPEROR', 'NOBLEMAN',\n",
    "          'DADDY', 'PAPI', 'PAPA', 'GRANDPA', 'GRAMPS', 'CHAP', 'LAD', 'GEEZER', 'BLOKE', 'SIR', 'MR.', 'HUBBY','GROOM',\n",
    "          'HERR']\n",
    "    \n",
    "    gender = row['gender']\n",
    "    name = row['name']\n",
    "    try:\n",
    "        if row['gender'] == '?': \n",
    "            for x in men:\n",
    "                if x == row['name']:\n",
    "                    gender = 'M'\n",
    "                    \n",
    "            for x in women:\n",
    "                if x == row['name']:\n",
    "                    gender = 'F'\n",
    "            \n",
    "        if row['gender'] == '?':                \n",
    "            for x in gendered_m:\n",
    "                if x in row['name']:\n",
    "                    gender = 'M'\n",
    "                    \n",
    "            for x in gendered_f:\n",
    "                if x in row['name']:\n",
    "                    gender = 'F'\n",
    "      \n",
    "        print(f'Name is {name}, Gender is {gender}')    \n",
    "    \n",
    "    except:\n",
    "        print(name)\n",
    "        print('Something went wrong.')    \n",
    "\n",
    "        return gender"
   ]
  },
  {
   "cell_type": "code",
   "execution_count": 85,
   "metadata": {},
   "outputs": [],
   "source": [
    "characters_df = characters.rename(columns={\n",
    "    0: 'id',\n",
    "    1: 'name',\n",
    "    2: 'movie_id',\n",
    "    3: 'title',\n",
    "    4: 'gender',\n",
    "    5: 'credit_position'\n",
    "})"
   ]
  },
  {
   "cell_type": "code",
   "execution_count": null,
   "metadata": {},
   "outputs": [],
   "source": []
  },
  {
   "cell_type": "code",
   "execution_count": null,
   "metadata": {},
   "outputs": [],
   "source": []
  }
 ],
 "metadata": {
  "kernelspec": {
   "display_name": "Python 3",
   "language": "python",
   "name": "python3"
  },
  "language_info": {
   "codemirror_mode": {
    "name": "ipython",
    "version": 3
   },
   "file_extension": ".py",
   "mimetype": "text/x-python",
   "name": "python",
   "nbconvert_exporter": "python",
   "pygments_lexer": "ipython3",
   "version": "3.7.4"
  }
 },
 "nbformat": 4,
 "nbformat_minor": 2
}
