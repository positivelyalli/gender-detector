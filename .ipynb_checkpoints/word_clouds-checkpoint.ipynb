{
 "cells": [
  {
   "cell_type": "code",
   "execution_count": null,
   "metadata": {},
   "outputs": [],
   "source": [
    "#Importing dependencies\n",
    "import pandas as pd\n",
    "import numpy as np\n",
    "import matplotlib.pyplot as plt\n",
    "from wordcloud import WordCloud, STOPWORDS\n"
   ]
  },
  {
   "cell_type": "markdown",
   "metadata": {
    "colab_type": "text",
    "id": "XYPIPt01ZKNA"
   },
   "source": [
    "# Load Data"
   ]
  },
  {
   "cell_type": "code",
   "execution_count": null,
   "metadata": {},
   "outputs": [],
   "source": [
    "female_df = pd.read_csv('')\n",
    "male_df = pd.read_csv('')"
   ]
  },
  {
   "cell_type": "code",
   "execution_count": null,
   "metadata": {},
   "outputs": [],
   "source": [
    "female_df.head()"
   ]
  },
  {
   "cell_type": "code",
   "execution_count": null,
   "metadata": {},
   "outputs": [],
   "source": [
    "male_df.head()"
   ]
  },
  {
   "cell_type": "markdown",
   "metadata": {},
   "source": [
    "Combine Data"
   ]
  },
  {
   "cell_type": "code",
   "execution_count": null,
   "metadata": {},
   "outputs": [],
   "source": [
    "frames = [female_df, male_df]"
   ]
  },
  {
   "cell_type": "code",
   "execution_count": null,
   "metadata": {},
   "outputs": [],
   "source": [
    "allwords_df = pd.concat(frames)"
   ]
  },
  {
   "cell_type": "markdown",
   "metadata": {},
   "source": [
    "## Word Clouds"
   ]
  },
  {
   "cell_type": "code",
   "execution_count": null,
   "metadata": {},
   "outputs": [],
   "source": [
    "from wordcloud import WordCloud, STOPWORDS\n",
    "import matplotlib.pyplot as plt\n",
    "text = dialogue_list\n",
    "wordcloud = WordCloud(\n",
    "    width = 3000,\n",
    "    height = 2000,\n",
    "    background_color = 'black',\n",
    "    stopwords = STOPWORDS).generate(str(text))\n",
    "fig = plt.figure(\n",
    "    figsize = (40, 30),\n",
    "    facecolor = 'k',\n",
    "    edgecolor = 'k')\n",
    "plt.imshow(wordcloud, interpolation = 'bilinear')\n",
    "plt.axis('off')\n",
    "plt.tight_layout(pad=0)\n",
    "plt.show()"
   ]
  },
  {
   "cell_type": "code",
   "execution_count": null,
   "metadata": {},
   "outputs": [],
   "source": [
    "plt.savefig('wordcloud_allg_lem1.png')"
   ]
  },
  {
   "cell_type": "markdown",
   "metadata": {},
   "source": [
    "Female word cloud"
   ]
  },
  {
   "cell_type": "code",
   "execution_count": null,
   "metadata": {},
   "outputs": [],
   "source": [
    "#\n",
    "import time\n",
    "f_dialogue_list = []\n",
    "\n",
    "count = 1\n",
    "start_time =  pd.Timestamp.now(tz='US/Pacific')\n",
    "time_now = start_time\n",
    "delta_time = 0\n",
    "progress = 0\n",
    "rate = 0\n",
    "eta = 0\n",
    "total_units = len(female_df.dialogue)\n",
    "time_end = 0\n",
    "for dialogue in female_df.dialogue:\n",
    "    time_now =  pd.Timestamp.now(tz='US/Pacific')\n",
    "    delta_time = time_now - start_time\n",
    "    rate = delta_time / count\n",
    "    remaining = total_units - count\n",
    "    eta = remaining * rate\n",
    "    time_end = (start_time + eta) #to time stamp string....\n",
    "    if count %10000 == 0:\n",
    "      print(str(pd.Timestamp(time_end)))\n",
    "      print(count)\n",
    "    if count == 10:\n",
    "      print(str(pd.Timestamp(time_end)))\n",
    "      print(count)\n",
    "    dialogue = nltk.word_tokenize(dialogue)\n",
    "    dialogue = [ word for word in dialogue if not word in set(sw)]\n",
    "    dialogue = \" \".join(dialogue)\n",
    "    f_dialogue_list.append(dialogue)\n",
    "    count = count + 1\n",
    "    \n",
    "    \n",
    "f_dialogue_list"
   ]
  },
  {
   "cell_type": "code",
   "execution_count": null,
   "metadata": {},
   "outputs": [],
   "source": [
    "from sklearn.feature_extraction.text import CountVectorizer\n",
    "#we can define max_features \n",
    "max_features = 1000\n",
    "count_vectorizer = CountVectorizer(max_features=max_features,stop_words = \"english\")\n",
    "#count_vectorizer = CountVectorizer(stop_words = \"english\")\n",
    "\n",
    "sparce_matrix = count_vectorizer.fit_transform(f_dialogue_list).toarray() # x\n",
    "\n",
    "print(\"{} most common words: {}\".format(max_features,count_vectorizer.get_feature_names()))\n",
    "\n",
    "from sklearn.feature_extraction.text import CountVectorizer\n",
    "# list of the text documents\n",
    "text = f_dialogue_list\n",
    "vectorizer = CountVectorizer()\n",
    "#tokenize and build vocab\n",
    "vectorizer.fit(text)\n",
    "#summarize\n",
    "print(vectorizer.vocabulary_)\n",
    "#encode doc\n",
    "vector = vectorizer.transform(text)\n",
    "#summarize encoded vector\n",
    "print(vector.shape)\n",
    "print(type(vector))\n",
    "print(vector.toarray())"
   ]
  },
  {
   "cell_type": "code",
   "execution_count": null,
   "metadata": {},
   "outputs": [],
   "source": [
    "from wordcloud import WordCloud, STOPWORDS\n",
    "import matplotlib.pyplot as plt\n",
    "text = f_dialogue_list\n",
    "wordcloud = WordCloud(\n",
    "    width = 3000,\n",
    "    height = 2000,\n",
    "    background_color = 'black',\n",
    "    stopwords = STOPWORDS).generate(str(text))\n",
    "fig = plt.figure(\n",
    "    figsize = (40, 30),\n",
    "    facecolor = 'k',\n",
    "    edgecolor = 'k')\n",
    "plt.imshow(wordcloud, interpolation = 'bilinear')\n",
    "plt.axis('off')\n",
    "plt.tight_layout(pad=0)\n",
    "plt.show()\n",
    "# plt.savefig('femalewordcloud_lem1.png')"
   ]
  },
  {
   "cell_type": "markdown",
   "metadata": {},
   "source": [
    "Male word cloud"
   ]
  },
  {
   "cell_type": "code",
   "execution_count": null,
   "metadata": {},
   "outputs": [],
   "source": [
    "#\n",
    "import time\n",
    "m_dialogue_list = []\n",
    "\n",
    "count = 1\n",
    "start_time =  pd.Timestamp.now(tz='US/Pacific')\n",
    "time_now = start_time\n",
    "delta_time = 0\n",
    "progress = 0\n",
    "rate = 0\n",
    "eta = 0\n",
    "total_units = len(male_df.dialogue)\n",
    "time_end = 0\n",
    "for dialogue in male_df.dialogue:\n",
    "    time_now =  pd.Timestamp.now(tz='US/Pacific')\n",
    "    delta_time = time_now - start_time\n",
    "    rate = delta_time / count\n",
    "    remaining = total_units - count\n",
    "    eta = remaining * rate\n",
    "    time_end = (start_time + eta) #to time stamp string....\n",
    "    if count %10000 == 0:\n",
    "      print(str(pd.Timestamp(time_end)))\n",
    "      print(count)\n",
    "    if count == 10:\n",
    "      print(str(pd.Timestamp(time_end)))\n",
    "      print(count)\n",
    "    dialogue = nltk.word_tokenize(dialogue)\n",
    "    lemma = nltk.WordNetLemmatizer()\n",
    "    dialogue = [lemma.lemmatize(word) for word in dialogue]\n",
    "    dialogue = [ word for word in dialogue if not word in set(sw)]\n",
    "    dialogue = \" \".join(dialogue)\n",
    "    m_dialogue_list.append(dialogue)\n",
    "    count = count + 1\n",
    "    \n",
    "    \n",
    "m_dialogue_list"
   ]
  },
  {
   "cell_type": "code",
   "execution_count": null,
   "metadata": {},
   "outputs": [],
   "source": [
    "from sklearn.feature_extraction.text import CountVectorizer\n",
    "#we can define max_features \n",
    "max_features = 1000\n",
    "count_vectorizer = CountVectorizer(max_features=max_features,stop_words = \"english\")\n",
    "#count_vectorizer = CountVectorizer(stop_words = \"english\")\n",
    "\n",
    "sparce_matrix = count_vectorizer.fit_transform(m_dialogue_list).toarray() # x\n",
    "\n",
    "print(\"{} most common words: {}\".format(max_features,count_vectorizer.get_feature_names()))\n",
    "\n",
    "from sklearn.feature_extraction.text import CountVectorizer\n",
    "# list of the text documents\n",
    "text = m_dialogue_list\n",
    "vectorizer = CountVectorizer()\n",
    "#tokenize and build vocab\n",
    "vectorizer.fit(text)\n",
    "#summarize\n",
    "print(vectorizer.vocabulary_)\n",
    "#encode doc\n",
    "vector = vectorizer.transform(text)\n",
    "#summarize encoded vector\n",
    "print(vector.shape)\n",
    "print(type(vector))\n",
    "print(vector.toarray())"
   ]
  },
  {
   "cell_type": "code",
   "execution_count": null,
   "metadata": {},
   "outputs": [],
   "source": [
    "from wordcloud import WordCloud, STOPWORDS\n",
    "import matplotlib.pyplot as plt\n",
    "text = m_dialogue_list\n",
    "wordcloud = WordCloud(\n",
    "    width = 3000,\n",
    "    height = 2000,\n",
    "    background_color = 'black',\n",
    "    stopwords = STOPWORDS).generate(str(text))\n",
    "fig = plt.figure(\n",
    "    figsize = (40, 30),\n",
    "    facecolor = 'k',\n",
    "    edgecolor = 'k')\n",
    "plt.imshow(wordcloud, interpolation = 'bilinear')\n",
    "plt.axis('off')\n",
    "plt.tight_layout(pad=0)\n",
    "plt.show()\n",
    "plt.savefig('malewordcloud_lem1.png')"
   ]
  },
  {
   "cell_type": "code",
   "execution_count": null,
   "metadata": {},
   "outputs": [],
   "source": []
  },
  {
   "cell_type": "code",
   "execution_count": null,
   "metadata": {},
   "outputs": [],
   "source": []
  }
 ],
 "metadata": {
  "kernelspec": {
   "display_name": "Python 3",
   "language": "python",
   "name": "python3"
  },
  "language_info": {
   "codemirror_mode": {
    "name": "ipython",
    "version": 3
   },
   "file_extension": ".py",
   "mimetype": "text/x-python",
   "name": "python",
   "nbconvert_exporter": "python",
   "pygments_lexer": "ipython3",
   "version": "3.7.4"
  }
 },
 "nbformat": 4,
 "nbformat_minor": 2
}
