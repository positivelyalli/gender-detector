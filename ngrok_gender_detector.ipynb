{
  "nbformat": 4,
  "nbformat_minor": 0,
  "metadata": {
    "colab": {
      "name": "ngrok_gender_detector.ipynb",
      "provenance": [],
      "collapsed_sections": [],
      "authorship_tag": "ABX9TyOIFhxrxKcAIIUC2t14YGNi",
      "include_colab_link": true
    },
    "kernelspec": {
      "name": "python3",
      "display_name": "Python 3"
    }
  },
  "cells": [
    {
      "cell_type": "markdown",
      "metadata": {
        "id": "view-in-github",
        "colab_type": "text"
      },
      "source": [
        "<a href=\"https://colab.research.google.com/github/positivelyalli/gender-detector/blob/master/ngrok_gender_detector.ipynb\" target=\"_parent\"><img src=\"https://colab.research.google.com/assets/colab-badge.svg\" alt=\"Open In Colab\"/></a>"
      ]
    },
    {
      "cell_type": "code",
      "metadata": {
        "id": "238SGNOaNkSK",
        "colab_type": "code",
        "colab": {
          "base_uri": "https://localhost:8080/",
          "height": 269
        },
        "outputId": "747c302a-2a50-4547-e144-65e59aa52209"
      },
      "source": [
        "!pip install flask-ngrok\n",
        "import nltk\n",
        "nltk.download('wordnet')"
      ],
      "execution_count": 7,
      "outputs": [
        {
          "output_type": "stream",
          "text": [
            "Requirement already satisfied: flask-ngrok in /usr/local/lib/python3.6/dist-packages (0.0.25)\n",
            "Requirement already satisfied: Flask>=0.8 in /usr/local/lib/python3.6/dist-packages (from flask-ngrok) (1.1.2)\n",
            "Requirement already satisfied: requests in /usr/local/lib/python3.6/dist-packages (from flask-ngrok) (2.23.0)\n",
            "Requirement already satisfied: itsdangerous>=0.24 in /usr/local/lib/python3.6/dist-packages (from Flask>=0.8->flask-ngrok) (1.1.0)\n",
            "Requirement already satisfied: Werkzeug>=0.15 in /usr/local/lib/python3.6/dist-packages (from Flask>=0.8->flask-ngrok) (1.0.1)\n",
            "Requirement already satisfied: click>=5.1 in /usr/local/lib/python3.6/dist-packages (from Flask>=0.8->flask-ngrok) (7.1.2)\n",
            "Requirement already satisfied: Jinja2>=2.10.1 in /usr/local/lib/python3.6/dist-packages (from Flask>=0.8->flask-ngrok) (2.11.2)\n",
            "Requirement already satisfied: idna<3,>=2.5 in /usr/local/lib/python3.6/dist-packages (from requests->flask-ngrok) (2.9)\n",
            "Requirement already satisfied: chardet<4,>=3.0.2 in /usr/local/lib/python3.6/dist-packages (from requests->flask-ngrok) (3.0.4)\n",
            "Requirement already satisfied: certifi>=2017.4.17 in /usr/local/lib/python3.6/dist-packages (from requests->flask-ngrok) (2020.6.20)\n",
            "Requirement already satisfied: urllib3!=1.25.0,!=1.25.1,<1.26,>=1.21.1 in /usr/local/lib/python3.6/dist-packages (from requests->flask-ngrok) (1.24.3)\n",
            "Requirement already satisfied: MarkupSafe>=0.23 in /usr/local/lib/python3.6/dist-packages (from Jinja2>=2.10.1->Flask>=0.8->flask-ngrok) (1.1.1)\n",
            "[nltk_data] Downloading package wordnet to /root/nltk_data...\n",
            "[nltk_data]   Unzipping corpora/wordnet.zip.\n"
          ],
          "name": "stdout"
        },
        {
          "output_type": "execute_result",
          "data": {
            "text/plain": [
              "True"
            ]
          },
          "metadata": {
            "tags": []
          },
          "execution_count": 7
        }
      ]
    },
    {
      "cell_type": "code",
      "metadata": {
        "id": "KD6WbHxQNUN8",
        "colab_type": "code",
        "colab": {
          "base_uri": "https://localhost:8080/",
          "height": 1000
        },
        "outputId": "fc6de76f-874e-4464-f497-1e29989d4582"
      },
      "source": [
        "from flask_ngrok import run_with_ngrok\n",
        "from flask import Flask, render_template, request\n",
        "import predict_gender\n",
        "\n",
        "app = Flask(__name__)\n",
        "run_with_ngrok(app)\n",
        "@app.route('/', methods=['post', 'get'])\n",
        "def login():\n",
        "    message = ''\n",
        "    text = ''\n",
        "    if request.method == 'POST':\n",
        "        text = request.form.get('gendered')\n",
        "        print('line 9') \n",
        "        gender = predict_gender.predict_gender(text)\n",
        "        if gender == 'Female':\n",
        "            message = \"Girl\"\n",
        "        else:\n",
        "            message = \"Boy\"\n",
        " \n",
        "    return render_template('index.html', message=message, txt=text)\n",
        "#...\n",
        "@app.route('/data_cleaning.html')\n",
        "def source():\n",
        "    return render_template('data_cleaning.html')\n",
        "\n",
        "if __name__ == '__main__':\n",
        "   app.run()"
      ],
      "execution_count": null,
      "outputs": [
        {
          "output_type": "stream",
          "text": [
            " * Serving Flask app \"__main__\" (lazy loading)\n",
            " * Environment: production\n",
            "\u001b[31m   WARNING: This is a development server. Do not use it in a production deployment.\u001b[0m\n",
            "\u001b[2m   Use a production WSGI server instead.\u001b[0m\n",
            " * Debug mode: off\n"
          ],
          "name": "stdout"
        },
        {
          "output_type": "stream",
          "text": [
            " * Running on http://127.0.0.1:5000/ (Press CTRL+C to quit)\n"
          ],
          "name": "stderr"
        },
        {
          "output_type": "stream",
          "text": [
            " * Running on http://4574f446ac1f.ngrok.io\n",
            " * Traffic stats available on http://127.0.0.1:4040\n"
          ],
          "name": "stdout"
        },
        {
          "output_type": "stream",
          "text": [
            "127.0.0.1 - - [12/Jul/2020 18:22:47] \"\u001b[37mGET / HTTP/1.1\u001b[0m\" 200 -\n",
            "127.0.0.1 - - [12/Jul/2020 18:22:47] \"\u001b[37mGET /static/style.css HTTP/1.1\u001b[0m\" 200 -\n",
            "127.0.0.1 - - [12/Jul/2020 18:22:47] \"\u001b[33mGET /docs/4.5/dist/js/bootstrap.bundle.min.js HTTP/1.1\u001b[0m\" 404 -\n",
            "127.0.0.1 - - [12/Jul/2020 18:22:47] \"\u001b[37mGET /static/images/femalecloud.png HTTP/1.1\u001b[0m\" 200 -\n",
            "127.0.0.1 - - [12/Jul/2020 18:22:47] \"\u001b[37mGET /static/js/app.js HTTP/1.1\u001b[0m\" 200 -\n",
            "127.0.0.1 - - [12/Jul/2020 18:22:47] \"\u001b[37mGET /static/images/malecloud.png HTTP/1.1\u001b[0m\" 200 -\n",
            "127.0.0.1 - - [12/Jul/2020 18:22:47] \"\u001b[33mGET /docs/4.5/dist/js/bootstrap.bundle.min.js HTTP/1.1\u001b[0m\" 404 -\n",
            "127.0.0.1 - - [12/Jul/2020 18:22:48] \"\u001b[33mGET /favicon.ico HTTP/1.1\u001b[0m\" 404 -\n"
          ],
          "name": "stderr"
        },
        {
          "output_type": "stream",
          "text": [
            "line 9\n",
            "line 40pastels are pretty\n",
            "pastels are pretty\n"
          ],
          "name": "stdout"
        },
        {
          "output_type": "stream",
          "text": [
            "127.0.0.1 - - [12/Jul/2020 18:23:05] \"\u001b[37mPOST / HTTP/1.1\u001b[0m\" 200 -\n",
            "127.0.0.1 - - [12/Jul/2020 18:23:05] \"\u001b[33mGET /docs/4.5/dist/js/bootstrap.bundle.min.js HTTP/1.1\u001b[0m\" 404 -\n"
          ],
          "name": "stderr"
        },
        {
          "output_type": "stream",
          "text": [
            "line 9\n",
            "line 40Fuck this shit\n"
          ],
          "name": "stdout"
        },
        {
          "output_type": "stream",
          "text": [
            "127.0.0.1 - - [12/Jul/2020 18:23:27] \"\u001b[37mPOST / HTTP/1.1\u001b[0m\" 200 -\n"
          ],
          "name": "stderr"
        },
        {
          "output_type": "stream",
          "text": [
            "Fuck this shit\n"
          ],
          "name": "stdout"
        },
        {
          "output_type": "stream",
          "text": [
            "127.0.0.1 - - [12/Jul/2020 18:23:27] \"\u001b[33mGET /docs/4.5/dist/js/bootstrap.bundle.min.js HTTP/1.1\u001b[0m\" 404 -\n"
          ],
          "name": "stderr"
        },
        {
          "output_type": "stream",
          "text": [
            "line 9\n",
            "line 40I think that I want ice cream\n",
            "line 9\n",
            "line 40I think that I want ice cream\n"
          ],
          "name": "stdout"
        },
        {
          "output_type": "stream",
          "text": [
            "127.0.0.1 - - [12/Jul/2020 18:23:54] \"\u001b[37mPOST / HTTP/1.1\u001b[0m\" 200 -\n"
          ],
          "name": "stderr"
        },
        {
          "output_type": "stream",
          "text": [
            "I think that I want ice cream\n"
          ],
          "name": "stdout"
        },
        {
          "output_type": "stream",
          "text": [
            "127.0.0.1 - - [12/Jul/2020 18:23:54] \"\u001b[37mPOST / HTTP/1.1\u001b[0m\" 200 -\n",
            "127.0.0.1 - - [12/Jul/2020 18:23:55] \"\u001b[33mGET /docs/4.5/dist/js/bootstrap.bundle.min.js HTTP/1.1\u001b[0m\" 404 -\n"
          ],
          "name": "stderr"
        },
        {
          "output_type": "stream",
          "text": [
            "I think that I want ice cream\n"
          ],
          "name": "stdout"
        },
        {
          "output_type": "stream",
          "text": [
            "127.0.0.1 - - [12/Jul/2020 18:24:18] \"\u001b[37mGET / HTTP/1.1\u001b[0m\" 200 -\n",
            "127.0.0.1 - - [12/Jul/2020 18:24:18] \"\u001b[33mGET /favicon.ico HTTP/1.1\u001b[0m\" 404 -\n",
            "127.0.0.1 - - [12/Jul/2020 18:24:20] \"\u001b[37mGET / HTTP/1.1\u001b[0m\" 200 -\n",
            "127.0.0.1 - - [12/Jul/2020 18:24:21] \"\u001b[37mGET /static/style.css HTTP/1.1\u001b[0m\" 200 -\n",
            "127.0.0.1 - - [12/Jul/2020 18:24:21] \"\u001b[33mGET /docs/4.5/dist/js/bootstrap.bundle.min.js HTTP/1.1\u001b[0m\" 404 -\n",
            "127.0.0.1 - - [12/Jul/2020 18:24:21] \"\u001b[37mGET /static/js/app.js HTTP/1.1\u001b[0m\" 200 -\n",
            "127.0.0.1 - - [12/Jul/2020 18:24:21] \"\u001b[37mGET /static/images/femalecloud.png HTTP/1.1\u001b[0m\" 200 -\n",
            "127.0.0.1 - - [12/Jul/2020 18:24:21] \"\u001b[37mGET /static/images/malecloud.png HTTP/1.1\u001b[0m\" 200 -\n",
            "127.0.0.1 - - [12/Jul/2020 18:24:22] \"\u001b[33mGET /docs/4.5/dist/js/bootstrap.bundle.min.js HTTP/1.1\u001b[0m\" 404 -\n",
            "127.0.0.1 - - [12/Jul/2020 18:24:22] \"\u001b[33mGET /favicon.ico HTTP/1.1\u001b[0m\" 404 -\n"
          ],
          "name": "stderr"
        },
        {
          "output_type": "stream",
          "text": [
            "line 9\n",
            "line 40im gna cry\n"
          ],
          "name": "stdout"
        },
        {
          "output_type": "stream",
          "text": [
            "127.0.0.1 - - [12/Jul/2020 18:24:35] \"\u001b[37mPOST / HTTP/1.1\u001b[0m\" 200 -\n"
          ],
          "name": "stderr"
        },
        {
          "output_type": "stream",
          "text": [
            "im gna cry\n"
          ],
          "name": "stdout"
        },
        {
          "output_type": "stream",
          "text": [
            "127.0.0.1 - - [12/Jul/2020 18:24:35] \"\u001b[33mGET /docs/4.5/dist/js/bootstrap.bundle.min.js HTTP/1.1\u001b[0m\" 404 -\n",
            "127.0.0.1 - - [12/Jul/2020 18:24:35] \"\u001b[33mGET /docs/4.5/dist/js/bootstrap.bundle.min.js HTTP/1.1\u001b[0m\" 404 -\n",
            "127.0.0.1 - - [12/Jul/2020 18:25:50] \"\u001b[37mGET /data_cleaning.html HTTP/1.1\u001b[0m\" 200 -\n",
            "127.0.0.1 - - [12/Jul/2020 18:25:50] \"\u001b[37mGET /static/images/confusion1.png HTTP/1.1\u001b[0m\" 200 -\n",
            "127.0.0.1 - - [12/Jul/2020 18:25:50] \"\u001b[33mGET /docs/4.5/dist/js/bootstrap.bundle.min.js HTTP/1.1\u001b[0m\" 404 -\n"
          ],
          "name": "stderr"
        },
        {
          "output_type": "stream",
          "text": [
            "line 9\n",
            "line 40i love pastels\n"
          ],
          "name": "stdout"
        },
        {
          "output_type": "stream",
          "text": [
            "127.0.0.1 - - [12/Jul/2020 18:26:12] \"\u001b[37mPOST / HTTP/1.1\u001b[0m\" 200 -\n",
            "127.0.0.1 - - [12/Jul/2020 18:26:12] \"\u001b[33mGET /docs/4.5/dist/js/bootstrap.bundle.min.js HTTP/1.1\u001b[0m\" 404 -\n"
          ],
          "name": "stderr"
        },
        {
          "output_type": "stream",
          "text": [
            "i love pastels\n",
            "line 9\n",
            "line 40get the guns\n"
          ],
          "name": "stdout"
        },
        {
          "output_type": "stream",
          "text": [
            "127.0.0.1 - - [12/Jul/2020 18:26:49] \"\u001b[37mPOST / HTTP/1.1\u001b[0m\" 200 -\n"
          ],
          "name": "stderr"
        },
        {
          "output_type": "stream",
          "text": [
            "get the guns\n"
          ],
          "name": "stdout"
        },
        {
          "output_type": "stream",
          "text": [
            "127.0.0.1 - - [12/Jul/2020 18:26:49] \"\u001b[33mGET /docs/4.5/dist/js/bootstrap.bundle.min.js HTTP/1.1\u001b[0m\" 404 -\n",
            "127.0.0.1 - - [12/Jul/2020 18:26:49] \"\u001b[33mGET /docs/4.5/dist/js/bootstrap.bundle.min.js HTTP/1.1\u001b[0m\" 404 -\n"
          ],
          "name": "stderr"
        },
        {
          "output_type": "stream",
          "text": [
            "line 9\n",
            "line 40im not gna cry\n"
          ],
          "name": "stdout"
        },
        {
          "output_type": "stream",
          "text": [
            "127.0.0.1 - - [12/Jul/2020 18:28:00] \"\u001b[37mPOST / HTTP/1.1\u001b[0m\" 200 -\n"
          ],
          "name": "stderr"
        },
        {
          "output_type": "stream",
          "text": [
            "im not gna cry\n"
          ],
          "name": "stdout"
        },
        {
          "output_type": "stream",
          "text": [
            "127.0.0.1 - - [12/Jul/2020 18:28:01] \"\u001b[33mGET /docs/4.5/dist/js/bootstrap.bundle.min.js HTTP/1.1\u001b[0m\" 404 -\n",
            "127.0.0.1 - - [12/Jul/2020 18:28:01] \"\u001b[33mGET /docs/4.5/dist/js/bootstrap.bundle.min.js HTTP/1.1\u001b[0m\" 404 -\n"
          ],
          "name": "stderr"
        }
      ]
    }
  ]
}