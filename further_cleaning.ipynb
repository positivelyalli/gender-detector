{
 "cells": [
  {
   "cell_type": "code",
   "execution_count": 3,
   "metadata": {},
   "outputs": [],
   "source": [
    "import pandas as pd\n",
    "import re"
   ]
  },
  {
   "cell_type": "code",
   "execution_count": 13,
   "metadata": {},
   "outputs": [],
   "source": [
    "character = pd.read_csv(\"fixed_characters.csv\") #Do we need encoding =\"latin-1\"?\n",
    "lines = pd.read_csv(\"fixed_lines.csv\", encoding =\"latin-1\") "
   ]
  },
  {
   "cell_type": "code",
   "execution_count": 6,
   "metadata": {},
   "outputs": [],
   "source": [
    "newlines_df = lines\n",
    "newlines_df['dialogue'] = newlines_df['dialogue'].replace('-', ' ', regex=True).astype(str)"
   ]
  },
  {
   "cell_type": "code",
   "execution_count": 14,
   "metadata": {},
   "outputs": [],
   "source": [
    "character.name = character.name.str.lower()"
   ]
  },
  {
   "cell_type": "code",
   "execution_count": 16,
   "metadata": {},
   "outputs": [],
   "source": [
    "def reset_tabs(row):\n",
    "    character_id = row['id']\n",
    "    name = row['name']\n",
    "    movie_id = row['movie_id']\n",
    "    title = row['title']\n",
    "    gender = row['gender']\n",
    "    credit_position = row['credit_position']\n",
    "    if '\\t' in character_id:\n",
    "        lst = character_id.split('\\t')\n",
    "        character_id = lst[0]\n",
    "        name = lst[1]\n",
    "        movie_id = lst[2]\n",
    "        title = lst[3]\n",
    "        gender = lst[4]\n",
    "        credit_position = lst[5]\n",
    "        print(character_id)\n",
    "    series = pd.Series([character_id, name, movie_id, title, gender, credit_position])\n",
    "    return series"
   ]
  },
  {
   "cell_type": "code",
   "execution_count": 17,
   "metadata": {
    "scrolled": true
   },
   "outputs": [
    {
     "name": "stdout",
     "output_type": "stream",
     "text": [
      "u1602\n",
      "u1866\n",
      "u4660\n",
      "u4664\n",
      "u5011\n",
      "u6736\n",
      "u6737\n",
      "u6738\n",
      "u6739\n",
      "u6740\n",
      "u6741\n",
      "u6742\n",
      "u6743\n",
      "u7230\n",
      "u7845\n",
      "u7914\n",
      "u7917\n"
     ]
    }
   ],
   "source": [
    "character = character.apply(reset_tabs, axis=1)"
   ]
  },
  {
   "cell_type": "code",
   "execution_count": 28,
   "metadata": {},
   "outputs": [],
   "source": [
    "# character = character.rename(columns={\n",
    "#     0: 'id',\n",
    "#     1: 'name',\n",
    "#     2: 'movie_id',\n",
    "#     3: 'title',\n",
    "#     4: 'gender',\n",
    "#     5: 'credit_position'\n",
    "# })"
   ]
  },
  {
   "cell_type": "code",
   "execution_count": 22,
   "metadata": {},
   "outputs": [],
   "source": [
    "character = character.dropna()"
   ]
  },
  {
   "cell_type": "code",
   "execution_count": 64,
   "metadata": {},
   "outputs": [],
   "source": [
    "character.gender = character.gender.str.upper()\n",
    "character.loc[character.gender == \"?\", \"gender\"] = \"N\""
   ]
  },
  {
   "cell_type": "code",
   "execution_count": 40,
   "metadata": {},
   "outputs": [],
   "source": [
    "# character = character.rename(columns={\n",
    "#    'chid': 'chId',\n",
    "# })\n",
    "newlines_df = newlines_df[['lineId', 'chId', 'mId', 'chName', 'dialogue']]"
   ]
  },
  {
   "cell_type": "code",
   "execution_count": 44,
   "metadata": {},
   "outputs": [],
   "source": [
    "cl = newlines_df.merge(character, on='chId', how='left')"
   ]
  },
  {
   "cell_type": "code",
   "execution_count": 61,
   "metadata": {},
   "outputs": [],
   "source": [
    "slim_df = cl[['dialogue', 'gender']]\n",
    "slim_df.dialogue = slim_df.dialogue.apply(lambda x: x.lower())"
   ]
  },
  {
   "cell_type": "code",
   "execution_count": 62,
   "metadata": {},
   "outputs": [],
   "source": [
    "slim_df.gender.fillna('N', inplace =True)"
   ]
  },
  {
   "cell_type": "code",
   "execution_count": 63,
   "metadata": {},
   "outputs": [],
   "source": [
    "slim_df.gender = slim_df.gender.replace('M', 0, regex=True)\n",
    "slim_df.gender = slim_df.gender.replace('F', 1, regex=True)\n",
    "slim_df.gender = slim_df.gender.replace('N', 2, regex=True)"
   ]
  },
  {
   "cell_type": "code",
   "execution_count": 68,
   "metadata": {},
   "outputs": [],
   "source": [
    "# slim_df.to_csv('slim.csv', index=False)"
   ]
  },
  {
   "cell_type": "code",
   "execution_count": 71,
   "metadata": {},
   "outputs": [
    {
     "data": {
      "text/plain": [
       "dtype('int64')"
      ]
     },
     "execution_count": 71,
     "metadata": {},
     "output_type": "execute_result"
    }
   ],
   "source": [
    "slim = pd.read_csv('slim.csv')"
   ]
  },
  {
   "cell_type": "code",
   "execution_count": null,
   "metadata": {},
   "outputs": [],
   "source": []
  }
 ],
 "metadata": {
  "kernelspec": {
   "display_name": "Python 3",
   "language": "python",
   "name": "python3"
  },
  "language_info": {
   "codemirror_mode": {
    "name": "ipython",
    "version": 3
   },
   "file_extension": ".py",
   "mimetype": "text/x-python",
   "name": "python",
   "nbconvert_exporter": "python",
   "pygments_lexer": "ipython3",
   "version": "3.7.4"
  }
 },
 "nbformat": 4,
 "nbformat_minor": 2
}
